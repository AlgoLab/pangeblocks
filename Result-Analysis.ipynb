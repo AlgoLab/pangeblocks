{
 "cells": [
  {
   "cell_type": "code",
   "execution_count": 1,
   "metadata": {},
   "outputs": [],
   "source": [
    "import json\n",
    "from pathlib import Path\n",
    "import seaborn as sns\n",
    "import pandas as pd\n",
    "import numpy as np\n",
    "import matplotlib.pyplot as plt\n",
    "\n",
    "from src.blocks.stats import BlockStats\n",
    "from src import Block\n",
    "from src import PositionalString\n",
    "from tqdm import tqdm; tqdm.pandas()"
   ]
  },
  {
   "cell_type": "code",
   "execution_count": 2,
   "metadata": {},
   "outputs": [],
   "source": [
    "# INPUTS\n",
    "path_max_blocks_stats=Path(\"out/smk_max_blocks.tsv\")\n",
    "dir_max_blocks=Path(\"out/blocks/\")\n",
    "\n",
    "# load data\n",
    "df = pd.read_csv(path_max_blocks_stats,sep=\"\\t\", index_col=False, header=0)#, nrows=10)\n"
   ]
  },
  {
   "cell_type": "code",
   "execution_count": 3,
   "metadata": {},
   "outputs": [],
   "source": [
    "\n",
    "def path_block_from_msa(path_msa):\n",
    "    name_msa = Path(path_msa).stem\n",
    "    return dir_max_blocks.joinpath(f\"{name_msa}.json\")\n",
    "\n",
    "def gene_or_intergenic(path_msa):\n",
    "    if Path(path_msa).stem.startswith(\"GC\"):\n",
    "        return \"genic\"\n",
    "    else:\n",
    "        return \"intergenic\"\n"
   ]
  },
  {
   "cell_type": "markdown",
   "metadata": {},
   "source": [
    "### Load log data from blocks\n",
    "\n",
    "- `n_seqs`: number of sequences in the MSA\n",
    "- `n_unique_seqs`: number of unique sequences in the MSA\n",
    "- `n_cols`: number of columns in the MSA\n",
    "- `n_max_blocks`: number of maximal blocks in that MSA\n",
    "- `n_max_blocks_`: binned `n_max_blocks`\n",
    "- `t`: time spent computing maximal blocks (in seconds)\n",
    "- `t [min]`: same `t` in minutes\n",
    "- `t_[min]`: binned `t [min]`\n",
    "- `max_blocks/size_msa`: proportion [%] of maximal blocks w.r.t the size of the MSA (`n_cols x n_unique_seqs`)"
   ]
  },
  {
   "cell_type": "code",
   "execution_count": 4,
   "metadata": {},
   "outputs": [],
   "source": [
    "\n",
    "# time in minutes\n",
    "df[\"t [min]\"] = df[\"t\"]/60\n",
    "\n",
    "# binned time in minutes\n",
    "vec_bins=[0,1,10,15,30,45,60,120,180,300,720,1440,10_000] # bins in minutes\n",
    "t_label_bins = [f\"<{bin}\" for bin in vec_bins[1:]]\n",
    "df[\"t_[min]\"]=pd.cut(df[\"t [min]\"], bins=vec_bins, labels=t_label_bins)\n",
    "\n",
    "# region\n",
    "df[\"region\"] = df[\"path_msa\"].apply(gene_or_intergenic)    # genic or intergenic region\n",
    "\n",
    "# max blocks binned\n",
    "vec_bins=[0,3,5,10,15,50,100,150,200,300,500,1000,1500] # bins blocks\n",
    "max_blocks_label_bins = [f\"<{bin}\" for bin in vec_bins[1:]]\n",
    "df[\"n_max_blocks_\"]=pd.cut(df[\"n_max_blocks\"], bins=vec_bins, labels=max_blocks_label_bins)"
   ]
  },
  {
   "cell_type": "code",
   "execution_count": 5,
   "metadata": {},
   "outputs": [],
   "source": [
    "# 1. size_msa = n_rows x n_cols, n_rows: n_unique_seqs in the table\n",
    "df[\"max_blocks/size_msa\"] = df.apply(lambda row: round(100*row[\"n_max_blocks\"]/(row[\"n_unique_seqs\"]*row[\"n_cols\"]),2),axis=1)"
   ]
  },
  {
   "cell_type": "code",
   "execution_count": 6,
   "metadata": {},
   "outputs": [
    {
     "data": {
      "text/html": [
       "<div>\n",
       "<style scoped>\n",
       "    .dataframe tbody tr th:only-of-type {\n",
       "        vertical-align: middle;\n",
       "    }\n",
       "\n",
       "    .dataframe tbody tr th {\n",
       "        vertical-align: top;\n",
       "    }\n",
       "\n",
       "    .dataframe thead th {\n",
       "        text-align: right;\n",
       "    }\n",
       "</style>\n",
       "<table border=\"1\" class=\"dataframe\">\n",
       "  <thead>\n",
       "    <tr style=\"text-align: right;\">\n",
       "      <th></th>\n",
       "      <th>timestamp</th>\n",
       "      <th>path_msa</th>\n",
       "      <th>n_seqs</th>\n",
       "      <th>n_unique_seqs</th>\n",
       "      <th>n_cols</th>\n",
       "      <th>n_max_blocks</th>\n",
       "      <th>t</th>\n",
       "      <th>t [min]</th>\n",
       "      <th>t_[min]</th>\n",
       "      <th>region</th>\n",
       "      <th>n_max_blocks_</th>\n",
       "      <th>max_blocks/size_msa</th>\n",
       "    </tr>\n",
       "  </thead>\n",
       "  <tbody>\n",
       "    <tr>\n",
       "      <th>0</th>\n",
       "      <td>Sat Oct 29 15:55:34 2022</td>\n",
       "      <td>/data/msas/msas/Cluster_13942.fa</td>\n",
       "      <td>19</td>\n",
       "      <td>2</td>\n",
       "      <td>38</td>\n",
       "      <td>2</td>\n",
       "      <td>0.367273</td>\n",
       "      <td>0.006121</td>\n",
       "      <td>&lt;1</td>\n",
       "      <td>intergenic</td>\n",
       "      <td>&lt;3</td>\n",
       "      <td>2.63</td>\n",
       "    </tr>\n",
       "    <tr>\n",
       "      <th>1</th>\n",
       "      <td>Sat Oct 29 15:55:35 2022</td>\n",
       "      <td>/data/msas/msas/Cluster_12332.fa</td>\n",
       "      <td>19</td>\n",
       "      <td>2</td>\n",
       "      <td>57</td>\n",
       "      <td>2</td>\n",
       "      <td>0.793138</td>\n",
       "      <td>0.013219</td>\n",
       "      <td>&lt;1</td>\n",
       "      <td>intergenic</td>\n",
       "      <td>&lt;3</td>\n",
       "      <td>1.75</td>\n",
       "    </tr>\n",
       "    <tr>\n",
       "      <th>2</th>\n",
       "      <td>Sat Oct 29 15:55:35 2022</td>\n",
       "      <td>/data/msas/msas/Cluster_11869.fa</td>\n",
       "      <td>4</td>\n",
       "      <td>2</td>\n",
       "      <td>66</td>\n",
       "      <td>4</td>\n",
       "      <td>1.171890</td>\n",
       "      <td>0.019531</td>\n",
       "      <td>&lt;1</td>\n",
       "      <td>intergenic</td>\n",
       "      <td>&lt;5</td>\n",
       "      <td>3.03</td>\n",
       "    </tr>\n",
       "    <tr>\n",
       "      <th>3</th>\n",
       "      <td>Sat Oct 29 15:55:35 2022</td>\n",
       "      <td>/data/msas/msas/Cluster_10907.fa</td>\n",
       "      <td>11</td>\n",
       "      <td>2</td>\n",
       "      <td>78</td>\n",
       "      <td>2</td>\n",
       "      <td>1.594922</td>\n",
       "      <td>0.026582</td>\n",
       "      <td>&lt;1</td>\n",
       "      <td>intergenic</td>\n",
       "      <td>&lt;3</td>\n",
       "      <td>1.28</td>\n",
       "    </tr>\n",
       "    <tr>\n",
       "      <th>4</th>\n",
       "      <td>Sat Oct 29 15:55:37 2022</td>\n",
       "      <td>/data/msas/msas/Cluster_10644.fa</td>\n",
       "      <td>155</td>\n",
       "      <td>3</td>\n",
       "      <td>82</td>\n",
       "      <td>5</td>\n",
       "      <td>3.114183</td>\n",
       "      <td>0.051903</td>\n",
       "      <td>&lt;1</td>\n",
       "      <td>intergenic</td>\n",
       "      <td>&lt;5</td>\n",
       "      <td>2.03</td>\n",
       "    </tr>\n",
       "  </tbody>\n",
       "</table>\n",
       "</div>"
      ],
      "text/plain": [
       "                  timestamp                          path_msa  n_seqs  \\\n",
       "0  Sat Oct 29 15:55:34 2022  /data/msas/msas/Cluster_13942.fa      19   \n",
       "1  Sat Oct 29 15:55:35 2022  /data/msas/msas/Cluster_12332.fa      19   \n",
       "2  Sat Oct 29 15:55:35 2022  /data/msas/msas/Cluster_11869.fa       4   \n",
       "3  Sat Oct 29 15:55:35 2022  /data/msas/msas/Cluster_10907.fa      11   \n",
       "4  Sat Oct 29 15:55:37 2022  /data/msas/msas/Cluster_10644.fa     155   \n",
       "\n",
       "   n_unique_seqs  n_cols  n_max_blocks         t   t [min] t_[min]  \\\n",
       "0              2      38             2  0.367273  0.006121      <1   \n",
       "1              2      57             2  0.793138  0.013219      <1   \n",
       "2              2      66             4  1.171890  0.019531      <1   \n",
       "3              2      78             2  1.594922  0.026582      <1   \n",
       "4              3      82             5  3.114183  0.051903      <1   \n",
       "\n",
       "       region n_max_blocks_  max_blocks/size_msa  \n",
       "0  intergenic            <3                 2.63  \n",
       "1  intergenic            <3                 1.75  \n",
       "2  intergenic            <5                 3.03  \n",
       "3  intergenic            <3                 1.28  \n",
       "4  intergenic            <5                 2.03  "
      ]
     },
     "execution_count": 6,
     "metadata": {},
     "output_type": "execute_result"
    }
   ],
   "source": [
    "df.head()"
   ]
  },
  {
   "cell_type": "code",
   "execution_count": 8,
   "metadata": {},
   "outputs": [
    {
     "data": {
      "text/plain": [
       "<seaborn.axisgrid.FacetGrid at 0x7f0cfc5d3bb0>"
      ]
     },
     "execution_count": 8,
     "metadata": {},
     "output_type": "execute_result"
    },
    {
     "data": {
      "image/png": "[encoded data removed]",
      "text/plain": [
       "<Figure size 619.75x500 with 1 Axes>"
      ]
     },
     "metadata": {},
     "output_type": "display_data"
    }
   ],
   "source": [
    "time_plot = sns.relplot(df,\n",
    "    x=\"n_cols\",\n",
    "    y=\"n_unique_seqs\",\n",
    "    hue=\"t_[min]\",\n",
    "    style=\"region\"\n",
    ")\n",
    "time_plot.set(title=\"Time for computing Max-Blocks blocks for each MSA by region\")"
   ]
  },
  {
   "cell_type": "code",
   "execution_count": 9,
   "metadata": {},
   "outputs": [
    {
     "data": {
      "text/plain": [
       "<seaborn.axisgrid.FacetGrid at 0x7f0c39e44be0>"
      ]
     },
     "execution_count": 9,
     "metadata": {},
     "output_type": "execute_result"
    },
    {
     "data": {
      "image/png": "[encoded data removed]",
      "text/plain": [
       "<Figure size 626.472x500 with 1 Axes>"
      ]
     },
     "metadata": {},
     "output_type": "display_data"
    }
   ],
   "source": [
    "max_block_plot=sns.relplot(df,\n",
    "    x=\"n_cols\",\n",
    "    y=\"n_unique_seqs\",\n",
    "    hue=\"n_max_blocks_\",\n",
    "    style=\"region\"\n",
    ")\n",
    "max_block_plot.set(title=\"Number of Max-Blocks for each MSA\")"
   ]
  },
  {
   "cell_type": "markdown",
   "metadata": {},
   "source": [
    "# Stats for blocks\n",
    "- `region`: either Genic or Intergenic\n",
    "- `number_of_blocks`: number of blocks in the file, in this case is equal to `n_max_blocks`\n",
    "- `blocks_with_overlap`: number of blocks that overlap at least once with another block\n",
    "- `inter_between_blocks`: number of intersections between pairs of blocks"
   ]
  },
  {
   "cell_type": "code",
   "execution_count": 10,
   "metadata": {},
   "outputs": [
    {
     "name": "stderr",
     "output_type": "stream",
     "text": [
      "100%|██████████| 10/10 [00:00<00:00, 735.55it/s]\n"
     ]
    },
    {
     "data": {
      "text/html": [
       "<div>\n",
       "<style scoped>\n",
       "    .dataframe tbody tr th:only-of-type {\n",
       "        vertical-align: middle;\n",
       "    }\n",
       "\n",
       "    .dataframe tbody tr th {\n",
       "        vertical-align: top;\n",
       "    }\n",
       "\n",
       "    .dataframe thead th {\n",
       "        text-align: right;\n",
       "    }\n",
       "</style>\n",
       "<table border=\"1\" class=\"dataframe\">\n",
       "  <thead>\n",
       "    <tr style=\"text-align: right;\">\n",
       "      <th></th>\n",
       "      <th>timestamp</th>\n",
       "      <th>path_msa</th>\n",
       "      <th>n_seqs</th>\n",
       "      <th>n_unique_seqs</th>\n",
       "      <th>n_cols</th>\n",
       "      <th>n_max_blocks</th>\n",
       "      <th>t</th>\n",
       "      <th>t [min]</th>\n",
       "      <th>t_[min]</th>\n",
       "      <th>region</th>\n",
       "      <th>n_max_blocks_</th>\n",
       "      <th>max_blocks/size_msa</th>\n",
       "      <th>number_of_blocks</th>\n",
       "      <th>blocks_with_overlap</th>\n",
       "      <th>inter_between_blocks</th>\n",
       "    </tr>\n",
       "  </thead>\n",
       "  <tbody>\n",
       "    <tr>\n",
       "      <th>0</th>\n",
       "      <td>Sat Oct 29 15:55:34 2022</td>\n",
       "      <td>/data/msas/msas/Cluster_13942.fa</td>\n",
       "      <td>19</td>\n",
       "      <td>2</td>\n",
       "      <td>38</td>\n",
       "      <td>2</td>\n",
       "      <td>0.367273</td>\n",
       "      <td>0.006121</td>\n",
       "      <td>&lt;1</td>\n",
       "      <td>intergenic</td>\n",
       "      <td>&lt;3</td>\n",
       "      <td>2.63</td>\n",
       "      <td>2</td>\n",
       "      <td>0</td>\n",
       "      <td>0</td>\n",
       "    </tr>\n",
       "    <tr>\n",
       "      <th>1</th>\n",
       "      <td>Sat Oct 29 15:55:35 2022</td>\n",
       "      <td>/data/msas/msas/Cluster_12332.fa</td>\n",
       "      <td>19</td>\n",
       "      <td>2</td>\n",
       "      <td>57</td>\n",
       "      <td>2</td>\n",
       "      <td>0.793138</td>\n",
       "      <td>0.013219</td>\n",
       "      <td>&lt;1</td>\n",
       "      <td>intergenic</td>\n",
       "      <td>&lt;3</td>\n",
       "      <td>1.75</td>\n",
       "      <td>2</td>\n",
       "      <td>0</td>\n",
       "      <td>0</td>\n",
       "    </tr>\n",
       "    <tr>\n",
       "      <th>2</th>\n",
       "      <td>Sat Oct 29 15:55:35 2022</td>\n",
       "      <td>/data/msas/msas/Cluster_11869.fa</td>\n",
       "      <td>4</td>\n",
       "      <td>2</td>\n",
       "      <td>66</td>\n",
       "      <td>4</td>\n",
       "      <td>1.171890</td>\n",
       "      <td>0.019531</td>\n",
       "      <td>&lt;1</td>\n",
       "      <td>intergenic</td>\n",
       "      <td>&lt;5</td>\n",
       "      <td>3.03</td>\n",
       "      <td>4</td>\n",
       "      <td>0</td>\n",
       "      <td>0</td>\n",
       "    </tr>\n",
       "    <tr>\n",
       "      <th>3</th>\n",
       "      <td>Sat Oct 29 15:55:35 2022</td>\n",
       "      <td>/data/msas/msas/Cluster_10907.fa</td>\n",
       "      <td>11</td>\n",
       "      <td>2</td>\n",
       "      <td>78</td>\n",
       "      <td>2</td>\n",
       "      <td>1.594922</td>\n",
       "      <td>0.026582</td>\n",
       "      <td>&lt;1</td>\n",
       "      <td>intergenic</td>\n",
       "      <td>&lt;3</td>\n",
       "      <td>1.28</td>\n",
       "      <td>2</td>\n",
       "      <td>0</td>\n",
       "      <td>0</td>\n",
       "    </tr>\n",
       "    <tr>\n",
       "      <th>4</th>\n",
       "      <td>Sat Oct 29 15:55:37 2022</td>\n",
       "      <td>/data/msas/msas/Cluster_10644.fa</td>\n",
       "      <td>155</td>\n",
       "      <td>3</td>\n",
       "      <td>82</td>\n",
       "      <td>5</td>\n",
       "      <td>3.114183</td>\n",
       "      <td>0.051903</td>\n",
       "      <td>&lt;1</td>\n",
       "      <td>intergenic</td>\n",
       "      <td>&lt;5</td>\n",
       "      <td>2.03</td>\n",
       "      <td>5</td>\n",
       "      <td>3</td>\n",
       "      <td>6</td>\n",
       "    </tr>\n",
       "  </tbody>\n",
       "</table>\n",
       "</div>"
      ],
      "text/plain": [
       "                  timestamp                          path_msa  n_seqs  \\\n",
       "0  Sat Oct 29 15:55:34 2022  /data/msas/msas/Cluster_13942.fa      19   \n",
       "1  Sat Oct 29 15:55:35 2022  /data/msas/msas/Cluster_12332.fa      19   \n",
       "2  Sat Oct 29 15:55:35 2022  /data/msas/msas/Cluster_11869.fa       4   \n",
       "3  Sat Oct 29 15:55:35 2022  /data/msas/msas/Cluster_10907.fa      11   \n",
       "4  Sat Oct 29 15:55:37 2022  /data/msas/msas/Cluster_10644.fa     155   \n",
       "\n",
       "   n_unique_seqs  n_cols  n_max_blocks         t   t [min] t_[min]  \\\n",
       "0              2      38             2  0.367273  0.006121      <1   \n",
       "1              2      57             2  0.793138  0.013219      <1   \n",
       "2              2      66             4  1.171890  0.019531      <1   \n",
       "3              2      78             2  1.594922  0.026582      <1   \n",
       "4              3      82             5  3.114183  0.051903      <1   \n",
       "\n",
       "       region n_max_blocks_  max_blocks/size_msa  number_of_blocks  \\\n",
       "0  intergenic            <3                 2.63                 2   \n",
       "1  intergenic            <3                 1.75                 2   \n",
       "2  intergenic            <5                 3.03                 4   \n",
       "3  intergenic            <3                 1.28                 2   \n",
       "4  intergenic            <5                 2.03                 5   \n",
       "\n",
       "   blocks_with_overlap  inter_between_blocks  \n",
       "0                    0                     0  \n",
       "1                    0                     0  \n",
       "2                    0                     0  \n",
       "3                    0                     0  \n",
       "4                    3                     6  "
      ]
     },
     "execution_count": 10,
     "metadata": {},
     "output_type": "execute_result"
    }
   ],
   "source": [
    "# statistics for each block \n",
    "block_stats=BlockStats()\n",
    "\n",
    "df_stats=df.progress_apply(\n",
    "    lambda row: block_stats(path_blocks=path_block_from_msa(row[\"path_msa\"])),\n",
    "    axis=1 ) # output is a dictionary\n",
    "df = pd.concat([df, pd.DataFrame(list(df_stats))], axis=1) # add stats \n",
    "\n",
    "df.head()"
   ]
  },
  {
   "cell_type": "markdown",
   "metadata": {},
   "source": [
    "### mean and max of some features by genic/intergenic region\n"
   ]
  },
  {
   "cell_type": "code",
   "execution_count": 11,
   "metadata": {},
   "outputs": [],
   "source": [
    "features0=[\"n_unique_seqs\",\"n_cols\"]\n",
    "features1=[\"n_max_blocks\",\"t [min]\"]\n",
    "features2=[\"blocks_with_overlap\", \"inter_between_blocks\"]"
   ]
  },
  {
   "cell_type": "code",
   "execution_count": 12,
   "metadata": {},
   "outputs": [
    {
     "data": {
      "text/html": [
       "<div>\n",
       "<style scoped>\n",
       "    .dataframe tbody tr th:only-of-type {\n",
       "        vertical-align: middle;\n",
       "    }\n",
       "\n",
       "    .dataframe tbody tr th {\n",
       "        vertical-align: top;\n",
       "    }\n",
       "\n",
       "    .dataframe thead tr th {\n",
       "        text-align: left;\n",
       "    }\n",
       "\n",
       "    .dataframe thead tr:last-of-type th {\n",
       "        text-align: right;\n",
       "    }\n",
       "</style>\n",
       "<table border=\"1\" class=\"dataframe\">\n",
       "  <thead>\n",
       "    <tr>\n",
       "      <th></th>\n",
       "      <th colspan=\"8\" halign=\"left\">n_unique_seqs</th>\n",
       "      <th colspan=\"8\" halign=\"left\">n_cols</th>\n",
       "    </tr>\n",
       "    <tr>\n",
       "      <th></th>\n",
       "      <th>count</th>\n",
       "      <th>mean</th>\n",
       "      <th>std</th>\n",
       "      <th>min</th>\n",
       "      <th>25%</th>\n",
       "      <th>50%</th>\n",
       "      <th>75%</th>\n",
       "      <th>max</th>\n",
       "      <th>count</th>\n",
       "      <th>mean</th>\n",
       "      <th>std</th>\n",
       "      <th>min</th>\n",
       "      <th>25%</th>\n",
       "      <th>50%</th>\n",
       "      <th>75%</th>\n",
       "      <th>max</th>\n",
       "    </tr>\n",
       "    <tr>\n",
       "      <th>region</th>\n",
       "      <th></th>\n",
       "      <th></th>\n",
       "      <th></th>\n",
       "      <th></th>\n",
       "      <th></th>\n",
       "      <th></th>\n",
       "      <th></th>\n",
       "      <th></th>\n",
       "      <th></th>\n",
       "      <th></th>\n",
       "      <th></th>\n",
       "      <th></th>\n",
       "      <th></th>\n",
       "      <th></th>\n",
       "      <th></th>\n",
       "      <th></th>\n",
       "    </tr>\n",
       "  </thead>\n",
       "  <tbody>\n",
       "    <tr>\n",
       "      <th>genic</th>\n",
       "      <td>3.0</td>\n",
       "      <td>3.666667</td>\n",
       "      <td>1.527525</td>\n",
       "      <td>2.0</td>\n",
       "      <td>3.0</td>\n",
       "      <td>4.0</td>\n",
       "      <td>4.5</td>\n",
       "      <td>5.0</td>\n",
       "      <td>3.0</td>\n",
       "      <td>182.0</td>\n",
       "      <td>4.582576</td>\n",
       "      <td>177.0</td>\n",
       "      <td>180.0</td>\n",
       "      <td>183.0</td>\n",
       "      <td>184.5</td>\n",
       "      <td>186.0</td>\n",
       "    </tr>\n",
       "    <tr>\n",
       "      <th>intergenic</th>\n",
       "      <td>7.0</td>\n",
       "      <td>2.571429</td>\n",
       "      <td>1.133893</td>\n",
       "      <td>2.0</td>\n",
       "      <td>2.0</td>\n",
       "      <td>2.0</td>\n",
       "      <td>2.5</td>\n",
       "      <td>5.0</td>\n",
       "      <td>7.0</td>\n",
       "      <td>87.0</td>\n",
       "      <td>45.931108</td>\n",
       "      <td>38.0</td>\n",
       "      <td>61.5</td>\n",
       "      <td>78.0</td>\n",
       "      <td>96.0</td>\n",
       "      <td>178.0</td>\n",
       "    </tr>\n",
       "  </tbody>\n",
       "</table>\n",
       "</div>"
      ],
      "text/plain": [
       "           n_unique_seqs                                              n_cols  \\\n",
       "                   count      mean       std  min  25%  50%  75%  max  count   \n",
       "region                                                                         \n",
       "genic                3.0  3.666667  1.527525  2.0  3.0  4.0  4.5  5.0    3.0   \n",
       "intergenic           7.0  2.571429  1.133893  2.0  2.0  2.0  2.5  5.0    7.0   \n",
       "\n",
       "                                                                 \n",
       "             mean        std    min    25%    50%    75%    max  \n",
       "region                                                           \n",
       "genic       182.0   4.582576  177.0  180.0  183.0  184.5  186.0  \n",
       "intergenic   87.0  45.931108   38.0   61.5   78.0   96.0  178.0  "
      ]
     },
     "execution_count": 12,
     "metadata": {},
     "output_type": "execute_result"
    }
   ],
   "source": [
    "df.groupby(\"region\")[features0].describe()"
   ]
  },
  {
   "cell_type": "code",
   "execution_count": 13,
   "metadata": {},
   "outputs": [
    {
     "data": {
      "text/html": [
       "<div>\n",
       "<style scoped>\n",
       "    .dataframe tbody tr th:only-of-type {\n",
       "        vertical-align: middle;\n",
       "    }\n",
       "\n",
       "    .dataframe tbody tr th {\n",
       "        vertical-align: top;\n",
       "    }\n",
       "\n",
       "    .dataframe thead tr th {\n",
       "        text-align: left;\n",
       "    }\n",
       "\n",
       "    .dataframe thead tr:last-of-type th {\n",
       "        text-align: right;\n",
       "    }\n",
       "</style>\n",
       "<table border=\"1\" class=\"dataframe\">\n",
       "  <thead>\n",
       "    <tr>\n",
       "      <th></th>\n",
       "      <th colspan=\"8\" halign=\"left\">n_max_blocks</th>\n",
       "      <th colspan=\"8\" halign=\"left\">t [min]</th>\n",
       "    </tr>\n",
       "    <tr>\n",
       "      <th></th>\n",
       "      <th>count</th>\n",
       "      <th>mean</th>\n",
       "      <th>std</th>\n",
       "      <th>min</th>\n",
       "      <th>25%</th>\n",
       "      <th>50%</th>\n",
       "      <th>75%</th>\n",
       "      <th>max</th>\n",
       "      <th>count</th>\n",
       "      <th>mean</th>\n",
       "      <th>std</th>\n",
       "      <th>min</th>\n",
       "      <th>25%</th>\n",
       "      <th>50%</th>\n",
       "      <th>75%</th>\n",
       "      <th>max</th>\n",
       "    </tr>\n",
       "    <tr>\n",
       "      <th>region</th>\n",
       "      <th></th>\n",
       "      <th></th>\n",
       "      <th></th>\n",
       "      <th></th>\n",
       "      <th></th>\n",
       "      <th></th>\n",
       "      <th></th>\n",
       "      <th></th>\n",
       "      <th></th>\n",
       "      <th></th>\n",
       "      <th></th>\n",
       "      <th></th>\n",
       "      <th></th>\n",
       "      <th></th>\n",
       "      <th></th>\n",
       "      <th></th>\n",
       "    </tr>\n",
       "  </thead>\n",
       "  <tbody>\n",
       "    <tr>\n",
       "      <th>genic</th>\n",
       "      <td>3.0</td>\n",
       "      <td>14.666667</td>\n",
       "      <td>13.012814</td>\n",
       "      <td>2.0</td>\n",
       "      <td>8.0</td>\n",
       "      <td>14.0</td>\n",
       "      <td>21.0</td>\n",
       "      <td>28.0</td>\n",
       "      <td>3.0</td>\n",
       "      <td>0.327707</td>\n",
       "      <td>0.102418</td>\n",
       "      <td>0.210702</td>\n",
       "      <td>0.291006</td>\n",
       "      <td>0.371309</td>\n",
       "      <td>0.386209</td>\n",
       "      <td>0.401108</td>\n",
       "    </tr>\n",
       "    <tr>\n",
       "      <th>intergenic</th>\n",
       "      <td>7.0</td>\n",
       "      <td>5.714286</td>\n",
       "      <td>7.273566</td>\n",
       "      <td>2.0</td>\n",
       "      <td>2.0</td>\n",
       "      <td>3.0</td>\n",
       "      <td>4.5</td>\n",
       "      <td>22.0</td>\n",
       "      <td>7.0</td>\n",
       "      <td>0.085153</td>\n",
       "      <td>0.152250</td>\n",
       "      <td>0.006121</td>\n",
       "      <td>0.016375</td>\n",
       "      <td>0.026582</td>\n",
       "      <td>0.051250</td>\n",
       "      <td>0.428117</td>\n",
       "    </tr>\n",
       "  </tbody>\n",
       "</table>\n",
       "</div>"
      ],
      "text/plain": [
       "           n_max_blocks                                                    \\\n",
       "                  count       mean        std  min  25%   50%   75%   max   \n",
       "region                                                                      \n",
       "genic               3.0  14.666667  13.012814  2.0  8.0  14.0  21.0  28.0   \n",
       "intergenic          7.0   5.714286   7.273566  2.0  2.0   3.0   4.5  22.0   \n",
       "\n",
       "           t [min]                                                    \\\n",
       "             count      mean       std       min       25%       50%   \n",
       "region                                                                 \n",
       "genic          3.0  0.327707  0.102418  0.210702  0.291006  0.371309   \n",
       "intergenic     7.0  0.085153  0.152250  0.006121  0.016375  0.026582   \n",
       "\n",
       "                                \n",
       "                 75%       max  \n",
       "region                          \n",
       "genic       0.386209  0.401108  \n",
       "intergenic  0.051250  0.428117  "
      ]
     },
     "execution_count": 13,
     "metadata": {},
     "output_type": "execute_result"
    }
   ],
   "source": [
    "df.groupby(\"region\")[features1].describe()"
   ]
  },
  {
   "cell_type": "code",
   "execution_count": 14,
   "metadata": {},
   "outputs": [
    {
     "data": {
      "text/html": [
       "<div>\n",
       "<style scoped>\n",
       "    .dataframe tbody tr th:only-of-type {\n",
       "        vertical-align: middle;\n",
       "    }\n",
       "\n",
       "    .dataframe tbody tr th {\n",
       "        vertical-align: top;\n",
       "    }\n",
       "\n",
       "    .dataframe thead tr th {\n",
       "        text-align: left;\n",
       "    }\n",
       "\n",
       "    .dataframe thead tr:last-of-type th {\n",
       "        text-align: right;\n",
       "    }\n",
       "</style>\n",
       "<table border=\"1\" class=\"dataframe\">\n",
       "  <thead>\n",
       "    <tr>\n",
       "      <th></th>\n",
       "      <th colspan=\"8\" halign=\"left\">blocks_with_overlap</th>\n",
       "      <th colspan=\"8\" halign=\"left\">inter_between_blocks</th>\n",
       "    </tr>\n",
       "    <tr>\n",
       "      <th></th>\n",
       "      <th>count</th>\n",
       "      <th>mean</th>\n",
       "      <th>std</th>\n",
       "      <th>min</th>\n",
       "      <th>25%</th>\n",
       "      <th>50%</th>\n",
       "      <th>75%</th>\n",
       "      <th>max</th>\n",
       "      <th>count</th>\n",
       "      <th>mean</th>\n",
       "      <th>std</th>\n",
       "      <th>min</th>\n",
       "      <th>25%</th>\n",
       "      <th>50%</th>\n",
       "      <th>75%</th>\n",
       "      <th>max</th>\n",
       "    </tr>\n",
       "    <tr>\n",
       "      <th>region</th>\n",
       "      <th></th>\n",
       "      <th></th>\n",
       "      <th></th>\n",
       "      <th></th>\n",
       "      <th></th>\n",
       "      <th></th>\n",
       "      <th></th>\n",
       "      <th></th>\n",
       "      <th></th>\n",
       "      <th></th>\n",
       "      <th></th>\n",
       "      <th></th>\n",
       "      <th></th>\n",
       "      <th></th>\n",
       "      <th></th>\n",
       "      <th></th>\n",
       "    </tr>\n",
       "  </thead>\n",
       "  <tbody>\n",
       "    <tr>\n",
       "      <th>genic</th>\n",
       "      <td>3.0</td>\n",
       "      <td>13.333333</td>\n",
       "      <td>13.503086</td>\n",
       "      <td>0.0</td>\n",
       "      <td>6.5</td>\n",
       "      <td>13.0</td>\n",
       "      <td>20.0</td>\n",
       "      <td>27.0</td>\n",
       "      <td>3.0</td>\n",
       "      <td>64.333333</td>\n",
       "      <td>55.824129</td>\n",
       "      <td>0.0</td>\n",
       "      <td>46.5</td>\n",
       "      <td>93.0</td>\n",
       "      <td>96.5</td>\n",
       "      <td>100.0</td>\n",
       "    </tr>\n",
       "    <tr>\n",
       "      <th>intergenic</th>\n",
       "      <td>7.0</td>\n",
       "      <td>3.428571</td>\n",
       "      <td>7.828519</td>\n",
       "      <td>0.0</td>\n",
       "      <td>0.0</td>\n",
       "      <td>0.0</td>\n",
       "      <td>1.5</td>\n",
       "      <td>21.0</td>\n",
       "      <td>7.0</td>\n",
       "      <td>27.857143</td>\n",
       "      <td>71.092495</td>\n",
       "      <td>0.0</td>\n",
       "      <td>0.0</td>\n",
       "      <td>0.0</td>\n",
       "      <td>3.0</td>\n",
       "      <td>189.0</td>\n",
       "    </tr>\n",
       "  </tbody>\n",
       "</table>\n",
       "</div>"
      ],
      "text/plain": [
       "           blocks_with_overlap                                              \\\n",
       "                         count       mean        std  min  25%   50%   75%   \n",
       "region                                                                       \n",
       "genic                      3.0  13.333333  13.503086  0.0  6.5  13.0  20.0   \n",
       "intergenic                 7.0   3.428571   7.828519  0.0  0.0   0.0   1.5   \n",
       "\n",
       "                 inter_between_blocks                                         \\\n",
       "             max                count       mean        std  min   25%   50%   \n",
       "region                                                                         \n",
       "genic       27.0                  3.0  64.333333  55.824129  0.0  46.5  93.0   \n",
       "intergenic  21.0                  7.0  27.857143  71.092495  0.0   0.0   0.0   \n",
       "\n",
       "                         \n",
       "             75%    max  \n",
       "region                   \n",
       "genic       96.5  100.0  \n",
       "intergenic   3.0  189.0  "
      ]
     },
     "execution_count": 14,
     "metadata": {},
     "output_type": "execute_result"
    }
   ],
   "source": [
    "df.groupby(\"region\")[features2].describe()"
   ]
  },
  {
   "cell_type": "markdown",
   "metadata": {},
   "source": [
    "___\n",
    "## Draft [do not consider]"
   ]
  },
  {
   "cell_type": "code",
   "execution_count": 15,
   "metadata": {},
   "outputs": [],
   "source": [
    "from src.blocks.block_decomposition import block_decomposition\n",
    "from src.blocks.block import Block"
   ]
  },
  {
   "cell_type": "code",
   "execution_count": 16,
   "metadata": {},
   "outputs": [
    {
     "name": "stdout",
     "output_type": "stream",
     "text": [
      "Condicion1\n"
     ]
    },
    {
     "data": {
      "text/plain": [
       "[Block(K=[2, 3], i=1, j=3, label='ACG'),\n",
       " Block(K=[1, 2, 3], i=4, j=5, label='TT')]"
      ]
     },
     "execution_count": 16,
     "metadata": {},
     "output_type": "execute_result"
    }
   ],
   "source": [
    "b1 = Block([1,2,3],1,5,\"ACGTT\")\n",
    "b2 = Block([2,3],1,3,\"ACG\")\n",
    "block_decomposition(b1,b2)"
   ]
  },
  {
   "cell_type": "code",
   "execution_count": 17,
   "metadata": {},
   "outputs": [
    {
     "name": "stdout",
     "output_type": "stream",
     "text": [
      "Condicion2\n"
     ]
    },
    {
     "data": {
      "text/plain": [
       "[Block(K=[2, 3], i=1, j=1, label='A'),\n",
       " Block(K=[1, 2, 3], i=2, j=4, label='CGT'),\n",
       " Block(K=[2, 3], i=5, j=5, label='T')]"
      ]
     },
     "execution_count": 17,
     "metadata": {},
     "output_type": "execute_result"
    }
   ],
   "source": [
    "b1 = Block([2,3],1,5,\"ACGTT\")\n",
    "b2 = Block([1,2,3],2,4,\"CGT\")\n",
    "\n",
    "block_decomposition(b1,b2)"
   ]
  },
  {
   "cell_type": "code",
   "execution_count": 18,
   "metadata": {},
   "outputs": [
    {
     "name": "stdout",
     "output_type": "stream",
     "text": [
      "Condicion3\n"
     ]
    },
    {
     "data": {
      "text/plain": [
       "[Block(K=[1, 2], i=1, j=3, label='ACG'),\n",
       " Block(K=[1, 2, 3], i=4, j=5, label='TT')]"
      ]
     },
     "execution_count": 18,
     "metadata": {},
     "output_type": "execute_result"
    }
   ],
   "source": [
    "b1 = Block([1,2],1,5,\"ACGTT\")\n",
    "b2 = Block([1,2,3],4,5,\"TT\")\n",
    "block_decomposition(b1,b2)"
   ]
  },
  {
   "cell_type": "code",
   "execution_count": 19,
   "metadata": {},
   "outputs": [
    {
     "name": "stdout",
     "output_type": "stream",
     "text": [
      "Condicion4\n"
     ]
    },
    {
     "data": {
      "text/plain": [
       "[Block(K=[1, 2], i=1, j=2, label='AC'),\n",
       " Block(K=[2, 3], i=3, j=5, label='GTT'),\n",
       " Block(K=[1, 2], i=1, j=4, label='ACGT'),\n",
       " Block(K=[2, 3], i=5, j=5, label='T')]"
      ]
     },
     "execution_count": 19,
     "metadata": {},
     "output_type": "execute_result"
    }
   ],
   "source": [
    "b1 = Block([1,2],1,4,\"ACGT\")\n",
    "b2 = Block([2,3],3,5,\"GTT\")\n",
    "block_decomposition(b1,b2)"
   ]
  }
 ],
 "metadata": {
  "kernelspec": {
   "display_name": "Python 3.9.4 ('pbenv': venv)",
   "language": "python",
   "name": "python3"
  },
  "language_info": {
   "codemirror_mode": {
    "name": "ipython",
    "version": 3
   },
   "file_extension": ".py",
   "mimetype": "text/x-python",
   "name": "python",
   "nbconvert_exporter": "python",
   "pygments_lexer": "ipython3",
   "version": "3.9.4"
  },
  "orig_nbformat": 4,
  "vscode": {
   "interpreter": {
    "hash": "47a7d1b8626d32b7c6ea9f1aa80728323f525f86bb7f50d5251cf6ae4c6522f3"
   }
  }
 },
 "nbformat": 4,
 "nbformat_minor": 2
}
