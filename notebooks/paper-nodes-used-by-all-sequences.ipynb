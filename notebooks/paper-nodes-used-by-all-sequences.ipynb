{
 "cells": [
  {
   "cell_type": "markdown",
   "metadata": {},
   "source": [
    "# Number of vertical blocks chosen by the ILP for different objective functions w.r.t. alpha \n",
    "\n",
    "All vertical blocks with columns less than $\\alpha$ are chosen as optimum. \n",
    "We want to see if vertical blocks are part of the optimal solution, in which case, fixing them\n",
    "helps to reduce computational resources and to achieve the same solution (or close enough to the optimal value). \n",
    "\n",
    "We show this efect for all objective functions. \n",
    "\n",
    "1. count the number of vertical blocks in the optimal solution\n",
    "2. count the number of vertical blocks in the MSA\n",
    "3. compute the ratio (1)/(2)\n",
    "\n",
    "Equivalently, we just need to \n",
    "1. count nodes used by all sequences in the final graph\n"
   ]
  },
  {
   "cell_type": "code",
   "execution_count": 1,
   "metadata": {
    "metadata": {}
   },
   "outputs": [],
   "source": [
    "import sys\n",
    "sys.path.append(\"..\")\n",
    "\n",
    "import json\n",
    "import seaborn as sns \n",
    "import pandas as pd\n",
    "\n",
    "from pathlib import Path\n",
    "from collections import defaultdict, namedtuple\n",
    "# from src.graph.load_gfa import load_gfa\n",
    "from src.graph.info_from_gfa import load_info_graph\n",
    "from src.utils.params_from_path import params_from_path\n",
    "from src.utils.info_from_exp import get_info_from_exp\n",
    "\n",
    "from src.graph.load_gfa import load_gfa\n",
    "\n",
    "import numpy as np\n",
    "import matplotlib.pyplot as plt"
   ]
  },
  {
   "cell_type": "code",
   "execution_count": 2,
   "metadata": {
    "metadata": {}
   },
   "outputs": [],
   "source": [
    "ORDER_OBJ_FUNCTIONS = [\"blocks\", \"weighted\", \"depth\",]# \"strings\",]# \"pen_strings\"]\n",
    "\n",
    "NSEQS = 50\n",
    "NAME = f\"{NSEQS}-sars-cov-2-ena\"\n",
    "PATH_SAVE = Path(f\"../output-paper-nodes-used-by-all-sequences/sars-cov-2-{NSEQS}\")\n",
    "PATH_SAVE.mkdir(exist_ok=True, parents=True)\n",
    "\n",
    "PATH_EXPERIMENTS=Path(\"/data/analysis-paper/paper-experiment-decomposition\")"
   ]
  },
  {
   "cell_type": "code",
   "execution_count": 3,
   "metadata": {
    "metadata": {}
   },
   "outputs": [],
   "source": [
    "# OBJ_FUNCTIONS = [\"blocks\", \"weighted\", \"depth\", \"strings\",\"pen_strings\"]\n",
    "# OBJ_FUNCTIONS = [\"nodes\", \"weighted\", \"depth\", \"strings\",\"depth_and_len\"]\n",
    "MIN_LEN = [0, 20]\n",
    "MIN_COVERAGE = [0.0, 0.3]\n",
    "DECOMPOSITION = \"complete\"\n",
    "# DECOMPOSITION = \"row_maximal\""
   ]
  },
  {
   "cell_type": "markdown",
   "metadata": {},
   "source": [
    "## Nodes used by all sequences"
   ]
  },
  {
   "cell_type": "code",
   "execution_count": 4,
   "metadata": {},
   "outputs": [],
   "source": [
    "path_graph = Path(f\"/data/analysis-paper/paper-experiment-decomposition/sars-cov-2-50-{DECOMPOSITION}/gfa-unchop/strings/penalization0-min_len0-min_coverage0-alpha61/50-sars-cov-2-ena.gfa\")"
   ]
  },
  {
   "cell_type": "code",
   "execution_count": 5,
   "metadata": {},
   "outputs": [
    {
     "data": {
      "text/plain": [
       "{'n_vertices': 976,\n",
       " 'n_edges': 1408,\n",
       " 'len_graph': 60765,\n",
       " 'potential_seeds_len15': 53633,\n",
       " 'potential_seeds_len20': 51425,\n",
       " 'potential_seeds_len25': 49258,\n",
       " 'nodes_depth_gt_011': 0.507172131147541,\n",
       " 'nodes_depth_gt_015': 0.5040983606557377,\n",
       " 'nodes_depth_gt_02': 0.4948770491803279,\n",
       " 'nodes_depth_gt_025': 0.492827868852459,\n",
       " 'nodes_depth_gt_03': 0.49077868852459017}"
      ]
     },
     "execution_count": 5,
     "metadata": {},
     "output_type": "execute_result"
    }
   ],
   "source": [
    "load_info_graph(path_gfa=path_graph)"
   ]
  },
  {
   "cell_type": "code",
   "execution_count": 6,
   "metadata": {},
   "outputs": [],
   "source": [
    "nodes, edges, paths, node_depth  = load_gfa(path_graph)\n"
   ]
  },
  {
   "cell_type": "code",
   "execution_count": 7,
   "metadata": {},
   "outputs": [
    {
     "data": {
      "text/plain": [
       "229"
      ]
     },
     "execution_count": 7,
     "metadata": {},
     "output_type": "execute_result"
    }
   ],
   "source": [
    "len(dict(filter(lambda x: x[1] == 1. , node_depth.items())))"
   ]
  },
  {
   "cell_type": "code",
   "execution_count": 8,
   "metadata": {},
   "outputs": [],
   "source": [
    "list_path_gfa=list(Path(f\"/data/analysis-paper/paper-experiment-decomposition/sars-cov-2-50-{DECOMPOSITION}/gfa-unchop/\").rglob(\"*.gfa\"))"
   ]
  },
  {
   "cell_type": "code",
   "execution_count": 9,
   "metadata": {},
   "outputs": [],
   "source": [
    "info = []\n",
    "for path_gfa in list_path_gfa:\n",
    "\n",
    "    # print(path_gfa.stem)\n",
    "    obj_function = path_gfa.parent.parent.stem\n",
    "\n",
    "    penalization, min_len, min_coverage, alpha = str(path_gfa.parent).split(\"/\")[-1].split(\"-\")\n",
    "    # path_gfa.glob(\"*json\")\n",
    "\n",
    "\n",
    "    penalization = int(penalization.replace(\"penalization\",\"\"))\n",
    "    min_len = int(min_len.replace(\"min_len\",\"\"))\n",
    "    min_coverage = min_coverage.replace(\"min_coverage\",\"\")\n",
    "    alpha = int(alpha.replace(\"alpha\",\"\"))\n",
    "\n",
    "    # print(penalization, min_len, min_coverage, alpha)\n",
    "\n",
    "    # contar bloques verticales en cada solucion \n",
    "    # cargar cada json de los subMSA y sumar sus bloques verticales\n",
    "    n_vertical_blocks = 0\n",
    "    for submsa_solution in list(path_gfa.glob(\"*json\")):\n",
    "        \n",
    "        with open(submsa_solution,\"r\") as fp:\n",
    "            blocks_submsa = json.load(fp)\n",
    "            vertical_blocks_submsa = [b for b in blocks_submsa if len(b[0]) == NSEQS]\n",
    "            n_vertical_blocks += len(vertical_blocks_submsa)\n",
    "    # print(obj_function, penalization, min_len, min_coverage, alpha, n_vertical_blocks)\n",
    "    \n",
    "\n",
    "    nodes, edges, paths, node_depth  = load_gfa(path_gfa)\n",
    "    \n",
    "    nodes_full_depth = len(dict(filter(lambda x: x[1] == 1. , node_depth.items())))\n",
    "\n",
    "\n",
    "    info.append(\n",
    "        dict(\n",
    "            objective_function=obj_function,\n",
    "            penalization=penalization,\n",
    "            min_len=min_len,\n",
    "            min_coverage=min_coverage,\n",
    "            alpha=alpha,\n",
    "            vertical_blocks_ilp=n_vertical_blocks,\n",
    "            path=str(path_gfa),\n",
    "            nodes_full_depth = nodes_full_depth,\n",
    "        )\n",
    "    )"
   ]
  },
  {
   "cell_type": "code",
   "execution_count": 10,
   "metadata": {},
   "outputs": [],
   "source": [
    "data = pd.DataFrame(info)\n",
    "data[\"objective_function\"] = data[\"objective_function\"].apply(lambda x: \"blocks\" if x==\"nodes\" else x)\n",
    "data[\"objective_function\"] = data[\"objective_function\"].apply(lambda x: \"pen_strings\" if x==\"depth_and_len\" else x)"
   ]
  },
  {
   "cell_type": "code",
   "execution_count": 11,
   "metadata": {},
   "outputs": [],
   "source": [
    "sns.set_theme(style=\"darkgrid\", rc={\"figure.figsize\": (8,7)})\n",
    "g_vertical_blocks = sns.lineplot(data=data.query(f\"objective_function in {ORDER_OBJ_FUNCTIONS}\"),\n",
    "                x=\"alpha\",\n",
    "                y=\"nodes_full_depth\",\n",
    "                hue=\"objective_function\",\n",
    "                style=\"objective_function\",\n",
    "                markers=True,\n",
    "                hue_order=ORDER_OBJ_FUNCTIONS,\n",
    "                )\n",
    "\n",
    "g_vertical_blocks.set_xlabel(f\"{chr(945)}\",fontsize=16)\n",
    "g_vertical_blocks.set_ylabel(\"#Nodes used by all sequences\",fontsize=16)\n",
    "\n",
    "g_vertical_blocks.set_ylim([0,250])\n",
    "# g_vertical_blocks.set_xlim([1,650])\n",
    "\n",
    "decomposition = DECOMPOSITION.replace(\"_\",\"-\")\n",
    "sns.move_legend(\n",
    "    g_vertical_blocks, \"lower center\",\n",
    "    bbox_to_anchor=(.5, 1), ncol=5,\n",
    "    title=f\"{decomposition} decomposition\", \n",
    "    frameon=False,\n",
    ")\n",
    "\n",
    "plt.tight_layout()\n",
    "\n",
    "plt.savefig(PATH_SAVE.joinpath(f\"{NAME}-vertical-blocks-ilp-{DECOMPOSITION}.png\"),dpi=300)"
   ]
  },
  {
   "cell_type": "markdown",
   "metadata": {},
   "source": [
    "___"
   ]
  }
 ],
 "metadata": {
  "kernelspec": {
   "display_name": "pangeblocks",
   "language": "python",
   "name": "python3"
  },
  "language_info": {
   "codemirror_mode": {
    "name": "ipython",
    "version": 3
   },
   "file_extension": ".py",
   "mimetype": "text/x-python",
   "name": "python",
   "nbconvert_exporter": "python",
   "pygments_lexer": "ipython3",
   "version": "3.10.6"
  }
 },
 "nbformat": 4,
 "nbformat_minor": 2
}
