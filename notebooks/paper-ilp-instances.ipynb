{
 "cells": [
  {
   "cell_type": "markdown",
   "metadata": {},
   "source": [
    "Influence of alpha"
   ]
  },
  {
   "cell_type": "code",
   "execution_count": 1,
   "metadata": {},
   "outputs": [],
   "source": [
    "import pandas as pd\n",
    "import seaborn as sns\n",
    "import matplotlib.pyplot as plt\n",
    "\n",
    "from pathlib import Path\n",
    "from src.stats.from_ilp_log import LoggInfo\n",
    "from src.utils.params_from_path import params_from_pathlog\n",
    "\n",
    "loginfo=LoggInfo(times=False, counts=False, sizes=False, usrbintime=True)\n",
    "\n",
    "\n",
    "NSEQS = 50\n",
    "# DECOMPOSITION = \"row_maximal\"\n",
    "NAME = f\"{NSEQS}-SARS-CoV-2\"\n",
    "PATH = Path(\"/data/analysis-paper/paper-experiment-scalability\")\n",
    "\n",
    "COMPLETE = PATH.joinpath(f\"sars-cov-2-{NSEQS}-complete\")\n",
    "ROW_MAXIMAL = PATH.joinpath(f\"sars-cov-2-{NSEQS}-row_maximal\")\n",
    "\n",
    "PATH_LOG_PGGB = Path(\"/data/analysis-paper/experiments/pggb/sars-cov-2/logs/\")\n",
    "PATH_LOG_VG   = Path(\"/data/analysis-paper/experiments/vg/sars-cov-2/logs/\")\n"
   ]
  },
  {
   "cell_type": "code",
   "execution_count": 2,
   "metadata": {},
   "outputs": [],
   "source": [
    "\n",
    "## Fontsizes plots\n",
    "FONTSIZE_TITLE = 18\n",
    "FONTSIZE_SUBTITLE = 16\n",
    "FONTSIZE_X = 16\n",
    "FONTSIZE_Y = 16\n",
    "FONTSIZE_TOOLS = 14 \n",
    "\n",
    "FONTSIZE_GRID_TITLE = 18\n",
    "FONTSIZE_GRID_SUBTITLE = 16\n",
    "FONTSIZE_GRID_X = 16\n",
    "FONTSIZE_GRID_Y = 16\n",
    "FONTSIZE_GRID_TOOLS = 14 \n",
    "\n",
    "LEGEND = True"
   ]
  },
  {
   "cell_type": "code",
   "execution_count": 3,
   "metadata": {},
   "outputs": [],
   "source": [
    "PATH_SAVE = Path(f\"../output-experiment-scalability/sars-cov-2-{NSEQS}/\")\n",
    "PATH_SAVE.mkdir(exist_ok=True, parents=True)"
   ]
  },
  {
   "cell_type": "code",
   "execution_count": 3,
   "metadata": {},
   "outputs": [],
   "source": [
    "info_pggb = dict()\n",
    "for path_log in PATH_LOG_PGGB.glob(\"*err.log\"):\n",
    "    name = path_log.stem.split(\"-rule\")[0]\n",
    "\n",
    "    info = loginfo(path_log)[\"usrbintime\"][0]\n",
    "    info[\"Max RAM (GB)\"] = info[\"Maximum resident set size (kbytes)\"] / 1_000_000\n",
    "    info_pggb[name] = info\n",
    "info_pggb = info_pggb[NAME]"
   ]
  },
  {
   "cell_type": "code",
   "execution_count": 4,
   "metadata": {},
   "outputs": [
    {
     "data": {
      "text/plain": [
       "{'User time (seconds)': 184.05,\n",
       " 'System time (seconds)': 267.87,\n",
       " 'Elapsed (wall clock) time (h:mm:ss or m:ss) (seconds)': 61.41,\n",
       " 'Maximum resident set size (kbytes)': 1245924.0,\n",
       " 'Max RAM (GB)': 1.245924}"
      ]
     },
     "execution_count": 4,
     "metadata": {},
     "output_type": "execute_result"
    }
   ],
   "source": [
    "info_pggb"
   ]
  },
  {
   "cell_type": "code",
   "execution_count": 5,
   "metadata": {},
   "outputs": [],
   "source": [
    "info_vg = dict()\n",
    "for path_log in PATH_LOG_VG.glob(\"*err.log\"):\n",
    "    name = path_log.stem.split(\"-rule\")[0]\n",
    "\n",
    "    info = loginfo(path_log)[\"usrbintime\"][0]\n",
    "    info[\"Max RAM (GB)\"] = info[\"Maximum resident set size (kbytes)\"] / 1_000_000\n",
    "    info_vg[name] = info\n",
    "info_vg = info_vg[NAME]"
   ]
  },
  {
   "cell_type": "code",
   "execution_count": 18,
   "metadata": {},
   "outputs": [],
   "source": [
    "list_params = []\n",
    "for log in ROW_MAXIMAL.joinpath(\"logs\").rglob(\"*.log\"):\n",
    "    if \"rule-ilp\" in str(log): # and \"nodes\" in str(log):\n",
    "        # print(log)\n",
    "        params = params_from_pathlog(log)     # pangeblocks params\n",
    "        params.update( loginfo(log)[\"usrbintime\"][0] ) # logging info \n",
    "        params[\"decomposition\"] = \"row-maximal\"\n",
    "        list_params.append( params)"
   ]
  },
  {
   "cell_type": "code",
   "execution_count": 19,
   "metadata": {},
   "outputs": [],
   "source": [
    "\n",
    "for log in COMPLETE.joinpath(\"logs\").rglob(\"*.log\"):\n",
    "    if \"rule-ilp\" in str(log) and \"nodes\" in str(log):\n",
    "        # print(log)\n",
    "        params = params_from_pathlog(log)     # pangeblocks params\n",
    "        params.update( loginfo(log)[\"usrbintime\"][0] ) # logging info \n",
    "        params[\"decomposition\"] = \"complete\"\n",
    "        list_params.append( params)"
   ]
  },
  {
   "cell_type": "code",
   "execution_count": 20,
   "metadata": {},
   "outputs": [
    {
     "data": {
      "text/html": [
       "<div>\n",
       "<style scoped>\n",
       "    .dataframe tbody tr th:only-of-type {\n",
       "        vertical-align: middle;\n",
       "    }\n",
       "\n",
       "    .dataframe tbody tr th {\n",
       "        vertical-align: top;\n",
       "    }\n",
       "\n",
       "    .dataframe thead th {\n",
       "        text-align: right;\n",
       "    }\n",
       "</style>\n",
       "<table border=\"1\" class=\"dataframe\">\n",
       "  <thead>\n",
       "    <tr style=\"text-align: right;\">\n",
       "      <th></th>\n",
       "      <th>name</th>\n",
       "      <th>objective_function</th>\n",
       "      <th>penalization</th>\n",
       "      <th>min_len</th>\n",
       "      <th>min_coverage</th>\n",
       "      <th>start</th>\n",
       "      <th>end</th>\n",
       "      <th>User time (seconds)</th>\n",
       "      <th>System time (seconds)</th>\n",
       "      <th>Elapsed (wall clock) time (h:mm:ss or m:ss) (seconds)</th>\n",
       "      <th>Maximum resident set size (kbytes)</th>\n",
       "      <th>decomposition</th>\n",
       "      <th>Max RAM (GB)</th>\n",
       "      <th>columns</th>\n",
       "    </tr>\n",
       "  </thead>\n",
       "  <tbody>\n",
       "    <tr>\n",
       "      <th>0</th>\n",
       "      <td>50-SARS-CoV2-MSA</td>\n",
       "      <td>nodes</td>\n",
       "      <td>0</td>\n",
       "      <td>0</td>\n",
       "      <td>0.0</td>\n",
       "      <td>20625</td>\n",
       "      <td>21424</td>\n",
       "      <td>6.22</td>\n",
       "      <td>3.78</td>\n",
       "      <td>6.31</td>\n",
       "      <td>273008.0</td>\n",
       "      <td>row-maximal</td>\n",
       "      <td>0.273008</td>\n",
       "      <td>800</td>\n",
       "    </tr>\n",
       "    <tr>\n",
       "      <th>1</th>\n",
       "      <td>50-SARS-CoV2-MSA</td>\n",
       "      <td>nodes</td>\n",
       "      <td>0</td>\n",
       "      <td>0</td>\n",
       "      <td>0.0</td>\n",
       "      <td>20644</td>\n",
       "      <td>21643</td>\n",
       "      <td>11.07</td>\n",
       "      <td>3.83</td>\n",
       "      <td>11.25</td>\n",
       "      <td>516976.0</td>\n",
       "      <td>row-maximal</td>\n",
       "      <td>0.516976</td>\n",
       "      <td>1000</td>\n",
       "    </tr>\n",
       "    <tr>\n",
       "      <th>2</th>\n",
       "      <td>50-SARS-CoV2-MSA</td>\n",
       "      <td>nodes</td>\n",
       "      <td>0</td>\n",
       "      <td>0</td>\n",
       "      <td>0.0</td>\n",
       "      <td>25788</td>\n",
       "      <td>26087</td>\n",
       "      <td>1.43</td>\n",
       "      <td>3.55</td>\n",
       "      <td>1.29</td>\n",
       "      <td>79248.0</td>\n",
       "      <td>row-maximal</td>\n",
       "      <td>0.079248</td>\n",
       "      <td>300</td>\n",
       "    </tr>\n",
       "    <tr>\n",
       "      <th>3</th>\n",
       "      <td>50-SARS-CoV2-MSA</td>\n",
       "      <td>nodes</td>\n",
       "      <td>0</td>\n",
       "      <td>0</td>\n",
       "      <td>0.0</td>\n",
       "      <td>22471</td>\n",
       "      <td>23070</td>\n",
       "      <td>7.06</td>\n",
       "      <td>3.77</td>\n",
       "      <td>7.18</td>\n",
       "      <td>276124.0</td>\n",
       "      <td>row-maximal</td>\n",
       "      <td>0.276124</td>\n",
       "      <td>600</td>\n",
       "    </tr>\n",
       "    <tr>\n",
       "      <th>4</th>\n",
       "      <td>50-SARS-CoV2-MSA</td>\n",
       "      <td>nodes</td>\n",
       "      <td>0</td>\n",
       "      <td>0</td>\n",
       "      <td>0.0</td>\n",
       "      <td>22422</td>\n",
       "      <td>23121</td>\n",
       "      <td>10.76</td>\n",
       "      <td>3.93</td>\n",
       "      <td>11.01</td>\n",
       "      <td>406676.0</td>\n",
       "      <td>row-maximal</td>\n",
       "      <td>0.406676</td>\n",
       "      <td>700</td>\n",
       "    </tr>\n",
       "  </tbody>\n",
       "</table>\n",
       "</div>"
      ],
      "text/plain": [
       "               name objective_function  penalization  min_len  min_coverage  \\\n",
       "0  50-SARS-CoV2-MSA              nodes             0        0           0.0   \n",
       "1  50-SARS-CoV2-MSA              nodes             0        0           0.0   \n",
       "2  50-SARS-CoV2-MSA              nodes             0        0           0.0   \n",
       "3  50-SARS-CoV2-MSA              nodes             0        0           0.0   \n",
       "4  50-SARS-CoV2-MSA              nodes             0        0           0.0   \n",
       "\n",
       "   start    end  User time (seconds)  System time (seconds)  \\\n",
       "0  20625  21424                 6.22                   3.78   \n",
       "1  20644  21643                11.07                   3.83   \n",
       "2  25788  26087                 1.43                   3.55   \n",
       "3  22471  23070                 7.06                   3.77   \n",
       "4  22422  23121                10.76                   3.93   \n",
       "\n",
       "   Elapsed (wall clock) time (h:mm:ss or m:ss) (seconds)  \\\n",
       "0                                               6.31       \n",
       "1                                              11.25       \n",
       "2                                               1.29       \n",
       "3                                               7.18       \n",
       "4                                              11.01       \n",
       "\n",
       "   Maximum resident set size (kbytes) decomposition  Max RAM (GB)  columns  \n",
       "0                            273008.0   row-maximal      0.273008      800  \n",
       "1                            516976.0   row-maximal      0.516976     1000  \n",
       "2                             79248.0   row-maximal      0.079248      300  \n",
       "3                            276124.0   row-maximal      0.276124      600  \n",
       "4                            406676.0   row-maximal      0.406676      700  "
      ]
     },
     "execution_count": 20,
     "metadata": {},
     "output_type": "execute_result"
    }
   ],
   "source": [
    "data = pd.DataFrame(list_params)\n",
    "data[\"Max RAM (GB)\"] = data[\"Maximum resident set size (kbytes)\"].apply(lambda d: d / 1_000_000)\n",
    "data[\"columns\"] = data[\"end\"] - data[\"start\"] +1 \n",
    "data.to_csv(PATH_SAVE.joinpath(\"usrbintime.tsv\"))\n",
    "data.head()\n"
   ]
  },
  {
   "cell_type": "code",
   "execution_count": 21,
   "metadata": {},
   "outputs": [],
   "source": [
    "feature = \"Max RAM (GB)\"\n",
    "# min and max y-axis values\n",
    "feat_min = data[feature].min()\n",
    "feat_max = max(data[feature].max(), info_pggb[feature], info_vg[feature]) \n",
    "delta_range = feat_max - feat_min\n",
    "ymin = feat_min - 0.1*delta_range \n",
    "ymax = feat_max + 0.1*delta_range"
   ]
  },
  {
   "cell_type": "code",
   "execution_count": 22,
   "metadata": {},
   "outputs": [
    {
     "data": {
      "text/plain": [
       "{'User time (seconds)': 184.05,\n",
       " 'System time (seconds)': 267.87,\n",
       " 'Elapsed (wall clock) time (h:mm:ss or m:ss) (seconds)': 61.41,\n",
       " 'Maximum resident set size (kbytes)': 1245924.0,\n",
       " 'Max RAM (GB)': 1.245924}"
      ]
     },
     "execution_count": 22,
     "metadata": {},
     "output_type": "execute_result"
    }
   ],
   "source": [
    "info_pggb"
   ]
  },
  {
   "cell_type": "code",
   "execution_count": 23,
   "metadata": {},
   "outputs": [
    {
     "data": {
      "text/html": [
       "<div>\n",
       "<style scoped>\n",
       "    .dataframe tbody tr th:only-of-type {\n",
       "        vertical-align: middle;\n",
       "    }\n",
       "\n",
       "    .dataframe tbody tr th {\n",
       "        vertical-align: top;\n",
       "    }\n",
       "\n",
       "    .dataframe thead th {\n",
       "        text-align: right;\n",
       "    }\n",
       "</style>\n",
       "<table border=\"1\" class=\"dataframe\">\n",
       "  <thead>\n",
       "    <tr style=\"text-align: right;\">\n",
       "      <th></th>\n",
       "      <th>name</th>\n",
       "      <th>objective_function</th>\n",
       "      <th>penalization</th>\n",
       "      <th>min_len</th>\n",
       "      <th>min_coverage</th>\n",
       "      <th>start</th>\n",
       "      <th>end</th>\n",
       "      <th>User time (seconds)</th>\n",
       "      <th>System time (seconds)</th>\n",
       "      <th>Elapsed (wall clock) time (h:mm:ss or m:ss) (seconds)</th>\n",
       "      <th>Maximum resident set size (kbytes)</th>\n",
       "      <th>decomposition</th>\n",
       "      <th>Max RAM (GB)</th>\n",
       "      <th>columns</th>\n",
       "    </tr>\n",
       "  </thead>\n",
       "  <tbody>\n",
       "    <tr>\n",
       "      <th>0</th>\n",
       "      <td>50-SARS-CoV2-MSA</td>\n",
       "      <td>nodes</td>\n",
       "      <td>0</td>\n",
       "      <td>0</td>\n",
       "      <td>0.0</td>\n",
       "      <td>20625</td>\n",
       "      <td>21424</td>\n",
       "      <td>6.22</td>\n",
       "      <td>3.78</td>\n",
       "      <td>6.31</td>\n",
       "      <td>273008.0</td>\n",
       "      <td>row-maximal</td>\n",
       "      <td>0.273008</td>\n",
       "      <td>800</td>\n",
       "    </tr>\n",
       "    <tr>\n",
       "      <th>1</th>\n",
       "      <td>50-SARS-CoV2-MSA</td>\n",
       "      <td>nodes</td>\n",
       "      <td>0</td>\n",
       "      <td>0</td>\n",
       "      <td>0.0</td>\n",
       "      <td>20644</td>\n",
       "      <td>21643</td>\n",
       "      <td>11.07</td>\n",
       "      <td>3.83</td>\n",
       "      <td>11.25</td>\n",
       "      <td>516976.0</td>\n",
       "      <td>row-maximal</td>\n",
       "      <td>0.516976</td>\n",
       "      <td>1000</td>\n",
       "    </tr>\n",
       "    <tr>\n",
       "      <th>2</th>\n",
       "      <td>50-SARS-CoV2-MSA</td>\n",
       "      <td>nodes</td>\n",
       "      <td>0</td>\n",
       "      <td>0</td>\n",
       "      <td>0.0</td>\n",
       "      <td>25788</td>\n",
       "      <td>26087</td>\n",
       "      <td>1.43</td>\n",
       "      <td>3.55</td>\n",
       "      <td>1.29</td>\n",
       "      <td>79248.0</td>\n",
       "      <td>row-maximal</td>\n",
       "      <td>0.079248</td>\n",
       "      <td>300</td>\n",
       "    </tr>\n",
       "    <tr>\n",
       "      <th>3</th>\n",
       "      <td>50-SARS-CoV2-MSA</td>\n",
       "      <td>nodes</td>\n",
       "      <td>0</td>\n",
       "      <td>0</td>\n",
       "      <td>0.0</td>\n",
       "      <td>22471</td>\n",
       "      <td>23070</td>\n",
       "      <td>7.06</td>\n",
       "      <td>3.77</td>\n",
       "      <td>7.18</td>\n",
       "      <td>276124.0</td>\n",
       "      <td>row-maximal</td>\n",
       "      <td>0.276124</td>\n",
       "      <td>600</td>\n",
       "    </tr>\n",
       "    <tr>\n",
       "      <th>4</th>\n",
       "      <td>50-SARS-CoV2-MSA</td>\n",
       "      <td>nodes</td>\n",
       "      <td>0</td>\n",
       "      <td>0</td>\n",
       "      <td>0.0</td>\n",
       "      <td>22422</td>\n",
       "      <td>23121</td>\n",
       "      <td>10.76</td>\n",
       "      <td>3.93</td>\n",
       "      <td>11.01</td>\n",
       "      <td>406676.0</td>\n",
       "      <td>row-maximal</td>\n",
       "      <td>0.406676</td>\n",
       "      <td>700</td>\n",
       "    </tr>\n",
       "  </tbody>\n",
       "</table>\n",
       "</div>"
      ],
      "text/plain": [
       "               name objective_function  penalization  min_len  min_coverage  \\\n",
       "0  50-SARS-CoV2-MSA              nodes             0        0           0.0   \n",
       "1  50-SARS-CoV2-MSA              nodes             0        0           0.0   \n",
       "2  50-SARS-CoV2-MSA              nodes             0        0           0.0   \n",
       "3  50-SARS-CoV2-MSA              nodes             0        0           0.0   \n",
       "4  50-SARS-CoV2-MSA              nodes             0        0           0.0   \n",
       "\n",
       "   start    end  User time (seconds)  System time (seconds)  \\\n",
       "0  20625  21424                 6.22                   3.78   \n",
       "1  20644  21643                11.07                   3.83   \n",
       "2  25788  26087                 1.43                   3.55   \n",
       "3  22471  23070                 7.06                   3.77   \n",
       "4  22422  23121                10.76                   3.93   \n",
       "\n",
       "   Elapsed (wall clock) time (h:mm:ss or m:ss) (seconds)  \\\n",
       "0                                               6.31       \n",
       "1                                              11.25       \n",
       "2                                               1.29       \n",
       "3                                               7.18       \n",
       "4                                              11.01       \n",
       "\n",
       "   Maximum resident set size (kbytes) decomposition  Max RAM (GB)  columns  \n",
       "0                            273008.0   row-maximal      0.273008      800  \n",
       "1                            516976.0   row-maximal      0.516976     1000  \n",
       "2                             79248.0   row-maximal      0.079248      300  \n",
       "3                            276124.0   row-maximal      0.276124      600  \n",
       "4                            406676.0   row-maximal      0.406676      700  "
      ]
     },
     "execution_count": 23,
     "metadata": {},
     "output_type": "execute_result"
    }
   ],
   "source": [
    "data.head()"
   ]
  },
  {
   "cell_type": "markdown",
   "metadata": {},
   "source": [
    "## RAM"
   ]
  },
  {
   "cell_type": "code",
   "execution_count": 32,
   "metadata": {},
   "outputs": [
    {
     "data": {
      "image/png": "[encoded data removed]",
      "text/plain": [
       "<Figure size 640x480 with 1 Axes>"
      ]
     },
     "metadata": {},
     "output_type": "display_data"
    }
   ],
   "source": [
    "g_ram = sns.lineplot(\n",
    "    data=data, \n",
    "    x=\"columns\", y=feature, \n",
    "    hue=\"decomposition\", \n",
    "    style=\"decomposition\", \n",
    "    marker=\"o\",\n",
    "    )# hue_order=OBJ_FUNCTIONS)\n",
    "# g_ram.text(x=0.5, y=1.1, s=f'{NAME} | Potential seeds of length 15 w.r.t. {chr(945)}', fontsize=FONTSIZE_TITLE, weight='bold', ha='center', va='bottom', transform=g_ram.transAxes)\n",
    "# g_potential_seeds.text(x=0.5, y=1.05, s=f'Complete vs Row-maximal decomposition | not-{chr(945)}-consistent', fontsize=FONTSIZE_SUBTITLE, alpha=0.75, ha='center', va='bottom', transform=g_potential_seeds.transAxes)\n",
    "g_ram.set_xlabel(f\"columns\", fontsize=FONTSIZE_X)\n",
    "g_ram.set_ylabel(\"Max RAM (GB)\", fontsize=FONTSIZE_Y)\n",
    "g_ram.set_ylim([ymin,ymax])\n",
    "\n",
    "sns.move_legend(\n",
    "    g_ram, \"lower center\",\n",
    "    bbox_to_anchor=(.5, 1), ncol=5, title=\"\", frameon=False,\n",
    ")\n",
    "\n",
    "g_ram.figure.tight_layout()\n",
    "g_ram.get_figure().savefig(PATH_SAVE.joinpath(f\"{NAME}-ilp-instances-RAM.png\"),dpi=300)"
   ]
  },
  {
   "cell_type": "markdown",
   "metadata": {},
   "source": [
    "## User Time"
   ]
  },
  {
   "cell_type": "code",
   "execution_count": 33,
   "metadata": {},
   "outputs": [],
   "source": [
    "feature = \"User time (seconds)\"\n",
    "# min and max y-axis values\n",
    "feat_min = data[feature].min()\n",
    "feat_max = max(data[feature].max(), info_pggb[feature], info_vg[feature]) \n",
    "delta_range = feat_max - feat_min\n",
    "ymin = feat_min - 0.1*delta_range \n",
    "ymax = feat_max + 0.1*delta_range"
   ]
  },
  {
   "cell_type": "code",
   "execution_count": 34,
   "metadata": {},
   "outputs": [
    {
     "data": {
      "image/png": "[encoded data removed]",
      "text/plain": [
       "<Figure size 640x480 with 1 Axes>"
      ]
     },
     "metadata": {},
     "output_type": "display_data"
    }
   ],
   "source": [
    "g_ram = sns.lineplot(\n",
    "    data=data, \n",
    "    x=\"columns\", y=feature, \n",
    "    hue=\"decomposition\", \n",
    "    style=\"decomposition\", \n",
    "    marker=\"o\",\n",
    "    )# hue_order=OBJ_FUNCTIONS)\n",
    "# g_ram.text(x=0.5, y=1.1, s=f'{NAME} | Potential seeds of length 15 w.r.t. {chr(945)}', fontsize=FONTSIZE_TITLE, weight='bold', ha='center', va='bottom', transform=g_ram.transAxes)\n",
    "# g_potential_seeds.text(x=0.5, y=1.05, s=f'Complete vs Row-maximal decomposition | not-{chr(945)}-consistent', fontsize=FONTSIZE_SUBTITLE, alpha=0.75, ha='center', va='bottom', transform=g_potential_seeds.transAxes)\n",
    "g_ram.set_xlabel(f\"columns\", fontsize=FONTSIZE_X)\n",
    "g_ram.set_ylabel(\"User time (s)\", fontsize=FONTSIZE_Y)\n",
    "g_ram.set_ylim([ymin,ymax])\n",
    "\n",
    "sns.move_legend(\n",
    "    g_ram, \"lower center\",\n",
    "    bbox_to_anchor=(.5, 1), ncol=5, title=\"\", frameon=False,\n",
    ")\n",
    "\n",
    "g_ram.figure.tight_layout()\n",
    "g_ram.get_figure().savefig(PATH_SAVE.joinpath(f\"{NAME}-ilp-instances-User_time.png\"),dpi=300)"
   ]
  },
  {
   "cell_type": "code",
   "execution_count": null,
   "metadata": {},
   "outputs": [],
   "source": []
  }
 ],
 "metadata": {
  "kernelspec": {
   "display_name": "pangeblocks",
   "language": "python",
   "name": "python3"
  },
  "language_info": {
   "codemirror_mode": {
    "name": "ipython",
    "version": 3
   },
   "file_extension": ".py",
   "mimetype": "text/x-python",
   "name": "python",
   "nbconvert_exporter": "python",
   "pygments_lexer": "ipython3",
   "version": "3.10.6"
  }
 },
 "nbformat": 4,
 "nbformat_minor": 2
}
