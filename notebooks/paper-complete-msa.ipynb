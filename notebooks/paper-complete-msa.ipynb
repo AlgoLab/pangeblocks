{
 "cells": [
  {
   "cell_type": "markdown",
   "metadata": {},
   "source": [
    "Complete MSA"
   ]
  },
  {
   "cell_type": "code",
   "execution_count": 1,
   "metadata": {},
   "outputs": [],
   "source": [
    "import pandas as pd\n",
    "import seaborn as sns\n",
    "import matplotlib.pyplot as plt\n",
    "\n",
    "from pathlib import Path\n",
    "from src.stats.from_ilp_log import LoggInfo\n",
    "from src.utils.params_from_path import params_from_pathlog_alpha as params_from_pathlog\n",
    "\n",
    "loginfo=LoggInfo(times=False, counts=False, sizes=False, usrbintime=True)\n",
    "\n",
    "\n",
    "NSEQS = 50\n",
    "NAME = f\"{NSEQS}-SARS-CoV2-MSA\"\n",
    "PATH = Path(\"/data/analysis-paper/experiments-decompositions\")\n",
    "\n",
    "COMPLETE = PATH.joinpath(f\"sars-cov-2-{NSEQS}-complete-not_alpha_consistent-not_fixblock\")\n",
    "ROW_MAXIMAL = PATH.joinpath(f\"sars-cov-2-{NSEQS}-row_maximal-not_alpha_consistent-not_fixblock\")\n",
    "\n",
    "PATH_LOG_PGGB = Path(\"/data/analysis-paper/experiments/pggb/sars-cov-2/logs/\")\n",
    "PATH_LOG_VG   = Path(\"/data/analysis-paper/experiments/vg/sars-cov-2/logs/\")\n"
   ]
  },
  {
   "cell_type": "code",
   "execution_count": 2,
   "metadata": {},
   "outputs": [],
   "source": [
    "\n",
    "## Fontsizes plots\n",
    "FONTSIZE_TITLE = 18\n",
    "FONTSIZE_SUBTITLE = 16\n",
    "FONTSIZE_X = 16\n",
    "FONTSIZE_Y = 16\n",
    "FONTSIZE_TOOLS = 14 \n",
    "\n",
    "FONTSIZE_GRID_TITLE = 18\n",
    "FONTSIZE_GRID_SUBTITLE = 16\n",
    "FONTSIZE_GRID_X = 16\n",
    "FONTSIZE_GRID_Y = 16\n",
    "FONTSIZE_GRID_TOOLS = 14 \n",
    "\n",
    "LEGEND = True"
   ]
  },
  {
   "cell_type": "code",
   "execution_count": 3,
   "metadata": {},
   "outputs": [],
   "source": [
    "PATH_SAVE = Path(f\"../output-experiments-paper/sars-cov-2-{NSEQS}-complete-msa/\")\n",
    "PATH_SAVE.mkdir(exist_ok=True, parents=True)"
   ]
  },
  {
   "cell_type": "code",
   "execution_count": 4,
   "metadata": {},
   "outputs": [],
   "source": [
    "info_pggb = dict()\n",
    "for path_log in PATH_LOG_PGGB.glob(\"*err.log\"):\n",
    "    name = path_log.stem.split(\"-rule\")[0]\n",
    "\n",
    "    info = loginfo(path_log)[\"usrbintime\"][0]\n",
    "    info[\"Max RAM (GB)\"] = info[\"Maximum resident set size (kbytes)\"] / 1_000_000\n",
    "    info_pggb[name] = info\n",
    "info_pggb = info_pggb[NAME]"
   ]
  },
  {
   "cell_type": "code",
   "execution_count": 5,
   "metadata": {},
   "outputs": [
    {
     "data": {
      "text/plain": [
       "{'User time (seconds)': 184.05,\n",
       " 'System time (seconds)': 267.87,\n",
       " 'Elapsed (wall clock) time (h:mm:ss or m:ss) (seconds)': 61.41,\n",
       " 'Maximum resident set size (kbytes)': 1245924.0,\n",
       " 'Max RAM (GB)': 1.245924}"
      ]
     },
     "execution_count": 5,
     "metadata": {},
     "output_type": "execute_result"
    }
   ],
   "source": [
    "info_pggb"
   ]
  },
  {
   "cell_type": "code",
   "execution_count": 6,
   "metadata": {},
   "outputs": [],
   "source": [
    "info_vg = dict()\n",
    "for path_log in PATH_LOG_VG.glob(\"*err.log\"):\n",
    "    name = path_log.stem.split(\"-rule\")[0]\n",
    "\n",
    "    info = loginfo(path_log)[\"usrbintime\"][0]\n",
    "    info[\"Max RAM (GB)\"] = info[\"Maximum resident set size (kbytes)\"] / 1_000_000\n",
    "    info_vg[name] = info\n",
    "info_vg = info_vg[NAME]"
   ]
  },
  {
   "cell_type": "code",
   "execution_count": 7,
   "metadata": {},
   "outputs": [],
   "source": [
    "list_params = []\n",
    "for log in ROW_MAXIMAL.joinpath(\"logs\").rglob(\"*.log\"):\n",
    "    if \"rule-ilp\" in str(log): # and \"nodes\" in str(log):\n",
    "        # print(log)\n",
    "        params = params_from_pathlog(log)     # pangeblocks params\n",
    "        params.update( loginfo(log)[\"usrbintime\"][0] ) # logging info \n",
    "        params[\"decomposition\"] = \"row-maximal\"\n",
    "        list_params.append( params)"
   ]
  },
  {
   "cell_type": "code",
   "execution_count": 8,
   "metadata": {},
   "outputs": [],
   "source": [
    "\n",
    "for log in COMPLETE.joinpath(\"logs\").rglob(\"*.log\"):\n",
    "    if \"rule-ilp\" in log.stem:\n",
    "        # print(log)\n",
    "        params = params_from_pathlog(log)     # pangeblocks params\n",
    "        params.update( loginfo(log)[\"usrbintime\"][0] ) # logging info \n",
    "        params[\"decomposition\"] = \"complete\"\n",
    "        list_params.append( params)"
   ]
  },
  {
   "cell_type": "code",
   "execution_count": 9,
   "metadata": {},
   "outputs": [
    {
     "data": {
      "text/plain": [
       "PosixPath('/data/analysis-paper/experiments-decompositions/sars-cov-2-50-complete-not_alpha_consistent-not_fixblock/logs/50-SARS-CoV2-MSA-depth-penalization1000-min_len0-min_coverage0.3-alpha116-rule-ilp.log')"
      ]
     },
     "execution_count": 9,
     "metadata": {},
     "output_type": "execute_result"
    }
   ],
   "source": [
    "log"
   ]
  },
  {
   "cell_type": "code",
   "execution_count": 10,
   "metadata": {},
   "outputs": [
    {
     "data": {
      "text/plain": [
       "[PosixPath('/data/analysis-paper/experiments-decompositions/sars-cov-2-50-complete-not_alpha_consistent-not_fixblock/logs/50-SARS-CoV2-MSA-depth-penalization1000-min_len0-min_coverage0.5-alpha106-rule-ilp.log'),\n",
       " PosixPath('/data/analysis-paper/experiments-decompositions/sars-cov-2-50-complete-not_alpha_consistent-not_fixblock/logs/50-SARS-CoV2-MSA-depth_and_len-penalization0-min_len0-min_coverage0-alpha179-rule-ilp.log'),\n",
       " PosixPath('/data/analysis-paper/experiments-decompositions/sars-cov-2-50-complete-not_alpha_consistent-not_fixblock/logs/50-SARS-CoV2-MSA-depth_and_len-penalization0-min_len0-min_coverage0-alpha178-rule-ilp.log'),\n",
       " PosixPath('/data/analysis-paper/experiments-decompositions/sars-cov-2-50-complete-not_alpha_consistent-not_fixblock/logs/50-SARS-CoV2-MSA-nodes-penalization0-min_len0-min_coverage0-alpha310-rule-ilp.log'),\n",
       " PosixPath('/data/analysis-paper/experiments-decompositions/sars-cov-2-50-complete-not_alpha_consistent-not_fixblock/logs/50-SARS-CoV2-MSA-depth_and_len-penalization0-min_len0-min_coverage0-alpha92-rule-ilp.log'),\n",
       " PosixPath('/data/analysis-paper/experiments-decompositions/sars-cov-2-50-complete-not_alpha_consistent-not_fixblock/logs/50-SARS-CoV2-MSA-depth-penalization1000-min_len0-min_coverage0.3-alpha106-rule-ilp.log'),\n",
       " PosixPath('/data/analysis-paper/experiments-decompositions/sars-cov-2-50-complete-not_alpha_consistent-not_fixblock/logs/50-SARS-CoV2-MSA-depth-penalization1000-min_len0-min_coverage0.3-alpha309-rule-ilp.log'),\n",
       " PosixPath('/data/analysis-paper/experiments-decompositions/sars-cov-2-50-complete-not_alpha_consistent-not_fixblock/logs/50-SARS-CoV2-MSA-depth_and_len-penalization0-min_len0-min_coverage0-alpha264-rule-ilp.log'),\n",
       " PosixPath('/data/analysis-paper/experiments-decompositions/sars-cov-2-50-complete-not_alpha_consistent-not_fixblock/logs/50-SARS-CoV2-MSA-depth-penalization1000-min_len0-min_coverage0.5-alpha1-rule-ilp.log'),\n",
       " PosixPath('/data/analysis-paper/experiments-decompositions/sars-cov-2-50-complete-not_alpha_consistent-not_fixblock/logs/50-SARS-CoV2-MSA-depth-penalization1000-min_len0-min_coverage0.5-alpha309-rule-ilp.log'),\n",
       " PosixPath('/data/analysis-paper/experiments-decompositions/sars-cov-2-50-complete-not_alpha_consistent-not_fixblock/logs/50-SARS-CoV2-MSA-nodes-penalization0-min_len0-min_coverage0-alpha42-rule-ilp.log'),\n",
       " PosixPath('/data/analysis-paper/experiments-decompositions/sars-cov-2-50-complete-not_alpha_consistent-not_fixblock/logs/50-SARS-CoV2-MSA-depth-penalization1000-min_len0-min_coverage0.3-alpha179-rule-ilp.log'),\n",
       " PosixPath('/data/analysis-paper/experiments-decompositions/sars-cov-2-50-complete-not_alpha_consistent-not_fixblock/logs/50-SARS-CoV2-MSA-depth-penalization1000-min_len0-min_coverage0.5-alpha178-rule-ilp.log'),\n",
       " PosixPath('/data/analysis-paper/experiments-decompositions/sars-cov-2-50-complete-not_alpha_consistent-not_fixblock/logs/50-SARS-CoV2-MSA-depth-penalization1000-min_len0-min_coverage0.5-alpha179-rule-ilp.log'),\n",
       " PosixPath('/data/analysis-paper/experiments-decompositions/sars-cov-2-50-complete-not_alpha_consistent-not_fixblock/logs/50-SARS-CoV2-MSA-depth-penalization1000-min_len0-min_coverage0.3-alpha178-rule-ilp.log'),\n",
       " PosixPath('/data/analysis-paper/experiments-decompositions/sars-cov-2-50-complete-not_alpha_consistent-not_fixblock/logs/50-SARS-CoV2-MSA-depth_and_len-penalization0-min_len0-min_coverage0-alpha106-rule-ilp.log'),\n",
       " PosixPath('/data/analysis-paper/experiments-decompositions/sars-cov-2-50-complete-not_alpha_consistent-not_fixblock/logs/50-SARS-CoV2-MSA-depth-penalization1000-min_len0-min_coverage0.3-alpha264-rule-ilp.log'),\n",
       " PosixPath('/data/analysis-paper/experiments-decompositions/sars-cov-2-50-complete-not_alpha_consistent-not_fixblock/logs/50-SARS-CoV2-MSA-depth_and_len-penalization0-min_len0-min_coverage0-alpha309-rule-ilp.log'),\n",
       " PosixPath('/data/analysis-paper/experiments-decompositions/sars-cov-2-50-complete-not_alpha_consistent-not_fixblock/logs/50-SARS-CoV2-MSA-strings-penalization0-min_len0-min_coverage0-alpha1-rule-ilp.log'),\n",
       " PosixPath('/data/analysis-paper/experiments-decompositions/sars-cov-2-50-complete-not_alpha_consistent-not_fixblock/logs/50-SARS-CoV2-MSA-nodes-penalization0-min_len0-min_coverage0-alpha255-rule-ilp.log'),\n",
       " PosixPath('/data/analysis-paper/experiments-decompositions/sars-cov-2-50-complete-not_alpha_consistent-not_fixblock/logs/50-SARS-CoV2-MSA-depth-penalization1000-min_len0-min_coverage0.5-alpha264-rule-ilp.log'),\n",
       " PosixPath('/data/analysis-paper/experiments-decompositions/sars-cov-2-50-complete-not_alpha_consistent-not_fixblock/logs/50-SARS-CoV2-MSA-nodes-penalization0-min_len0-min_coverage0-alpha133-rule-ilp.log'),\n",
       " PosixPath('/data/analysis-paper/experiments-decompositions/sars-cov-2-50-complete-not_alpha_consistent-not_fixblock/logs/50-SARS-CoV2-MSA-depth_and_len-penalization0-min_len0-min_coverage0-alpha243-rule-ilp.log'),\n",
       " PosixPath('/data/analysis-paper/experiments-decompositions/sars-cov-2-50-complete-not_alpha_consistent-not_fixblock/logs/50-SARS-CoV2-MSA-depth_and_len-penalization0-min_len0-min_coverage0-alpha42-rule-ilp.log'),\n",
       " PosixPath('/data/analysis-paper/experiments-decompositions/sars-cov-2-50-complete-not_alpha_consistent-not_fixblock/logs/50-SARS-CoV2-MSA-depth_and_len-penalization0-min_len0-min_coverage0-alpha177-rule-ilp.log'),\n",
       " PosixPath('/data/analysis-paper/experiments-decompositions/sars-cov-2-50-complete-not_alpha_consistent-not_fixblock/logs/50-SARS-CoV2-MSA-depth_and_len-penalization0-min_len0-min_coverage0-alpha1-rule-ilp.log'),\n",
       " PosixPath('/data/analysis-paper/experiments-decompositions/sars-cov-2-50-complete-not_alpha_consistent-not_fixblock/logs/50-SARS-CoV2-MSA-depth_and_len-penalization0-min_len0-min_coverage0-alpha300-rule-ilp.log'),\n",
       " PosixPath('/data/analysis-paper/experiments-decompositions/sars-cov-2-50-complete-not_alpha_consistent-not_fixblock/logs/50-SARS-CoV2-MSA-depth-penalization1000-min_len0-min_coverage0.3-alpha243-rule-ilp.log'),\n",
       " PosixPath('/data/analysis-paper/experiments-decompositions/sars-cov-2-50-complete-not_alpha_consistent-not_fixblock/logs/50-SARS-CoV2-MSA-nodes-penalization0-min_len0-min_coverage0-alpha115-rule-ilp.log'),\n",
       " PosixPath('/data/analysis-paper/experiments-decompositions/sars-cov-2-50-complete-not_alpha_consistent-not_fixblock/logs/50-SARS-CoV2-MSA-depth-penalization1000-min_len0-min_coverage0.3-alpha177-rule-ilp.log'),\n",
       " PosixPath('/data/analysis-paper/experiments-decompositions/sars-cov-2-50-complete-not_alpha_consistent-not_fixblock/logs/50-SARS-CoV2-MSA-depth-penalization1000-min_len0-min_coverage0.5-alpha177-rule-ilp.log'),\n",
       " PosixPath('/data/analysis-paper/experiments-decompositions/sars-cov-2-50-complete-not_alpha_consistent-not_fixblock/logs/50-SARS-CoV2-MSA-depth-penalization1000-min_len0-min_coverage0.5-alpha243-rule-ilp.log'),\n",
       " PosixPath('/data/analysis-paper/experiments-decompositions/sars-cov-2-50-complete-not_alpha_consistent-not_fixblock/logs/50-SARS-CoV2-MSA-nodes-penalization0-min_len0-min_coverage0-alpha92-rule-ilp.log'),\n",
       " PosixPath('/data/analysis-paper/experiments-decompositions/sars-cov-2-50-complete-not_alpha_consistent-not_fixblock/logs/50-SARS-CoV2-MSA-depth-penalization1000-min_len0-min_coverage0.3-alpha300-rule-ilp.log'),\n",
       " PosixPath('/data/analysis-paper/experiments-decompositions/sars-cov-2-50-complete-not_alpha_consistent-not_fixblock/logs/50-SARS-CoV2-MSA-nodes-penalization0-min_len0-min_coverage0-alpha116-rule-ilp.log'),\n",
       " PosixPath('/data/analysis-paper/experiments-decompositions/sars-cov-2-50-complete-not_alpha_consistent-not_fixblock/logs/50-SARS-CoV2-MSA-depth-penalization1000-min_len0-min_coverage0.5-alpha300-rule-ilp.log'),\n",
       " PosixPath('/data/analysis-paper/experiments-decompositions/sars-cov-2-50-complete-not_alpha_consistent-not_fixblock/logs/50-SARS-CoV2-MSA-depth-penalization1000-min_len0-min_coverage0.3-alpha310-rule-ilp.log'),\n",
       " PosixPath('/data/analysis-paper/experiments-decompositions/sars-cov-2-50-complete-not_alpha_consistent-not_fixblock/logs/50-SARS-CoV2-MSA-nodes-penalization0-min_len0-min_coverage0-alpha106-rule-ilp.log'),\n",
       " PosixPath('/data/analysis-paper/experiments-decompositions/sars-cov-2-50-complete-not_alpha_consistent-not_fixblock/logs/50-SARS-CoV2-MSA-depth-penalization1000-min_len0-min_coverage0.5-alpha310-rule-ilp.log'),\n",
       " PosixPath('/data/analysis-paper/experiments-decompositions/sars-cov-2-50-complete-not_alpha_consistent-not_fixblock/logs/50-SARS-CoV2-MSA-depth-penalization1000-min_len0-min_coverage0.5-alpha42-rule-ilp.log'),\n",
       " PosixPath('/data/analysis-paper/experiments-decompositions/sars-cov-2-50-complete-not_alpha_consistent-not_fixblock/logs/50-SARS-CoV2-MSA-depth_and_len-penalization0-min_len0-min_coverage0-alpha133-rule-ilp.log'),\n",
       " PosixPath('/data/analysis-paper/experiments-decompositions/sars-cov-2-50-complete-not_alpha_consistent-not_fixblock/logs/50-SARS-CoV2-MSA-nodes-penalization0-min_len0-min_coverage0-alpha309-rule-ilp.log'),\n",
       " PosixPath('/data/analysis-paper/experiments-decompositions/sars-cov-2-50-complete-not_alpha_consistent-not_fixblock/logs/50-SARS-CoV2-MSA-depth_and_len-penalization0-min_len0-min_coverage0-alpha255-rule-ilp.log'),\n",
       " PosixPath('/data/analysis-paper/experiments-decompositions/sars-cov-2-50-complete-not_alpha_consistent-not_fixblock/logs/50-SARS-CoV2-MSA-nodes-penalization0-min_len0-min_coverage0-alpha178-rule-ilp.log'),\n",
       " PosixPath('/data/analysis-paper/experiments-decompositions/sars-cov-2-50-complete-not_alpha_consistent-not_fixblock/logs/50-SARS-CoV2-MSA-nodes-penalization0-min_len0-min_coverage0-alpha1-rule-ilp.log'),\n",
       " PosixPath('/data/analysis-paper/experiments-decompositions/sars-cov-2-50-complete-not_alpha_consistent-not_fixblock/logs/50-SARS-CoV2-MSA-depth_and_len-penalization0-min_len0-min_coverage0-alpha310-rule-ilp.log'),\n",
       " PosixPath('/data/analysis-paper/experiments-decompositions/sars-cov-2-50-complete-not_alpha_consistent-not_fixblock/logs/50-SARS-CoV2-MSA-strings-penalization0-min_len0-min_coverage0-alpha106-rule-ilp.log'),\n",
       " PosixPath('/data/analysis-paper/experiments-decompositions/sars-cov-2-50-complete-not_alpha_consistent-not_fixblock/logs/50-SARS-CoV2-MSA-depth-penalization1000-min_len0-min_coverage0.3-alpha1-rule-ilp.log'),\n",
       " PosixPath('/data/analysis-paper/experiments-decompositions/sars-cov-2-50-complete-not_alpha_consistent-not_fixblock/logs/50-SARS-CoV2-MSA-nodes-penalization0-min_len0-min_coverage0-alpha179-rule-ilp.log'),\n",
       " PosixPath('/data/analysis-paper/experiments-decompositions/sars-cov-2-50-complete-not_alpha_consistent-not_fixblock/logs/50-SARS-CoV2-MSA-depth-penalization1000-min_len0-min_coverage0.5-alpha255-rule-ilp.log'),\n",
       " PosixPath('/data/analysis-paper/experiments-decompositions/sars-cov-2-50-complete-not_alpha_consistent-not_fixblock/logs/50-SARS-CoV2-MSA-depth-penalization1000-min_len0-min_coverage0.3-alpha42-rule-ilp.log'),\n",
       " PosixPath('/data/analysis-paper/experiments-decompositions/sars-cov-2-50-complete-not_alpha_consistent-not_fixblock/logs/50-SARS-CoV2-MSA-depth-penalization1000-min_len0-min_coverage0.3-alpha133-rule-ilp.log'),\n",
       " PosixPath('/data/analysis-paper/experiments-decompositions/sars-cov-2-50-complete-not_alpha_consistent-not_fixblock/logs/50-SARS-CoV2-MSA-depth-penalization1000-min_len0-min_coverage0.5-alpha133-rule-ilp.log'),\n",
       " PosixPath('/data/analysis-paper/experiments-decompositions/sars-cov-2-50-complete-not_alpha_consistent-not_fixblock/logs/50-SARS-CoV2-MSA-nodes-penalization0-min_len0-min_coverage0-alpha264-rule-ilp.log'),\n",
       " PosixPath('/data/analysis-paper/experiments-decompositions/sars-cov-2-50-complete-not_alpha_consistent-not_fixblock/logs/50-SARS-CoV2-MSA-depth-penalization1000-min_len0-min_coverage0.3-alpha255-rule-ilp.log'),\n",
       " PosixPath('/data/analysis-paper/experiments-decompositions/sars-cov-2-50-complete-not_alpha_consistent-not_fixblock/logs/50-SARS-CoV2-MSA-depth-penalization1000-min_len0-min_coverage0.5-alpha92-rule-ilp.log'),\n",
       " PosixPath('/data/analysis-paper/experiments-decompositions/sars-cov-2-50-complete-not_alpha_consistent-not_fixblock/logs/50-SARS-CoV2-MSA-depth_and_len-penalization0-min_len0-min_coverage0-alpha115-rule-ilp.log'),\n",
       " PosixPath('/data/analysis-paper/experiments-decompositions/sars-cov-2-50-complete-not_alpha_consistent-not_fixblock/logs/50-SARS-CoV2-MSA-depth_and_len-penalization0-min_len0-min_coverage0-alpha116-rule-ilp.log'),\n",
       " PosixPath('/data/analysis-paper/experiments-decompositions/sars-cov-2-50-complete-not_alpha_consistent-not_fixblock/logs/50-SARS-CoV2-MSA-depth-penalization1000-min_len0-min_coverage0.5-alpha115-rule-ilp.log'),\n",
       " PosixPath('/data/analysis-paper/experiments-decompositions/sars-cov-2-50-complete-not_alpha_consistent-not_fixblock/logs/50-SARS-CoV2-MSA-nodes-penalization0-min_len0-min_coverage0-alpha243-rule-ilp.log'),\n",
       " PosixPath('/data/analysis-paper/experiments-decompositions/sars-cov-2-50-complete-not_alpha_consistent-not_fixblock/logs/50-SARS-CoV2-MSA-depth-penalization1000-min_len0-min_coverage0.3-alpha115-rule-ilp.log'),\n",
       " PosixPath('/data/analysis-paper/experiments-decompositions/sars-cov-2-50-complete-not_alpha_consistent-not_fixblock/logs/50-SARS-CoV2-MSA-nodes-penalization0-min_len0-min_coverage0-alpha177-rule-ilp.log'),\n",
       " PosixPath('/data/analysis-paper/experiments-decompositions/sars-cov-2-50-complete-not_alpha_consistent-not_fixblock/logs/50-SARS-CoV2-MSA-depth-penalization1000-min_len0-min_coverage0.5-alpha116-rule-ilp.log'),\n",
       " PosixPath('/data/analysis-paper/experiments-decompositions/sars-cov-2-50-complete-not_alpha_consistent-not_fixblock/logs/50-SARS-CoV2-MSA-nodes-penalization0-min_len0-min_coverage0-alpha300-rule-ilp.log'),\n",
       " PosixPath('/data/analysis-paper/experiments-decompositions/sars-cov-2-50-complete-not_alpha_consistent-not_fixblock/logs/50-SARS-CoV2-MSA-depth-penalization1000-min_len0-min_coverage0.3-alpha92-rule-ilp.log'),\n",
       " PosixPath('/data/analysis-paper/experiments-decompositions/sars-cov-2-50-complete-not_alpha_consistent-not_fixblock/logs/50-SARS-CoV2-MSA-depth-penalization1000-min_len0-min_coverage0.3-alpha116-rule-ilp.log')]"
      ]
     },
     "execution_count": 10,
     "metadata": {},
     "output_type": "execute_result"
    }
   ],
   "source": [
    "list(x for x in COMPLETE.joinpath(\"logs\").rglob(\"*.log\") if \"rule-ilp\" in x.stem)"
   ]
  },
  {
   "cell_type": "code",
   "execution_count": 11,
   "metadata": {},
   "outputs": [
    {
     "data": {
      "text/html": [
       "<div>\n",
       "<style scoped>\n",
       "    .dataframe tbody tr th:only-of-type {\n",
       "        vertical-align: middle;\n",
       "    }\n",
       "\n",
       "    .dataframe tbody tr th {\n",
       "        vertical-align: top;\n",
       "    }\n",
       "\n",
       "    .dataframe thead th {\n",
       "        text-align: right;\n",
       "    }\n",
       "</style>\n",
       "<table border=\"1\" class=\"dataframe\">\n",
       "  <thead>\n",
       "    <tr style=\"text-align: right;\">\n",
       "      <th></th>\n",
       "      <th>name</th>\n",
       "      <th>objective_function</th>\n",
       "      <th>penalization</th>\n",
       "      <th>min_len</th>\n",
       "      <th>min_coverage</th>\n",
       "      <th>alpha</th>\n",
       "      <th>User time (seconds)</th>\n",
       "      <th>System time (seconds)</th>\n",
       "      <th>Elapsed (wall clock) time (h:mm:ss or m:ss) (seconds)</th>\n",
       "      <th>Maximum resident set size (kbytes)</th>\n",
       "      <th>decomposition</th>\n",
       "      <th>Max RAM (GB)</th>\n",
       "    </tr>\n",
       "  </thead>\n",
       "  <tbody>\n",
       "    <tr>\n",
       "      <th>0</th>\n",
       "      <td>50-SARS-CoV2-MSA</td>\n",
       "      <td>weighted</td>\n",
       "      <td>1000</td>\n",
       "      <td>30</td>\n",
       "      <td>0.0</td>\n",
       "      <td>106</td>\n",
       "      <td>614.36</td>\n",
       "      <td>12.11</td>\n",
       "      <td>626.15</td>\n",
       "      <td>7503464.0</td>\n",
       "      <td>row-maximal</td>\n",
       "      <td>7.503464</td>\n",
       "    </tr>\n",
       "    <tr>\n",
       "      <th>1</th>\n",
       "      <td>50-SARS-CoV2-MSA</td>\n",
       "      <td>weighted</td>\n",
       "      <td>1000</td>\n",
       "      <td>20</td>\n",
       "      <td>0.0</td>\n",
       "      <td>179</td>\n",
       "      <td>2170.60</td>\n",
       "      <td>75.04</td>\n",
       "      <td>2246.88</td>\n",
       "      <td>30073856.0</td>\n",
       "      <td>row-maximal</td>\n",
       "      <td>30.073856</td>\n",
       "    </tr>\n",
       "    <tr>\n",
       "      <th>2</th>\n",
       "      <td>50-SARS-CoV2-MSA</td>\n",
       "      <td>depth</td>\n",
       "      <td>1000</td>\n",
       "      <td>0</td>\n",
       "      <td>0.3</td>\n",
       "      <td>42</td>\n",
       "      <td>156.15</td>\n",
       "      <td>4.33</td>\n",
       "      <td>159.87</td>\n",
       "      <td>1487444.0</td>\n",
       "      <td>row-maximal</td>\n",
       "      <td>1.487444</td>\n",
       "    </tr>\n",
       "    <tr>\n",
       "      <th>3</th>\n",
       "      <td>50-SARS-CoV2-MSA</td>\n",
       "      <td>weighted</td>\n",
       "      <td>1000</td>\n",
       "      <td>15</td>\n",
       "      <td>0.0</td>\n",
       "      <td>264</td>\n",
       "      <td>2355.22</td>\n",
       "      <td>72.92</td>\n",
       "      <td>2430.71</td>\n",
       "      <td>21182416.0</td>\n",
       "      <td>row-maximal</td>\n",
       "      <td>21.182416</td>\n",
       "    </tr>\n",
       "    <tr>\n",
       "      <th>4</th>\n",
       "      <td>50-SARS-CoV2-MSA</td>\n",
       "      <td>weighted</td>\n",
       "      <td>1000</td>\n",
       "      <td>20</td>\n",
       "      <td>0.0</td>\n",
       "      <td>178</td>\n",
       "      <td>1978.08</td>\n",
       "      <td>87.20</td>\n",
       "      <td>2066.98</td>\n",
       "      <td>26177308.0</td>\n",
       "      <td>row-maximal</td>\n",
       "      <td>26.177308</td>\n",
       "    </tr>\n",
       "  </tbody>\n",
       "</table>\n",
       "</div>"
      ],
      "text/plain": [
       "               name objective_function  penalization  min_len  min_coverage  \\\n",
       "0  50-SARS-CoV2-MSA           weighted          1000       30           0.0   \n",
       "1  50-SARS-CoV2-MSA           weighted          1000       20           0.0   \n",
       "2  50-SARS-CoV2-MSA              depth          1000        0           0.3   \n",
       "3  50-SARS-CoV2-MSA           weighted          1000       15           0.0   \n",
       "4  50-SARS-CoV2-MSA           weighted          1000       20           0.0   \n",
       "\n",
       "   alpha  User time (seconds)  System time (seconds)  \\\n",
       "0    106               614.36                  12.11   \n",
       "1    179              2170.60                  75.04   \n",
       "2     42               156.15                   4.33   \n",
       "3    264              2355.22                  72.92   \n",
       "4    178              1978.08                  87.20   \n",
       "\n",
       "   Elapsed (wall clock) time (h:mm:ss or m:ss) (seconds)  \\\n",
       "0                                             626.15       \n",
       "1                                            2246.88       \n",
       "2                                             159.87       \n",
       "3                                            2430.71       \n",
       "4                                            2066.98       \n",
       "\n",
       "   Maximum resident set size (kbytes) decomposition  Max RAM (GB)  \n",
       "0                           7503464.0   row-maximal      7.503464  \n",
       "1                          30073856.0   row-maximal     30.073856  \n",
       "2                           1487444.0   row-maximal      1.487444  \n",
       "3                          21182416.0   row-maximal     21.182416  \n",
       "4                          26177308.0   row-maximal     26.177308  "
      ]
     },
     "execution_count": 11,
     "metadata": {},
     "output_type": "execute_result"
    }
   ],
   "source": [
    "data = pd.DataFrame(list_params)\n",
    "data[\"Max RAM (GB)\"] = data[\"Maximum resident set size (kbytes)\"].apply(lambda d: d / 1_000_000)\n",
    "# data[\"columns\"] = data[\"end\"] - data[\"start\"] +1 \n",
    "data.to_csv(PATH_SAVE.joinpath(\"usrbintime.tsv\"))\n",
    "data.head()\n"
   ]
  },
  {
   "cell_type": "code",
   "execution_count": 12,
   "metadata": {},
   "outputs": [],
   "source": [
    "feature = \"Max RAM (GB)\"\n",
    "# min and max y-axis values\n",
    "feat_min = data[feature].min()\n",
    "feat_max = max(data[feature].max(), info_pggb[feature], info_vg[feature]) \n",
    "delta_range = feat_max - feat_min\n",
    "ymin = feat_min - 0.1*delta_range \n",
    "ymax = feat_max + 0.1*delta_range"
   ]
  },
  {
   "cell_type": "code",
   "execution_count": 13,
   "metadata": {},
   "outputs": [
    {
     "data": {
      "text/plain": [
       "{'User time (seconds)': 184.05,\n",
       " 'System time (seconds)': 267.87,\n",
       " 'Elapsed (wall clock) time (h:mm:ss or m:ss) (seconds)': 61.41,\n",
       " 'Maximum resident set size (kbytes)': 1245924.0,\n",
       " 'Max RAM (GB)': 1.245924}"
      ]
     },
     "execution_count": 13,
     "metadata": {},
     "output_type": "execute_result"
    }
   ],
   "source": [
    "info_pggb"
   ]
  },
  {
   "cell_type": "code",
   "execution_count": 14,
   "metadata": {},
   "outputs": [
    {
     "data": {
      "text/html": [
       "<div>\n",
       "<style scoped>\n",
       "    .dataframe tbody tr th:only-of-type {\n",
       "        vertical-align: middle;\n",
       "    }\n",
       "\n",
       "    .dataframe tbody tr th {\n",
       "        vertical-align: top;\n",
       "    }\n",
       "\n",
       "    .dataframe thead th {\n",
       "        text-align: right;\n",
       "    }\n",
       "</style>\n",
       "<table border=\"1\" class=\"dataframe\">\n",
       "  <thead>\n",
       "    <tr style=\"text-align: right;\">\n",
       "      <th></th>\n",
       "      <th>name</th>\n",
       "      <th>objective_function</th>\n",
       "      <th>penalization</th>\n",
       "      <th>min_len</th>\n",
       "      <th>min_coverage</th>\n",
       "      <th>alpha</th>\n",
       "      <th>User time (seconds)</th>\n",
       "      <th>System time (seconds)</th>\n",
       "      <th>Elapsed (wall clock) time (h:mm:ss or m:ss) (seconds)</th>\n",
       "      <th>Maximum resident set size (kbytes)</th>\n",
       "      <th>decomposition</th>\n",
       "      <th>Max RAM (GB)</th>\n",
       "    </tr>\n",
       "  </thead>\n",
       "  <tbody>\n",
       "    <tr>\n",
       "      <th>0</th>\n",
       "      <td>50-SARS-CoV2-MSA</td>\n",
       "      <td>weighted</td>\n",
       "      <td>1000</td>\n",
       "      <td>30</td>\n",
       "      <td>0.0</td>\n",
       "      <td>106</td>\n",
       "      <td>614.36</td>\n",
       "      <td>12.11</td>\n",
       "      <td>626.15</td>\n",
       "      <td>7503464.0</td>\n",
       "      <td>row-maximal</td>\n",
       "      <td>7.503464</td>\n",
       "    </tr>\n",
       "    <tr>\n",
       "      <th>1</th>\n",
       "      <td>50-SARS-CoV2-MSA</td>\n",
       "      <td>weighted</td>\n",
       "      <td>1000</td>\n",
       "      <td>20</td>\n",
       "      <td>0.0</td>\n",
       "      <td>179</td>\n",
       "      <td>2170.60</td>\n",
       "      <td>75.04</td>\n",
       "      <td>2246.88</td>\n",
       "      <td>30073856.0</td>\n",
       "      <td>row-maximal</td>\n",
       "      <td>30.073856</td>\n",
       "    </tr>\n",
       "    <tr>\n",
       "      <th>2</th>\n",
       "      <td>50-SARS-CoV2-MSA</td>\n",
       "      <td>depth</td>\n",
       "      <td>1000</td>\n",
       "      <td>0</td>\n",
       "      <td>0.3</td>\n",
       "      <td>42</td>\n",
       "      <td>156.15</td>\n",
       "      <td>4.33</td>\n",
       "      <td>159.87</td>\n",
       "      <td>1487444.0</td>\n",
       "      <td>row-maximal</td>\n",
       "      <td>1.487444</td>\n",
       "    </tr>\n",
       "    <tr>\n",
       "      <th>3</th>\n",
       "      <td>50-SARS-CoV2-MSA</td>\n",
       "      <td>weighted</td>\n",
       "      <td>1000</td>\n",
       "      <td>15</td>\n",
       "      <td>0.0</td>\n",
       "      <td>264</td>\n",
       "      <td>2355.22</td>\n",
       "      <td>72.92</td>\n",
       "      <td>2430.71</td>\n",
       "      <td>21182416.0</td>\n",
       "      <td>row-maximal</td>\n",
       "      <td>21.182416</td>\n",
       "    </tr>\n",
       "    <tr>\n",
       "      <th>4</th>\n",
       "      <td>50-SARS-CoV2-MSA</td>\n",
       "      <td>weighted</td>\n",
       "      <td>1000</td>\n",
       "      <td>20</td>\n",
       "      <td>0.0</td>\n",
       "      <td>178</td>\n",
       "      <td>1978.08</td>\n",
       "      <td>87.20</td>\n",
       "      <td>2066.98</td>\n",
       "      <td>26177308.0</td>\n",
       "      <td>row-maximal</td>\n",
       "      <td>26.177308</td>\n",
       "    </tr>\n",
       "  </tbody>\n",
       "</table>\n",
       "</div>"
      ],
      "text/plain": [
       "               name objective_function  penalization  min_len  min_coverage  \\\n",
       "0  50-SARS-CoV2-MSA           weighted          1000       30           0.0   \n",
       "1  50-SARS-CoV2-MSA           weighted          1000       20           0.0   \n",
       "2  50-SARS-CoV2-MSA              depth          1000        0           0.3   \n",
       "3  50-SARS-CoV2-MSA           weighted          1000       15           0.0   \n",
       "4  50-SARS-CoV2-MSA           weighted          1000       20           0.0   \n",
       "\n",
       "   alpha  User time (seconds)  System time (seconds)  \\\n",
       "0    106               614.36                  12.11   \n",
       "1    179              2170.60                  75.04   \n",
       "2     42               156.15                   4.33   \n",
       "3    264              2355.22                  72.92   \n",
       "4    178              1978.08                  87.20   \n",
       "\n",
       "   Elapsed (wall clock) time (h:mm:ss or m:ss) (seconds)  \\\n",
       "0                                             626.15       \n",
       "1                                            2246.88       \n",
       "2                                             159.87       \n",
       "3                                            2430.71       \n",
       "4                                            2066.98       \n",
       "\n",
       "   Maximum resident set size (kbytes) decomposition  Max RAM (GB)  \n",
       "0                           7503464.0   row-maximal      7.503464  \n",
       "1                          30073856.0   row-maximal     30.073856  \n",
       "2                           1487444.0   row-maximal      1.487444  \n",
       "3                          21182416.0   row-maximal     21.182416  \n",
       "4                          26177308.0   row-maximal     26.177308  "
      ]
     },
     "execution_count": 14,
     "metadata": {},
     "output_type": "execute_result"
    }
   ],
   "source": [
    "data.head()"
   ]
  },
  {
   "cell_type": "code",
   "execution_count": null,
   "metadata": {},
   "outputs": [],
   "source": []
  },
  {
   "cell_type": "markdown",
   "metadata": {},
   "source": [
    "## RAM"
   ]
  },
  {
   "cell_type": "code",
   "execution_count": 15,
   "metadata": {},
   "outputs": [
    {
     "data": {
      "image/png": "[encoded data removed]",
      "text/plain": [
       "<Figure size 640x480 with 1 Axes>"
      ]
     },
     "metadata": {},
     "output_type": "display_data"
    }
   ],
   "source": [
    "sns.set_style(style=\"darkgrid\")\n",
    "g_ram = sns.lineplot(\n",
    "    data=data, \n",
    "    x=\"alpha\", y=feature, \n",
    "    hue=\"decomposition\", \n",
    "    style=\"decomposition\", \n",
    "    marker=\"o\",\n",
    "    )# hue_order=OBJ_FUNCTIONS)\n",
    "# g_ram.text(x=0.5, y=1.1, s=f'{NAME} | Potential seeds of length 15 w.r.t. {chr(945)}', fontsize=FONTSIZE_TITLE, weight='bold', ha='center', va='bottom', transform=g_ram.transAxes)\n",
    "# g_potential_seeds.text(x=0.5, y=1.05, s=f'Complete vs Row-maximal decomposition | not-{chr(945)}-consistent', fontsize=FONTSIZE_SUBTITLE, alpha=0.75, ha='center', va='bottom', transform=g_potential_seeds.transAxes)\n",
    "g_ram.set_xlabel(f\"{chr(945)}\", fontsize=FONTSIZE_X)\n",
    "g_ram.set_ylabel(\"Max RAM (GB)\", fontsize=FONTSIZE_Y)\n",
    "g_ram.set_ylim([ymin,ymax])\n",
    "\n",
    "# add pggb\n",
    "g_ram.axhline(y=info_pggb[feature], linestyle=\":\",color = \"black\", label=\"pggb\")\n",
    "# ax.text(x=-2, y=info_pggb[NAME][feature],s=\"pggb\", color=\"black\")\n",
    "\n",
    "# add vg\n",
    "g_ram.axhline(y=info_vg[feature], linestyle=\":\",color = \"red\", label=\"feature\")\n",
    "\n",
    "sns.move_legend(\n",
    "    g_ram, \"lower center\",\n",
    "    bbox_to_anchor=(.5, 1), ncol=5, title=\"\", frameon=False,\n",
    ")\n",
    "\n",
    "g_ram.figure.tight_layout()\n",
    "g_ram.get_figure().savefig(PATH_SAVE.joinpath(f\"{NAME}-ilp-instances-RAM.png\"),dpi=300)"
   ]
  },
  {
   "cell_type": "markdown",
   "metadata": {},
   "source": [
    "## User Time"
   ]
  },
  {
   "cell_type": "code",
   "execution_count": 16,
   "metadata": {},
   "outputs": [],
   "source": [
    "feature = \"User time (seconds)\"\n",
    "# min and max y-axis values\n",
    "feat_min = data[feature].min()\n",
    "feat_max = max(data[feature].max(), info_pggb[feature], info_vg[feature]) \n",
    "delta_range = feat_max - feat_min\n",
    "ymin = feat_min - 0.1*delta_range \n",
    "ymax = feat_max + 0.1*delta_range"
   ]
  },
  {
   "cell_type": "code",
   "execution_count": 17,
   "metadata": {},
   "outputs": [
    {
     "data": {
      "image/png": "[encoded data removed]",
      "text/plain": [
       "<Figure size 640x480 with 1 Axes>"
      ]
     },
     "metadata": {},
     "output_type": "display_data"
    }
   ],
   "source": [
    "g_ram = sns.lineplot(\n",
    "    data=data, \n",
    "    x=\"alpha\", y=feature, \n",
    "    hue=\"decomposition\", \n",
    "    style=\"decomposition\", \n",
    "    marker=\"o\",\n",
    "    )# hue_order=OBJ_FUNCTIONS)\n",
    "# g_ram.text(x=0.5, y=1.1, s=f'{NAME} | Potential seeds of length 15 w.r.t. {chr(945)}', fontsize=FONTSIZE_TITLE, weight='bold', ha='center', va='bottom', transform=g_ram.transAxes)\n",
    "# g_potential_seeds.text(x=0.5, y=1.05, s=f'Complete vs Row-maximal decomposition | not-{chr(945)}-consistent', fontsize=FONTSIZE_SUBTITLE, alpha=0.75, ha='center', va='bottom', transform=g_potential_seeds.transAxes)\n",
    "g_ram.set_xlabel(f\"{chr(945)}\", fontsize=FONTSIZE_X)\n",
    "g_ram.set_ylabel(\"User time (s)\", fontsize=FONTSIZE_Y)\n",
    "g_ram.set_ylim([ymin,ymax])\n",
    "\n",
    "# add pggb\n",
    "g_ram.axhline(y=info_pggb[feature], linestyle=\":\",color = \"black\", label=\"pggb\")\n",
    "# ax.text(x=-2, y=info_pggb[NAME][feature],s=\"pggb\", color=\"black\")\n",
    "\n",
    "# add vg\n",
    "g_ram.axhline(y=info_vg[feature], linestyle=\":\",color = \"red\", label=\"feature\")\n",
    "\n",
    "\n",
    "sns.move_legend(\n",
    "    g_ram, \"lower center\",\n",
    "    bbox_to_anchor=(.5, 1), ncol=5, title=\"\", frameon=False,\n",
    ")\n",
    "\n",
    "g_ram.figure.tight_layout()\n",
    "g_ram.get_figure().savefig(PATH_SAVE.joinpath(f\"{NAME}-ilp-instances-User_time.png\"),dpi=300)"
   ]
  },
  {
   "cell_type": "code",
   "execution_count": null,
   "metadata": {},
   "outputs": [],
   "source": []
  }
 ],
 "metadata": {
  "kernelspec": {
   "display_name": "pangeblocks",
   "language": "python",
   "name": "python3"
  },
  "language_info": {
   "codemirror_mode": {
    "name": "ipython",
    "version": 3
   },
   "file_extension": ".py",
   "mimetype": "text/x-python",
   "name": "python",
   "nbconvert_exporter": "python",
   "pygments_lexer": "ipython3",
   "version": "3.10.6"
  }
 },
 "nbformat": 4,
 "nbformat_minor": 2
}
