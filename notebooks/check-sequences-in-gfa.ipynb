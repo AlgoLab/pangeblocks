{
 "cells": [
  {
   "cell_type": "code",
   "execution_count": 321,
   "metadata": {},
   "outputs": [],
   "source": [
    "# Allow src folder to be imported from this notebook\n",
    "import sys\n",
    "from pathlib import Path\n",
    "\n",
    "module_path = str(Path.cwd().parents[0])\n",
    "if module_path not in sys.path:\n",
    "    sys.path.append(module_path)"
   ]
  },
  {
   "cell_type": "code",
   "execution_count": 322,
   "metadata": {},
   "outputs": [],
   "source": [
    "from src.graph.bandage_labels_from_gfa import bandage_labels\n",
    "from Bio import AlignIO\n",
    "from collections import defaultdict\n",
    "\n",
    "NAME_MSA = \"toyexample\"\n",
    "path_msa = f\"../msas-didelot/{NAME_MSA}.fa\"\n",
    "msa=AlignIO.read(path_msa,\"fasta\")\n"
   ]
  },
  {
   "cell_type": "code",
   "execution_count": 323,
   "metadata": {},
   "outputs": [],
   "source": [
    "def load_gfa(path):\n",
    "    nodes=dict()\n",
    "    edges=list()\n",
    "    paths=dict()\n",
    "    in_nodes = defaultdict(list)\n",
    "    out_nodes = defaultdict(list)\n",
    "\n",
    "    with open(path,\"r\") as fp: \n",
    "        for line in fp.readlines():\n",
    "            # print(line)\n",
    "            line = line.replace(\"\\n\",\"\")\n",
    "            line = line.split(\"\\t\")\n",
    "            # node\n",
    "            if line[0]==\"S\":\n",
    "                id_node = int(line[1])\n",
    "                label_node = line[2].upper()\n",
    "                nodes[id_node]=dict(label=label_node)\n",
    "            # edge\n",
    "            elif line[0]==\"L\":\n",
    "                start_node = int(line[1])\n",
    "                end_node = int(line[3])\n",
    "                in_nodes[end_node].append(start_node)\n",
    "                out_nodes[start_node].append(end_node)\n",
    "\n",
    "                edges.append((start_node,end_node))\n",
    "\n",
    "    return nodes, edges, paths, in_nodes, out_nodes\n",
    "\n",
    "# path_gfa = f\"../output-didelot/output-pandora/coli27-86.gfa\" # make prg\n",
    "path_gfa = f\"../experiment-didelot/gfa/{NAME_MSA}.gfa\" # pangeblock /home/avila/pangeblocks/experiment-didelot/gfa/toyexample.gfa\n",
    "nodes, edges, paths, in_nodes, out_nodes = load_gfa(path_gfa)\n",
    "\n",
    "\n",
    "bandage_labels(path_gfa, f\"../output-didelot/output-pandora/{NAME_MSA}.csv\")"
   ]
  },
  {
   "attachments": {},
   "cell_type": "markdown",
   "metadata": {},
   "source": [
    "___"
   ]
  },
  {
   "cell_type": "code",
   "execution_count": 326,
   "metadata": {},
   "outputs": [],
   "source": [
    "# sequence from the msa\n",
    "seq = msa[2].seq\n",
    "seq = \"CGATGA\"\n",
    "\n",
    "# booleans\n",
    "_visited = defaultdict(bool)\n",
    "_match = defaultdict(bool) # save if a node matches with the sequence or not\n",
    "_current_pos_seq = defaultdict(int) # save path and position until the seq spelt by the path matches the input seq \n",
    "\n",
    "# initialization\n",
    "# toy example\n",
    "source_node = 90\n",
    "sink_node   = 100\n",
    "\n",
    "# make_prg coli27-86 \n",
    "# source_node=0\n",
    "# sink_node=975\n",
    "_visited[source_node] = True\n",
    "_current_pos_seq[source_node] = 0\n",
    "\n",
    "nodes_to_visit = [source_node]"
   ]
  },
  {
   "cell_type": "code",
   "execution_count": 327,
   "metadata": {},
   "outputs": [
    {
     "name": "stdout",
     "output_type": "stream",
     "text": [
      "-1 100\n",
      "[90]\n",
      "C C\n",
      "[5]\n",
      "GAT GAT\n",
      "[3]\n",
      "G G\n",
      "[0]\n",
      "A A\n",
      "[4]\n",
      "True\n"
     ]
    }
   ],
   "source": [
    "node_id = -1 # reset node_id\n",
    "print(node_id, sink_node)\n",
    "while nodes_to_visit and node_id != sink_node:\n",
    "    print(nodes_to_visit)\n",
    "    current_node = nodes_to_visit.pop()\n",
    "    current_pos_seq = _current_pos_seq[current_node]\n",
    "    \n",
    "    for node_id in out_nodes[current_node]:    \n",
    "        \n",
    "        if node_id == sink_node:\n",
    "            break # path exists\n",
    "\n",
    "        label = nodes[node_id][\"label\"].upper() # string node\n",
    "        subseq = str(seq[current_pos_seq:current_pos_seq+len(label)]).upper() # string sequence\n",
    "\n",
    "        if label == \"*\": # case make_prg\n",
    "            # _current_pos_seq[node_id] = current_pos_seq\n",
    "            nodes_to_visit.append(node_id)\n",
    "            _current_pos_seq[node_id] = current_pos_seq\n",
    "           \n",
    "        elif subseq == label: # there is a match\n",
    "            print(subseq, label)\n",
    "            _current_pos_seq[node_id] = current_pos_seq + len(label)\n",
    "            nodes_to_visit.append(node_id)\n",
    "         \n",
    "        else: # no match\n",
    "            _visited[node_id] = True\n",
    "\n",
    "print(node_id == sink_node)"
   ]
  }
 ],
 "metadata": {
  "kernelspec": {
   "display_name": "pbenv",
   "language": "python",
   "name": "python3"
  },
  "language_info": {
   "codemirror_mode": {
    "name": "ipython",
    "version": 3
   },
   "file_extension": ".py",
   "mimetype": "text/x-python",
   "name": "python",
   "nbconvert_exporter": "python",
   "pygments_lexer": "ipython3",
   "version": "3.10.6"
  },
  "orig_nbformat": 4,
  "vscode": {
   "interpreter": {
    "hash": "7a3f744a40f2cc2bb6ed47f09e67b858fce5d2f0f12c5fcd35c0d04a62dbf281"
   }
  }
 },
 "nbformat": 4,
 "nbformat_minor": 2
}
