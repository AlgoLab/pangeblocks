{
 "cells": [
  {
   "cell_type": "code",
   "execution_count": 27,
   "metadata": {},
   "outputs": [],
   "source": [
    "from typing import Union\n",
    "from pathlib import Path\n",
    "\n",
    "\n",
    "from Bio.Align import MultipleSeqAlignment as MSA\n",
    "from Bio import AlignIO\n",
    "from Bio.Seq import Seq, MutableSeq\n",
    "from Bio.SeqRecord import SeqRecord"
   ]
  },
  {
   "cell_type": "code",
   "execution_count": 28,
   "metadata": {},
   "outputs": [],
   "source": [
    "ALPHABET=[\"a\",\"c\",\"g\",\"t\",\"-\"]\n",
    "path_msa=\"/data/analysis-paper/msas/paper/20/20-sars-cov-2-ena.fa\""
   ]
  },
  {
   "cell_type": "code",
   "execution_count": 29,
   "metadata": {},
   "outputs": [],
   "source": [
    "msa=AlignIO.read(path_msa, \"fasta\")\n",
    "n_cols = msa.get_alignment_length()\n",
    "n_seqs = len(msa)"
   ]
  },
  {
   "cell_type": "code",
   "execution_count": 30,
   "metadata": {},
   "outputs": [
    {
     "data": {
      "text/plain": [
       "(29903, 50)"
      ]
     },
     "execution_count": 30,
     "metadata": {},
     "output_type": "execute_result"
    }
   ],
   "source": [
    "n_cols, n_seqs"
   ]
  },
  {
   "cell_type": "code",
   "execution_count": 33,
   "metadata": {},
   "outputs": [],
   "source": [
    "list_chars = []\n",
    "\n",
    "# create new MSA\n",
    "records = []\n",
    "\n",
    "for row in range(n_seqs):\n",
    "    seq = MutableSeq(msa[row].seq)\n",
    "    for c in set(seq):\n",
    "        if c not in ALPHABET:\n",
    "            seq = seq.replace(c,\"-\")\n",
    "\n",
    "    # list_chars.extend(\n",
    "    #     list(set(seq))\n",
    "    # )    \n",
    "    records.append(\n",
    "        SeqRecord(\n",
    "            seq=Seq(seq), id=msa[row].id, name=msa[row].name, description=msa[row].description \n",
    "            )\n",
    "    )\n",
    "new_msa=MSA(records)"
   ]
  },
  {
   "cell_type": "code",
   "execution_count": 35,
   "metadata": {},
   "outputs": [
    {
     "name": "stdout",
     "output_type": "stream",
     "text": [
      "Alignment with 50 rows and 29903 columns\n",
      "----aaggt-tataccttcccaggtaacaaaccaaccaactttc...--- ENA|MW565758|MW565758.1\n",
      "----------tataccttcccaggtaacaaaccaaccaactttc...--- ENA|MW565759|MW565759.1\n",
      "--------------------------------------actttc...--- ENA|MW565760|MW565760.1\n",
      "---------------------------------------ctttc...--- ENA|MW565761|MW565761.1\n",
      "-----------ataccttcccaggtaacaaaccaaccaactttc...--- ENA|MT970305|MT970305.1\n",
      "--------------------------------------------...--- ENA|MT811295|MT811295.1\n",
      "--------------------------------------------...--- ENA|MT407656|MT407656.1\n",
      "------------taccttcccaggtaacaaaccaaccaactttc...--- ENA|MW626827|MW626827.1\n",
      "----------------------ggtaacaaaccaaccaactttc...--- ENA|MT520494|MT520494.1\n",
      "--------------------------------------------...--- ENA|MW420377|MW420377.1\n",
      "------ggtttataccttcccaggtaacaaaccaaccaactttc...--- ENA|MT520495|MT520495.1\n",
      "--------------------------------------------...--- ENA|MW420388|MW420388.1\n",
      "----aaggtttataccttcccaggtaacaaaccaaccaactttc...--- ENA|MT970318|MT970318.1\n",
      "------------------------------------------tc...--- ENA|MT664203|MT664203.1\n",
      "--------------------------------------------...--- ENA|MW064948|MW064948.1\n",
      "----------------ttcccaggtaacaaaccaaccaactttc...--- ENA|MW153771|MW153771.1\n",
      "------------------------------------------tc...--- ENA|MT664205|MT664205.1\n",
      "--------------------------------------------...--- ENA|MW276172|MW276172.1\n",
      "...\n",
      "--------------------------------------------...--- ENA|MW153866|MW153866.1\n"
     ]
    }
   ],
   "source": [
    "print(new_msa)"
   ]
  },
  {
   "cell_type": "code",
   "execution_count": 37,
   "metadata": {},
   "outputs": [],
   "source": [
    "with open(\"/data/analysis-paper/msas/paper/50-vg/50-sars-cov-2-ena.fa\",\"w\") as fp:\n",
    "    AlignIO.write(new_msa, fp, \"fasta\")"
   ]
  },
  {
   "cell_type": "code",
   "execution_count": null,
   "metadata": {},
   "outputs": [],
   "source": []
  }
 ],
 "metadata": {
  "kernelspec": {
   "display_name": "pangeblocks",
   "language": "python",
   "name": "python3"
  },
  "language_info": {
   "codemirror_mode": {
    "name": "ipython",
    "version": 3
   },
   "file_extension": ".py",
   "mimetype": "text/x-python",
   "name": "python",
   "nbconvert_exporter": "python",
   "pygments_lexer": "ipython3",
   "version": "3.10.6"
  }
 },
 "nbformat": 4,
 "nbformat_minor": 2
}
