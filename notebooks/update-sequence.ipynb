{
 "cells": [
  {
   "cell_type": "code",
   "execution_count": 21,
   "metadata": {},
   "outputs": [],
   "source": [
    "# Allow src folder to be imported from this notebook\n",
    "import sys\n",
    "from pathlib import Path\n",
    "\n",
    "module_path = str(Path.cwd().parents[0])\n",
    "if module_path not in sys.path:\n",
    "    sys.path.append(module_path)"
   ]
  },
  {
   "cell_type": "code",
   "execution_count": 22,
   "metadata": {},
   "outputs": [],
   "source": [
    "import json\n",
    "import gurobipy as gp\n",
    "from collections import defaultdict\n",
    "from pathlib import Path\n",
    "from gurobipy import GRB\n",
    "from src.blocks import Block\n",
    "import logging\n",
    "logging.basicConfig(level=logging.INFO)"
   ]
  },
  {
   "cell_type": "code",
   "execution_count": 23,
   "metadata": {},
   "outputs": [],
   "source": [
    "## inputs\n",
    "# optimal coverage\n",
    "path_oc = \"../output/opt-coverage/toyexample.json\" \n",
    "with open(path_oc, \"r\") as fp:\n",
    "    blocks_oc = [Block(*block) for block in json.load(fp)] \n",
    "\n",
    "# sequence to update\n",
    "seq = \"AGATGA\" # \"AGATCA\""
   ]
  },
  {
   "cell_type": "code",
   "execution_count": 30,
   "metadata": {},
   "outputs": [
    {
     "data": {
      "text/plain": [
       "defaultdict(list, {5: [0], 1: [1], 2: [1], 3: [1], 0: [2], 4: [5]})"
      ]
     },
     "execution_count": 30,
     "metadata": {},
     "output_type": "execute_result"
    }
   ],
   "source": [
    "# consider only blocks with a positional string of the input sequence\n",
    "covering_by_position = defaultdict(list)\n",
    "for idx, block in enumerate(blocks_oc):\n",
    "    pos_string = block.to_positional_string()\n",
    "    # use the pos string only if it match entirely to the sequence\n",
    "    if seq[pos_string.i:pos_string.j+1] == pos_string.b:\n",
    "        for c in range(pos_string.i, pos_string.j+1): \n",
    "            covering_by_position[c].append(idx)\n",
    "covering_by_position"
   ]
  },
  {
   "cell_type": "code",
   "execution_count": 13,
   "metadata": {},
   "outputs": [
    {
     "data": {
      "text/plain": [
       "[PositionalString(b='A', i=5, j=5),\n",
       " PositionalString(b='GAT', i=1, j=3),\n",
       " PositionalString(b='A', i=0, j=0),\n",
       " PositionalString(b='C', i=0, j=0),\n",
       " PositionalString(b='A', i=4, j=4),\n",
       " PositionalString(b='G', i=4, j=4)]"
      ]
     },
     "execution_count": 13,
     "metadata": {},
     "output_type": "execute_result"
    }
   ],
   "source": [
    "pos_strings_oc = [block.to_positional_string() for block in blocks_oc]\n",
    "pos_strings_oc"
   ]
  },
  {
   "cell_type": "code",
   "execution_count": null,
   "metadata": {},
   "outputs": [],
   "source": [
    "# model: update pangeblocks\n",
    "model = gp.Model(\"update-pangeblocks\")\n",
    "\n",
    "# set max threads\n",
    "model.setParam(GRB.Param.Threads, 8)\n",
    "\n",
    "# Decision variables \n",
    "# C[p] = 1 if pos string p is used\n",
    "# U[c] = 1 if position c in the input sequence is covered by a pos string\n",
    "C = model.addVars(range(len(pos_strings_oc)), vtype=GRB.BINARY, name=\"C\")\n",
    "U = model.addVars(range(len(seq)), vtype=GRB.BINARY, name=\"U\")\n",
    "\n",
    "# Constraints\n",
    "for c in range(len(seq)):\n",
    "    blocks_c = covering_by_position[c]\n",
    "\n",
    "    if len(blocks_c) > 0:\n",
    "        pass\n",
    "\n",
    "    "
   ]
  }
 ],
 "metadata": {
  "kernelspec": {
   "display_name": ".pbenv",
   "language": "python",
   "name": "python3"
  },
  "language_info": {
   "codemirror_mode": {
    "name": "ipython",
    "version": 3
   },
   "file_extension": ".py",
   "mimetype": "text/x-python",
   "name": "python",
   "nbconvert_exporter": "python",
   "pygments_lexer": "ipython3",
   "version": "3.10.6"
  },
  "orig_nbformat": 4,
  "vscode": {
   "interpreter": {
    "hash": "44769cd950da3b9845563330f3cd44a849f10af375db036cb0864d4fc3dc59f6"
   }
  }
 },
 "nbformat": 4,
 "nbformat_minor": 2
}
