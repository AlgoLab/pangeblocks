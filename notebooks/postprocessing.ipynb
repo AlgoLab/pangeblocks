{
 "cells": [
  {
   "cell_type": "code",
   "execution_count": 103,
   "metadata": {},
   "outputs": [],
   "source": [
    "import sys\n",
    "from pathlib import Path\n",
    "\n",
    "# allow src folder to be imported from this notebook\n",
    "module_path = str(Path.cwd().parents[0])\n",
    "if module_path not in sys.path:\n",
    "    sys.path.append(module_path)"
   ]
  },
  {
   "cell_type": "code",
   "execution_count": 104,
   "metadata": {},
   "outputs": [],
   "source": [
    "from src.blocks import Block\n",
    "from collections import defaultdict"
   ]
  },
  {
   "cell_type": "code",
   "execution_count": 105,
   "metadata": {},
   "outputs": [],
   "source": [
    "# blocks for \n",
    "## A C C\n",
    "## G G C\n",
    "list_blocks = [\n",
    "            Block((0,),1,1,\"C\"),\n",
    "            Block((0,),0,0,\"A\"),\n",
    "            Block((0,1),2,2,\"C\"),\n",
    "            Block((1,),0,1,\"GG\")\n",
    "        ]            \n",
    "\n",
    "new_blocks = [] # post processed blocks"
   ]
  },
  {
   "cell_type": "code",
   "execution_count": 106,
   "metadata": {},
   "outputs": [
    {
     "data": {
      "text/plain": [
       "[Block(K=(0,), i=1, j=1, label='C'),\n",
       " Block(K=(0,), i=0, j=0, label='A'),\n",
       " Block(K=(0, 1), i=2, j=2, label='C'),\n",
       " Block(K=(1,), i=0, j=1, label='GG')]"
      ]
     },
     "execution_count": 106,
     "metadata": {},
     "output_type": "execute_result"
    }
   ],
   "source": [
    "list_blocks"
   ]
  },
  {
   "cell_type": "code",
   "execution_count": 107,
   "metadata": {},
   "outputs": [],
   "source": [
    "blocks_by_setK = defaultdict(list)\n",
    "\n",
    "for idx, block in enumerate(list_blocks):\n",
    "    blocks_by_setK[block.K].append(idx)"
   ]
  },
  {
   "cell_type": "code",
   "execution_count": 108,
   "metadata": {},
   "outputs": [
    {
     "data": {
      "text/plain": [
       "defaultdict(list, {(0,): [0, 1], (0, 1): [2], (1,): [3]})"
      ]
     },
     "execution_count": 108,
     "metadata": {},
     "output_type": "execute_result"
    }
   ],
   "source": [
    "blocks_by_setK"
   ]
  },
  {
   "cell_type": "code",
   "execution_count": 109,
   "metadata": {},
   "outputs": [
    {
     "data": {
      "text/plain": [
       "[0, 1]"
      ]
     },
     "execution_count": 109,
     "metadata": {},
     "output_type": "execute_result"
    }
   ],
   "source": [
    "setK = (0,)\n",
    "idx_blocks = blocks_by_setK[setK]\n",
    "idx_blocks"
   ]
  },
  {
   "cell_type": "code",
   "execution_count": 110,
   "metadata": {},
   "outputs": [],
   "source": [
    "blocks = [(idx,list_blocks[idx]) for idx in idx_blocks]\n",
    "blocks = sorted(blocks, key=lambda b: b[1].i)"
   ]
  },
  {
   "cell_type": "code",
   "execution_count": 111,
   "metadata": {},
   "outputs": [
    {
     "data": {
      "text/plain": [
       "[(1, Block(K=(0,), i=0, j=0, label='A')),\n",
       " (0, Block(K=(0,), i=1, j=1, label='C'))]"
      ]
     },
     "execution_count": 111,
     "metadata": {},
     "output_type": "execute_result"
    }
   ],
   "source": [
    "blocks"
   ]
  },
  {
   "cell_type": "code",
   "execution_count": 112,
   "metadata": {},
   "outputs": [
    {
     "name": "stdout",
     "output_type": "stream",
     "text": [
      "Block(K=(0,), i=0, j=0, label='A')\n",
      "Block(K=(0,), i=1, j=1, label='C')\n",
      "last block Block(K=(0,), i=0, j=0, label='A')\n",
      "Block(K=(0, 1), i=2, j=2, label='C')\n",
      "Block(K=(1,), i=0, j=1, label='GG')\n"
     ]
    }
   ],
   "source": [
    "for setK, idx_blocks in blocks_by_setK.items():\n",
    "    \n",
    "    blocks = [(idx,list_blocks[idx]) for idx in idx_blocks]\n",
    "    blocks = sorted(blocks, key=lambda b: b[1].i)\n",
    "\n",
    "    consecutive_blocks = [] # temporary list to collect consecutive blocks\n",
    "    for _, block in blocks: \n",
    "        print(block)\n",
    "        if consecutive_blocks: # not empty\n",
    "            last_block = consecutive_blocks[-1]\n",
    "            print(\"last block\", last_block)\n",
    "            # check if new block is consecutive to the last block in the list\n",
    "            # blocks are sorted by starting position\n",
    "            if last_block.j == block.i - 1:\n",
    "                consecutive_blocks.append(block)\n",
    "            else: \n",
    "                start = consecutive_blocks[0].i\n",
    "                end   = consecutive_blocks[-1].j\n",
    "                label = \"\".join([b.label for b in consecutive_blocks])\n",
    "                new_blocks.append(\n",
    "                    Block(setK, start, end, label)\n",
    "                )\n",
    "        else:\n",
    "            consecutive_blocks.append(block)\n",
    "\n",
    "    # after last block\n",
    "    start = consecutive_blocks[0].i\n",
    "    end   = consecutive_blocks[-1].j\n",
    "    label = \"\".join([b.label for b in consecutive_blocks])\n",
    "    new_blocks.append(\n",
    "        Block(setK, start, end, label)\n",
    "    )"
   ]
  },
  {
   "cell_type": "code",
   "execution_count": 113,
   "metadata": {},
   "outputs": [
    {
     "data": {
      "text/plain": [
       "[Block(K=(0,), i=0, j=1, label='AC'),\n",
       " Block(K=(0, 1), i=2, j=2, label='C'),\n",
       " Block(K=(1,), i=0, j=1, label='GG')]"
      ]
     },
     "execution_count": 113,
     "metadata": {},
     "output_type": "execute_result"
    }
   ],
   "source": [
    "new_blocks"
   ]
  },
  {
   "cell_type": "code",
   "execution_count": null,
   "metadata": {},
   "outputs": [],
   "source": []
  }
 ],
 "metadata": {
  "kernelspec": {
   "display_name": ".pbenv",
   "language": "python",
   "name": "python3"
  },
  "language_info": {
   "codemirror_mode": {
    "name": "ipython",
    "version": 3
   },
   "file_extension": ".py",
   "mimetype": "text/x-python",
   "name": "python",
   "nbconvert_exporter": "python",
   "pygments_lexer": "ipython3",
   "version": "3.10.6"
  },
  "orig_nbformat": 4,
  "vscode": {
   "interpreter": {
    "hash": "44769cd950da3b9845563330f3cd44a849f10af375db036cb0864d4fc3dc59f6"
   }
  }
 },
 "nbformat": 4,
 "nbformat_minor": 2
}
