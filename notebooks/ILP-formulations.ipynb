{
 "cells": [
  {
   "cell_type": "code",
   "execution_count": null,
   "metadata": {},
   "outputs": [],
   "source": [
    "# Allow src folder to be imported from this notebook\n",
    "import sys\n",
    "from pathlib import Path\n",
    "\n",
    "module_path = str(Path.cwd().parents[0])\n",
    "if module_path not in sys.path:\n",
    "    sys.path.append(module_path)"
   ]
  },
  {
   "attachments": {},
   "cell_type": "markdown",
   "metadata": {},
   "source": [
    "# ILP Formulation to cover an MSA with Blocks\n",
    "___\n",
    "\n",
    "- [ ] make faster the generation of constraints"
   ]
  },
  {
   "cell_type": "code",
   "execution_count": null,
   "metadata": {},
   "outputs": [],
   "source": [
    "import json\n",
    "import gurobipy as gp\n",
    "from gurobipy import GRB\n",
    "from src.blocks import Block\n",
    "from src.msa import AnalyzerMSA\n",
    "\n",
    "import numpy as np\n",
    "from collections import defaultdict\n",
    "\n",
    "# pangenome graph\n",
    "from src.graph import (\n",
    "    nodes_edges_from_blocks, \n",
    "    PlotGraph\n",
    ")\n",
    "from src.graph.bandage_labels_from_gfa import bandage_labels"
   ]
  },
  {
   "cell_type": "code",
   "execution_count": null,
   "metadata": {},
   "outputs": [],
   "source": [
    "# MSA\n",
    "NAME_MSA = \"toyexample\"\n",
    "amsa = AnalyzerMSA()\n",
    "path_msa = f\"../msas/{NAME_MSA}.fa\"\n",
    "align, n_seqs, n_cols = amsa.load_msa(path_msa)\n",
    "n_seqs, n_cols"
   ]
  },
  {
   "cell_type": "code",
   "execution_count": null,
   "metadata": {},
   "outputs": [],
   "source": []
  },
  {
   "cell_type": "code",
   "execution_count": null,
   "metadata": {},
   "outputs": [],
   "source": []
  },
  {
   "cell_type": "code",
   "execution_count": null,
   "metadata": {},
   "outputs": [],
   "source": [
    "# Create the model\n",
    "model = gp.Model(\"pangeblocks\")\n",
    "\n",
    "# define variables\n",
    "C = model.addVars(blocks, vtype=GRB.BINARY, name=\"C\")\n",
    "U = model.addVars(msa_positions, vtype=GRB.BINARY, name=\"U\")\n",
    "\n",
    "# Constraints: \n",
    "for r,c in msa_positions:\n",
    "\n",
    "    # subset of blocks that covers the position [r,c]\n",
    "    subset_C = [ C[K,i,j] for K,i,j in blocks if str(r) in K.split(\",\") and i<=c<=j ]\n",
    "    if (r,c) in [(0,0),(2,4)]:\n",
    "        print(f\"{(r,c)}:len {len(subset_C)}\")\n",
    "    if len(subset_C)>0:\n",
    "        # print(f\"{len(subset_C)} blocks cover the position {(r,c)}\")\n",
    "        \n",
    "        ## 1. each position in the MSA is covered ONLY ONCE\n",
    "        model.addConstr( U[r,c] <= sum(subset_C), name=f\"constraint1({r},{c})\")\n",
    "        \n",
    "        ## 2. each position of the MSA is covered AT LEAST by one block\n",
    "        model.addConstr( U[r,c] >= 1, name=f\"constraint2({r},{c})\")\n",
    "\n",
    "\n",
    "## 3. overlapping blocks cannot be chosen\n",
    "# sort all blocks, \n",
    "blocks = sorted(blocks, key=lambda b: b[1]) # sort blocks by the starting position (K,start,end)\n",
    "\n",
    "# and analyze the intersections while update the constraints\n",
    "names_constraint3=[]\n",
    "for pos1,block1 in enumerate(blocks[:-1]):\n",
    "    # compare against the next blocks in the sorted list\n",
    "    for rel_pos, block2 in enumerate(blocks[pos1+1:]):\n",
    "        pos2 = rel_pos + pos1 + 1\n",
    "        block2 = blocks[pos2]\n",
    "        \n",
    "        # check for not empty intersection, otherwise, skip to the next block  \n",
    "        # note: set K is a string with the rows concatenated by a \",\" (due to Gurobi requirements to index the variables)\n",
    "        block1_K = block1[0].split(\",\")\n",
    "        block2_K = block2[0].split(\",\")\n",
    "\n",
    "        # check for not empty intersection, otherwise skip to the next block1 in the list\n",
    "        common_rows = list(set(block1_K).intersection(set(block2_K))) # intersection set K\n",
    "        common_cols = list(set(range(block1[1],block1[2]+1)).intersection(set(range(block2[1],block2[2]+1)))) # intersection columns [i,j]\n",
    "\n",
    "        if (common_rows and common_cols):\n",
    "            \n",
    "            # if the blocks intersect, then create the restriction \n",
    "            K1,i1,j1=block1\n",
    "            K2,i2,j2=block2\n",
    "            name_constraint=f\"constraint3({K1},{i1},{j1})-({K2},{i2},{j2})\"\n",
    "            model.addConstr(C[block1] + C[block2] <= 1 , name=name_constraint)\n",
    "            names_constraint3.append(name_constraint)\n",
    "\n",
    "# Objective function\n",
    "model.setObjective(C.sum('*','*','*'), GRB.MINIMIZE)\n",
    "\n",
    "model.optimize()\n",
    "\n",
    "Path(\"ilp-models\").mkdir(exist_ok=True)\n",
    "model.write(f\"ilp-models/{NAME_MSA}.lp\")"
   ]
  },
  {
   "cell_type": "code",
   "execution_count": null,
   "metadata": {},
   "outputs": [],
   "source": [
    "\"constraint3(1,2,0,3)-(0,1,1,5)\" in names_constraint3"
   ]
  },
  {
   "cell_type": "code",
   "execution_count": null,
   "metadata": {},
   "outputs": [],
   "source": [
    "solution_C = model.getAttr(\"X\", C)\n",
    "solution_U = model.getAttr(\"X\",U)\n",
    "len(solution_C)>0, len(solution_U)>0"
   ]
  },
  {
   "cell_type": "code",
   "execution_count": null,
   "metadata": {},
   "outputs": [],
   "source": [
    "used_blocks = []\n",
    "for k,v in solution_C.items(): \n",
    "    K,i,j=k\n",
    "    if v > 0:\n",
    "        used_blocks.append(\n",
    "            Block(eval(f\"({K},)\"),i,j, strings_[K,i,j])\n",
    "        )"
   ]
  },
  {
   "attachments": {},
   "cell_type": "markdown",
   "metadata": {},
   "source": [
    "___"
   ]
  },
  {
   "cell_type": "code",
   "execution_count": 1,
   "metadata": {},
   "outputs": [],
   "source": [
    "# Allow src folder to be imported from this notebook\n",
    "import sys\n",
    "from pathlib import Path\n",
    "\n",
    "module_path = str(Path.cwd().parents[0])\n",
    "if module_path not in sys.path:\n",
    "    sys.path.append(module_path)"
   ]
  },
  {
   "cell_type": "code",
   "execution_count": 3,
   "metadata": {},
   "outputs": [
    {
     "name": "stdout",
     "output_type": "stream",
     "text": [
      "[Block(K=(0,), i=0, j=0, label='A'), Block(K=(2,), i=4, j=4, label='G')]\n",
      "Gurobi Optimizer version 9.5.2 build v9.5.2rc0 (linux64)\n",
      "Thread count: 32 physical cores, 64 logical processors, using up to 32 threads\n",
      "Optimize a model with 1026 rows, 43 columns and 2078 nonzeros\n",
      "Model fingerprint: 0x56c8bd8f\n",
      "Variable types: 0 continuous, 43 integer (43 binary)\n",
      "Coefficient statistics:\n",
      "  Matrix range     [1e+00, 1e+00]\n",
      "  Objective range  [1e+00, 1e+00]\n",
      "  Bounds range     [1e+00, 1e+00]\n",
      "  RHS range        [1e+00, 1e+00]\n",
      "Found heuristic solution: objective 16.0000000\n",
      "Presolve removed 1026 rows and 43 columns\n",
      "Presolve time: 0.00s\n",
      "Presolve: All rows and columns removed\n",
      "\n",
      "Explored 0 nodes (0 simplex iterations) in 0.01 seconds (0.00 work units)\n",
      "Thread count was 1 (of 64 available processors)\n",
      "\n",
      "Solution count 2: 6 16 \n",
      "\n",
      "Optimal solution found (tolerance 1.00e-04)\n",
      "Best objective 6.000000000000e+00, best bound 6.000000000000e+00, gap 0.0000%\n",
      "Not consecutive blocks\n",
      "Condicion- consecutive blocks\n",
      "Not consecutive blocks\n",
      "Not consecutive blocks\n",
      "Not consecutive blocks\n",
      "Condicion- consecutive blocks\n",
      "Not consecutive blocks\n",
      "Not consecutive blocks\n",
      "Not consecutive blocks\n",
      "Condicion- consecutive blocks\n",
      "Condicion- consecutive blocks\n",
      "Not consecutive blocks\n",
      "Not consecutive blocks\n",
      "Not consecutive blocks\n",
      "Condicion- consecutive blocks\n"
     ]
    }
   ],
   "source": [
    "import json\n",
    "from src.blocks import Block\n",
    "from src.ilp.input import InputBlockSet\n",
    "from src.ilp.optimization import Optimization\n",
    "from src.ilp.variaton_graph_parser import asGFA\n",
    "NAME_MSA = \"toyexample\"\n",
    "# Load set of decomposed blocks\n",
    "path_blocks = f\"../experiment/block_decomposition/{NAME_MSA}.json\"\n",
    "path_msa=f\"../msas/{NAME_MSA}.fa\"\n",
    "\n",
    "with open(path_blocks) as fp:\n",
    "    blocks = [Block(*block) for block in json.load(fp)] \n",
    "\n",
    "inputset_gen = InputBlockSet()\n",
    "inputset = inputset_gen(path_msa, blocks)\n",
    "\n",
    "opt = Optimization(blocks=inputset, path_msa=path_msa)\n",
    "opt_coverage = opt()\n",
    "\n",
    "parser=asGFA()\n",
    "parser(opt_coverage,path_gfa=f\"../experiment/gfa/{NAME_MSA}.gfa\")"
   ]
  },
  {
   "cell_type": "code",
   "execution_count": null,
   "metadata": {},
   "outputs": [],
   "source": [
    "# constraint = model.getConstrByName(\"constraint2(1,28)\")\n",
    "# print(f\"{model.getRow(constraint)} {constraint.Sense} {constraint.RHS}\")"
   ]
  }
 ],
 "metadata": {
  "kernelspec": {
   "display_name": "pbenv",
   "language": "python",
   "name": "python3"
  },
  "language_info": {
   "codemirror_mode": {
    "name": "ipython",
    "version": 3
   },
   "file_extension": ".py",
   "mimetype": "text/x-python",
   "name": "python",
   "nbconvert_exporter": "python",
   "pygments_lexer": "ipython3",
   "version": "3.10.6 | packaged by conda-forge | (main, Aug 22 2022, 20:35:26) [GCC 10.4.0]"
  },
  "orig_nbformat": 4,
  "vscode": {
   "interpreter": {
    "hash": "7a3f744a40f2cc2bb6ed47f09e67b858fce5d2f0f12c5fcd35c0d04a62dbf281"
   }
  }
 },
 "nbformat": 4,
 "nbformat_minor": 2
}
