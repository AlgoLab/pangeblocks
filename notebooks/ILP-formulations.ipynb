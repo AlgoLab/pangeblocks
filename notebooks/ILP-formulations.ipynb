{
 "cells": [
  {
   "cell_type": "code",
   "execution_count": 1,
   "metadata": {},
   "outputs": [],
   "source": [
    "# Allow src folder to be imported from this notebook\n",
    "import sys\n",
    "from pathlib import Path\n",
    "\n",
    "module_path = str(Path.cwd().parents[0])\n",
    "if module_path not in sys.path:\n",
    "    sys.path.append(module_path)"
   ]
  },
  {
   "attachments": {},
   "cell_type": "markdown",
   "metadata": {},
   "source": [
    "___"
   ]
  },
  {
   "cell_type": "code",
   "execution_count": 2,
   "metadata": {},
   "outputs": [],
   "source": [
    "import json\n",
    "import gurobipy as gp\n",
    "from gurobipy import GRB\n",
    "from src.blocks import Block\n",
    "from src.msa import AnalyzerMSA"
   ]
  },
  {
   "cell_type": "code",
   "execution_count": 3,
   "metadata": {},
   "outputs": [
    {
     "data": {
      "text/plain": [
       "(3, 158)"
      ]
     },
     "execution_count": 3,
     "metadata": {},
     "output_type": "execute_result"
    }
   ],
   "source": [
    "# MSA\n",
    "NAME_MSA = \"Cluster_6892\"\n",
    "amsa = AnalyzerMSA()\n",
    "path_msa = f\"../msas/{NAME_MSA}.fa\"\n",
    "align, n_seqs, n_cols = amsa.load_msa(path_msa)\n",
    "n_seqs, n_cols"
   ]
  },
  {
   "attachments": {},
   "cell_type": "markdown",
   "metadata": {},
   "source": [
    "**Blocks for each position (r,c) in the MSA** \n",
    "\n",
    "$({r},c,c,MSA[r,c])$"
   ]
  },
  {
   "cell_type": "code",
   "execution_count": 5,
   "metadata": {},
   "outputs": [
    {
     "data": {
      "text/plain": [
       "[Block(K=(0,), i=0, j=0, label='C'),\n",
       " Block(K=(1,), i=0, j=0, label='-'),\n",
       " Block(K=(2,), i=0, j=0, label='-')]"
      ]
     },
     "execution_count": 5,
     "metadata": {},
     "output_type": "execute_result"
    }
   ],
   "source": [
    "blocks_one_char = []\n",
    "for col in range(n_cols):\n",
    "    for row in range(n_seqs):\n",
    "        blocks_one_char.append(\n",
    "            Block(K=(row,), i=col, j=col, label=align[row,col])\n",
    "        )\n",
    "\n",
    "blocks_one_char[:3]"
   ]
  },
  {
   "attachments": {},
   "cell_type": "markdown",
   "metadata": {},
   "source": [
    "**Set of blocks from the  decomposition**"
   ]
  },
  {
   "cell_type": "code",
   "execution_count": 6,
   "metadata": {},
   "outputs": [
    {
     "data": {
      "text/plain": [
       "[Block(K=(0, 1, 2), i=96, j=153, label='TAGTGAGTACGGAGAAAATCCTCGTGGGAAAGTATAAAAGATTCTTTTTGAGGTTGTC'),\n",
       " Block(K=(0, 1), i=83, j=153, label='AGGAAATTGTGAGTAGTGAGTACGGAGAAAATCCTCGTGGGAAAGTATAAAAGATTCTTTTTGAGGTTGTC'),\n",
       " Block(K=(0, 1), i=66, j=76, label='GAGTTTTCACG')]"
      ]
     },
     "execution_count": 6,
     "metadata": {},
     "output_type": "execute_result"
    }
   ],
   "source": [
    "# Load set of decomposed blocks\n",
    "path_blocks = f\"../experiment/block_decomposition/{NAME_MSA}.json\"\n",
    "\n",
    "with open(path_blocks) as fp:\n",
    "    decomposed_blocks = [Block(*block) for block in json.load(fp)] \n",
    "\n",
    "decomposed_blocks[:3]"
   ]
  },
  {
   "cell_type": "code",
   "execution_count": 7,
   "metadata": {},
   "outputs": [],
   "source": [
    "# set B: input blocks (maximal blocks, the decompositions under intersection by pairs and blocks of one position in the MSA)\n",
    "set_B = decomposed_blocks + blocks_one_char\n",
    "\n",
    "# write idx for blocks \n",
    "blocks = [(\",\".join([str(r) for r in b.K]), b.i, b.j) for b in set_B] # (K,i,j)\n",
    "\n",
    "# write idx for MSA positions (row, col)\n",
    "msa_positions = [(r,c) for r in range(n_seqs) for c in range(n_cols)] \n",
    "\n",
    "# dictionary to store the string of each block indexed as Gurobipy uses it\n",
    "strings_ = { (\",\".join([str(_) for _ in b.K]), b.i, b.j): b.label for b in set_B}"
   ]
  },
  {
   "cell_type": "code",
   "execution_count": 9,
   "metadata": {},
   "outputs": [
    {
     "data": {
      "text/plain": [
       "False"
      ]
     },
     "execution_count": 9,
     "metadata": {},
     "output_type": "execute_result"
    }
   ],
   "source": [
    "def check_intersection(block1,block2):\n",
    "    \"intersection of blocks \"\n",
    "    block1_K = block1[0].split(\",\")\n",
    "    block2_K = block2[0].split(\",\")\n",
    "\n",
    "    # check for not empty intersection, otherwise skip to the next block1 in the list\n",
    "    common_rows = list(set(block1_K).intersection(set(block2_K))) # intersection set K\n",
    "    common_cols = list(set(range(block1[1],block1[2]+1)).intersection(set(range(block2[1],block2[2]+1)))) # intersection columns [i,j]\n",
    "\n",
    "    return True if common_rows and common_cols else False\n",
    "\n",
    "# example\n",
    "block1 = (\"1,2\",1,1)\n",
    "block2 = (\"3\",1,3)\n",
    "check_intersection(block1, block2)"
   ]
  },
  {
   "cell_type": "code",
   "execution_count": 10,
   "metadata": {},
   "outputs": [
    {
     "name": "stdout",
     "output_type": "stream",
     "text": [
      "Set parameter Username\n",
      "Academic license - for non-commercial use only - expires 2023-10-29\n",
      "Gurobi Optimizer version 9.5.2 build v9.5.2rc0 (linux64)\n",
      "Thread count: 32 physical cores, 64 logical processors, using up to 32 threads\n",
      "Optimize a model with 2650 rows, 988 columns and 6397 nonzeros\n",
      "Model fingerprint: 0x0a2c1d3f\n",
      "Variable types: 0 continuous, 988 integer (988 binary)\n",
      "Coefficient statistics:\n",
      "  Matrix range     [1e+00, 1e+00]\n",
      "  Objective range  [1e+00, 1e+00]\n",
      "  Bounds range     [1e+00, 1e+00]\n",
      "  RHS range        [1e+00, 1e+00]\n",
      "Found heuristic solution: objective 474.0000000\n",
      "Presolve removed 2641 rows and 979 columns\n",
      "Presolve time: 0.05s\n",
      "Presolved: 9 rows, 9 columns, 38 nonzeros\n",
      "Found heuristic solution: objective 78.0000000\n",
      "Variable types: 0 continuous, 9 integer (9 binary)\n",
      "\n",
      "Root relaxation: cutoff, 1 iterations, 0.00 seconds (0.00 work units)\n",
      "\n",
      "    Nodes    |    Current Node    |     Objective Bounds      |     Work\n",
      " Expl Unexpl |  Obj  Depth IntInf | Incumbent    BestBd   Gap | It/Node Time\n",
      "\n",
      "     0     0     cutoff    0        78.00000   78.00000  0.00%     -    0s\n",
      "\n",
      "Explored 1 nodes (1 simplex iterations) in 0.07 seconds (0.04 work units)\n",
      "Thread count was 32 (of 64 available processors)\n",
      "\n",
      "Solution count 2: 78 474 \n",
      "\n",
      "Optimal solution found (tolerance 1.00e-04)\n",
      "Best objective 7.800000000000e+01, best bound 7.800000000000e+01, gap 0.0000%\n"
     ]
    }
   ],
   "source": [
    "# Create the model\n",
    "model = gp.Model(\"pangeblocks\")\n",
    "\n",
    "# define variables\n",
    "C = model.addVars(blocks, vtype=GRB.BINARY, name=\"C\")\n",
    "U = model.addVars(msa_positions, vtype=GRB.BINARY, name=\"U\")\n",
    "\n",
    "# Constraints: \n",
    "for r,c in msa_positions:\n",
    "\n",
    "    # subset of blocks that covers the position [r,c]\n",
    "    subset_C = [ C[K,i,j] for K,i,j in blocks if str(r) in K.split(\",\") and i<=c<=j ]\n",
    "    if len(subset_C):\n",
    "        # print(f\"{len(subset_C)} blocks cover the position {(r,c)}\")\n",
    "        \n",
    "        ## 1. each position in the MSA is covered ONLY ONCE\n",
    "        model.addConstr( U[r,c] <= sum(subset_C), name=f\"constraint1({r},{c})\")\n",
    "        \n",
    "        ## 2. each position of the MSA is covered AT LEAST by one block\n",
    "        model.addConstr( U[r,c] >= 1, name=f\"constraint2({r},{c})\")\n",
    "\n",
    "\n",
    "## 3. overlapping blocks cannot be chosen\n",
    "# sort all blocks, \n",
    "blocks = sorted(blocks, key=lambda b: b[1]) # sort blocks by the starting position (K,start,end)\n",
    "\n",
    "# and analyze the intersections while update the constraints\n",
    "names_constraint3=[]\n",
    "for pos1,block1 in enumerate(blocks[:-1]):\n",
    "    # compare against the next blocks in the sorted list\n",
    "    for rel_pos, block2 in enumerate(blocks[pos1+1:]):\n",
    "        pos2 = rel_pos + pos1 + 1\n",
    "        block2 = blocks[pos2]\n",
    "        \n",
    "        # check for not empty intersection, otherwise, skip to the next block  \n",
    "        # note: set K is a string with the rows concatenated by a \",\" (due to Gurobi requirements for index the variables)\n",
    "        block1_K = block1[0].split(\",\")\n",
    "        block2_K = block2[0].split(\",\")\n",
    "\n",
    "        # check for not empty intersection, otherwise skip to the next block1 in the list\n",
    "        common_rows = list(set(block1_K).intersection(set(block2_K))) # intersection set K\n",
    "        common_cols = list(set(range(block1[1],block1[2]+1)).intersection(set(range(block2[1],block2[2]+1)))) # intersection columns [i,j]\n",
    "\n",
    "        if (common_rows and common_cols):\n",
    "            \n",
    "            # if the blocks intersect, then create the restriction \n",
    "            K1,i1,j1=block1\n",
    "            K2,i2,j2=block2\n",
    "            name_constraint=f\"constraint3({K1},{i1},{j1})-({K2},{i2},{j2})\"\n",
    "            model.addConstr(C[block1] + C[block2] <= 1 , name=name_constraint)\n",
    "            names_constraint3.append(name_constraint)\n",
    "\n",
    "# Objective function\n",
    "model.setObjective(C.sum('*','*','*'), GRB.MINIMIZE)\n",
    "\n",
    "model.optimize()\n",
    "\n",
    "Path(\"ilp-models\").mkdir(exist_ok=True)\n",
    "model.write(\"ilp-models/model1.lp\")"
   ]
  },
  {
   "cell_type": "code",
   "execution_count": 11,
   "metadata": {},
   "outputs": [
    {
     "data": {
      "text/plain": [
       "False"
      ]
     },
     "execution_count": 11,
     "metadata": {},
     "output_type": "execute_result"
    }
   ],
   "source": [
    "\"constraint3(1,2,0,3)-(0,1,1,5)\" in names_constraint3"
   ]
  },
  {
   "cell_type": "code",
   "execution_count": 23,
   "metadata": {},
   "outputs": [
    {
     "data": {
      "text/plain": [
       "(True, True)"
      ]
     },
     "execution_count": 23,
     "metadata": {},
     "output_type": "execute_result"
    }
   ],
   "source": [
    "solution_C = model.getAttr(\"X\", C)\n",
    "solution_U = model.getAttr(\"X\",U)\n",
    "len(solution_C)>0, len(solution_U)>0"
   ]
  },
  {
   "cell_type": "code",
   "execution_count": 18,
   "metadata": {},
   "outputs": [],
   "source": [
    "used_blocks = []\n",
    "for k,v in solution_C.items(): \n",
    "    K,i,j=k\n",
    "    if v > 0:\n",
    "        used_blocks.append(\n",
    "            Block(eval(f\"({K},)\"),i,j, strings_[K,i,j])\n",
    "        )"
   ]
  },
  {
   "cell_type": "code",
   "execution_count": 22,
   "metadata": {},
   "outputs": [
    {
     "data": {
      "text/plain": [
       "78"
      ]
     },
     "execution_count": 22,
     "metadata": {},
     "output_type": "execute_result"
    }
   ],
   "source": [
    "sorted_solution=sorted(used_blocks, key=lambda b: b.i)\n",
    "len(sorted_solution)"
   ]
  },
  {
   "attachments": {},
   "cell_type": "markdown",
   "metadata": {},
   "source": [
    "___"
   ]
  },
  {
   "cell_type": "code",
   "execution_count": null,
   "metadata": {},
   "outputs": [],
   "source": [
    "constraint = model.getConstrByName(\"constraint2(1,28)\")\n",
    "print(f\"{model.getRow(constraint)} {constraint.Sense} {constraint.RHS}\")"
   ]
  },
  {
   "cell_type": "code",
   "execution_count": null,
   "metadata": {},
   "outputs": [],
   "source": [
    "solution_C[\"0,1\",27,31], solution_C[\"1,2\",28,45]"
   ]
  },
  {
   "cell_type": "code",
   "execution_count": null,
   "metadata": {},
   "outputs": [],
   "source": [
    "sum(len(b.label)*len(b.K) for b in used_blocks)"
   ]
  },
  {
   "cell_type": "code",
   "execution_count": null,
   "metadata": {},
   "outputs": [],
   "source": [
    "solution_U = model.getAttr(\"X\", U)\n",
    "len([k for k,v in solution_U.items() if v == 0])"
   ]
  },
  {
   "cell_type": "code",
   "execution_count": null,
   "metadata": {},
   "outputs": [],
   "source": [
    "len([k for k,v in solution_U.items() if v > 1])"
   ]
  },
  {
   "cell_type": "code",
   "execution_count": null,
   "metadata": {},
   "outputs": [],
   "source": [
    "solution_U[1,28]"
   ]
  },
  {
   "cell_type": "code",
   "execution_count": null,
   "metadata": {},
   "outputs": [],
   "source": [
    "# number of variables\n",
    "len(blocks) + len(msa_positions)"
   ]
  },
  {
   "cell_type": "code",
   "execution_count": null,
   "metadata": {},
   "outputs": [],
   "source": [
    "cc = model.getConstrByName(\"constraint1(2,155)\")\n",
    "cc"
   ]
  },
  {
   "cell_type": "code",
   "execution_count": null,
   "metadata": {},
   "outputs": [],
   "source": [
    "[ C[K,i,j] for K,i,j in blocks if str(r) in K.split(\",\") and i<=c<=j ]"
   ]
  },
  {
   "cell_type": "code",
   "execution_count": null,
   "metadata": {},
   "outputs": [],
   "source": [
    "K,i,j=blocks[0]\n"
   ]
  },
  {
   "cell_type": "code",
   "execution_count": null,
   "metadata": {},
   "outputs": [],
   "source": [
    "r,c = msa_positions[98]"
   ]
  },
  {
   "cell_type": "code",
   "execution_count": null,
   "metadata": {},
   "outputs": [],
   "source": [
    "str(r) in K.split(\",\") and i <=c<=j"
   ]
  },
  {
   "attachments": {},
   "cell_type": "markdown",
   "metadata": {},
   "source": [
    "___"
   ]
  }
 ],
 "metadata": {
  "kernelspec": {
   "display_name": "pbenv",
   "language": "python",
   "name": "python3"
  },
  "language_info": {
   "codemirror_mode": {
    "name": "ipython",
    "version": 3
   },
   "file_extension": ".py",
   "mimetype": "text/x-python",
   "name": "python",
   "nbconvert_exporter": "python",
   "pygments_lexer": "ipython3",
   "version": "3.10.6"
  },
  "orig_nbformat": 4,
  "vscode": {
   "interpreter": {
    "hash": "7a3f744a40f2cc2bb6ed47f09e67b858fce5d2f0f12c5fcd35c0d04a62dbf281"
   }
  }
 },
 "nbformat": 4,
 "nbformat_minor": 2
}
