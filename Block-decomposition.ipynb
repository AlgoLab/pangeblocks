{
 "cells": [
  {
   "cell_type": "code",
   "execution_count": 1,
   "metadata": {},
   "outputs": [],
   "source": [
    "from pathlib import Path\n",
    "from src.blocks import BlockAnalyzer, Block, block_decomposition, Decomposer"
   ]
  },
  {
   "cell_type": "code",
   "execution_count": 4,
   "metadata": {},
   "outputs": [
    {
     "data": {
      "text/plain": [
       "PositionalString(b='ACGTAC', i=2, j=7)"
      ]
     },
     "execution_count": 4,
     "metadata": {},
     "output_type": "execute_result"
    }
   ],
   "source": [
    "Block(K=[1,2,3],i=2,j=7,label=\"ACGTAC\").to_positional_string()"
   ]
  },
  {
   "cell_type": "code",
   "execution_count": 2,
   "metadata": {},
   "outputs": [],
   "source": [
    "path_blocks = Path(\"out/blocks/Cluster_10644.json\")\n",
    "list_blocks = BlockAnalyzer()._load_list_blocks(path_blocks)"
   ]
  },
  {
   "cell_type": "code",
   "execution_count": 3,
   "metadata": {},
   "outputs": [
    {
     "data": {
      "text/plain": [
       "[Block(K=(1, 2), i=0, j=75, label='CACGATTCTCCCTTTGAGTTGATGAGGTTTCAGGGAAAAGGATAGCTGATTCTCCGCTTTTGCAAGTATGAAAGGC'),\n",
       " Block(K=(0, 1, 2), i=0, j=15, label='CACGATTCTCCCTTTG'),\n",
       " Block(K=(0, 1), i=17, j=81, label='GTTGATGAGGTTTCAGGGAAAAGGATAGCTGATTCTCCGCTTTTGCAAGTATGAAAGGCGAAAAA'),\n",
       " Block(K=(0, 1, 2), i=17, j=75, label='GTTGATGAGGTTTCAGGGAAAAGGATAGCTGATTCTCCGCTTTTGCAAGTATGAAAGGC'),\n",
       " Block(K=(0, 1, 2), i=77, j=81, label='AAAAA')]"
      ]
     },
     "execution_count": 3,
     "metadata": {},
     "output_type": "execute_result"
    }
   ],
   "source": [
    "list_blocks"
   ]
  },
  {
   "cell_type": "code",
   "execution_count": 4,
   "metadata": {},
   "outputs": [],
   "source": [
    "decomposer=Decomposer()\n",
    "new_blocks = decomposer(list_blocks)"
   ]
  },
  {
   "cell_type": "code",
   "execution_count": 5,
   "metadata": {},
   "outputs": [
    {
     "data": {
      "text/plain": [
       "(9, 5)"
      ]
     },
     "execution_count": 5,
     "metadata": {},
     "output_type": "execute_result"
    }
   ],
   "source": [
    "len(new_blocks), len(list_blocks)"
   ]
  },
  {
   "cell_type": "code",
   "execution_count": 7,
   "metadata": {},
   "outputs": [
    {
     "data": {
      "text/plain": [
       "defaultdict(int,\n",
       "            {Block(K=(1, 2), i=16, j=75, label='AGTTGATGAGGTTTCAGGGAAAAGGATAGCTGATTCTCCGCTTTTGCAAGTATGAAAGGC'): 1,\n",
       "             Block(K=(0, 1, 2), i=77, j=81, label='AAAAA'): 1,\n",
       "             Block(K=(0, 1, 2), i=0, j=15, label='CACGATTCTCCCTTTG'): 1,\n",
       "             Block(K=(0, 1), i=17, j=81, label='GTTGATGAGGTTTCAGGGAAAAGGATAGCTGATTCTCCGCTTTTGCAAGTATGAAAGGCGAAAAA'): 1,\n",
       "             Block(K=(0, 1), i=17, j=76, label='GTTGATGAGGTTTCAGGGAAAAGGATAGCTGATTCTCCGCTTTTGCAAGTATGAAAGGCG'): 1,\n",
       "             Block(K=(1, 2), i=0, j=75, label='CACGATTCTCCCTTTGAGTTGATGAGGTTTCAGGGAAAAGGATAGCTGATTCTCCGCTTTTGCAAGTATGAAAGGC'): 1,\n",
       "             Block(K=(0, 1, 2), i=17, j=75, label='GTTGATGAGGTTTCAGGGAAAAGGATAGCTGATTCTCCGCTTTTGCAAGTATGAAAGGC'): 1,\n",
       "             Block(K=(0, 1), i=76, j=81, label='GAAAAA'): 1,\n",
       "             Block(K=(1, 2), i=0, j=16, label='CACGATTCTCCCTTTGA'): 1})"
      ]
     },
     "execution_count": 7,
     "metadata": {},
     "output_type": "execute_result"
    }
   ],
   "source": [
    "from collections import defaultdict\n",
    "d = defaultdict(int)\n",
    "for block in new_blocks:\n",
    "    d[ block ] +=1\n",
    "d"
   ]
  },
  {
   "cell_type": "markdown",
   "metadata": {},
   "source": [
    "___\n",
    "## Number of vertical identical cols in an MSA\n",
    "Given an MSA, count the proportion (or number) of columns that contains only one character (or an indel) "
   ]
  },
  {
   "cell_type": "code",
   "execution_count": 4,
   "metadata": {},
   "outputs": [],
   "source": [
    "# from Bio import AlignIO #load MSA\n",
    "# from src.utils.monitor_values_plus import MonitorValuesPlus"
   ]
  },
  {
   "cell_type": "code",
   "execution_count": 22,
   "metadata": {},
   "outputs": [],
   "source": [
    "# class AnalyzerMSA:\n",
    "\n",
    "#     def __init__(self, path_msa: str):\n",
    "#         self.path_msa = path_msa\n",
    "#         self.cols_msa = None # will be updated when the MSA is loaded\n",
    "#         self.seqs = self.get_seqs(path_msa)# sequences in the MSA\n",
    "\n",
    "#     def get_column(self, idx: int) -> list:\n",
    "#         return [seq[idx] for seq in self.seqs]\n",
    "\n",
    "#     def get_seqs(self,path_msa):\n",
    "#         # load MSA\n",
    "#         align=AlignIO.read(path_msa, \"fasta\")\n",
    "#         self.cols_msa = align.get_alignment_length()\n",
    "        \n",
    "#         # extract sequences\n",
    "#         seqs = []\n",
    "#         for record in align:\n",
    "#             seqs.append(record.seq)\n",
    "#         return seqs\n",
    "\n",
    "#     def is_one_character(self, column) -> bool:\n",
    "#         chars = list(set(column)-set(\"-\"))\n",
    "#         if len(chars)==1:\n",
    "#             return True\n",
    "#         return False\n",
    "\n",
    "#     def analyze_msa(self,) -> list[bool]:\n",
    "#         \"\"\"evaluate each column and verify if it contains only one character \n",
    "#         (indels are not taken into consideration)\"\"\"\n",
    "#         results = []\n",
    "#         for idx in range(self.cols_msa):\n",
    "#             column = self.get_column(idx)\n",
    "#             results.append(\n",
    "#                 self.is_one_character(column)\n",
    "#             )\n",
    "#         return results"
   ]
  },
  {
   "cell_type": "code",
   "execution_count": 2,
   "metadata": {},
   "outputs": [
    {
     "name": "stderr",
     "output_type": "stream",
     "text": [
      "100%|██████████| 10/10 [00:00<00:00, 339.41it/s]\n"
     ]
    }
   ],
   "source": [
    "import pandas as pd\n",
    "from pathlib import Path\n",
    "# from rich.progress import track\n",
    "from tqdm import tqdm\n",
    "from src.utils import MonitorValuesPlus\n",
    "from src.msa import AnalyzerMSA\n",
    "\n",
    "analyzer = AnalyzerMSA()\n",
    "\n",
    "mv = MonitorValuesPlus(list_vars=[\"path_msa\",\"n_identical_cols\",\"n_cols\", \"proportion\"],\n",
    "                        out_file=\"out/analysis-msa/stats.tsv\",\n",
    "                        overwrite=True)\n",
    "\n",
    "# data_blocks=pd.read_csv(\"out/stats_blocks.tsv\",sep=\"\\t\")\n",
    "# list_paths = data_blocks[\"path_msa\"].tolist()\n",
    "list_paths = list(Path(\"/data/msas/msas\").rglob(\"*.fa\"))[:10]\n",
    "\n",
    "# analyzer(list_paths[0])\n",
    "for path_msa in tqdm(list_paths):\n",
    "    try:\n",
    "        n_cols, n_seqs, n_unique_seqs, n_identical_cols = analyzer(path_msa)\n",
    "        proportion = round(100*n_identical_cols/n_cols, 2)\n",
    "\n",
    "        mv()\n",
    "    except: \n",
    "        continue"
   ]
  },
  {
   "cell_type": "code",
   "execution_count": 40,
   "metadata": {},
   "outputs": [
    {
     "data": {
      "text/html": [
       "<div>\n",
       "<style scoped>\n",
       "    .dataframe tbody tr th:only-of-type {\n",
       "        vertical-align: middle;\n",
       "    }\n",
       "\n",
       "    .dataframe tbody tr th {\n",
       "        vertical-align: top;\n",
       "    }\n",
       "\n",
       "    .dataframe thead th {\n",
       "        text-align: right;\n",
       "    }\n",
       "</style>\n",
       "<table border=\"1\" class=\"dataframe\">\n",
       "  <thead>\n",
       "    <tr style=\"text-align: right;\">\n",
       "      <th></th>\n",
       "      <th>n_identical_cols</th>\n",
       "      <th>n_cols</th>\n",
       "      <th>proportion</th>\n",
       "    </tr>\n",
       "  </thead>\n",
       "  <tbody>\n",
       "    <tr>\n",
       "      <th>count</th>\n",
       "      <td>37421.000000</td>\n",
       "      <td>37421.000000</td>\n",
       "      <td>37421.000000</td>\n",
       "    </tr>\n",
       "    <tr>\n",
       "      <th>mean</th>\n",
       "      <td>520.609016</td>\n",
       "      <td>550.422811</td>\n",
       "      <td>95.767181</td>\n",
       "    </tr>\n",
       "    <tr>\n",
       "      <th>std</th>\n",
       "      <td>596.573503</td>\n",
       "      <td>635.783659</td>\n",
       "      <td>6.938184</td>\n",
       "    </tr>\n",
       "    <tr>\n",
       "      <th>min</th>\n",
       "      <td>25.000000</td>\n",
       "      <td>30.000000</td>\n",
       "      <td>30.770000</td>\n",
       "    </tr>\n",
       "    <tr>\n",
       "      <th>25%</th>\n",
       "      <td>169.000000</td>\n",
       "      <td>177.000000</td>\n",
       "      <td>93.230000</td>\n",
       "    </tr>\n",
       "    <tr>\n",
       "      <th>50%</th>\n",
       "      <td>312.000000</td>\n",
       "      <td>327.000000</td>\n",
       "      <td>99.800000</td>\n",
       "    </tr>\n",
       "    <tr>\n",
       "      <th>75%</th>\n",
       "      <td>692.000000</td>\n",
       "      <td>738.000000</td>\n",
       "      <td>100.000000</td>\n",
       "    </tr>\n",
       "    <tr>\n",
       "      <th>max</th>\n",
       "      <td>13377.000000</td>\n",
       "      <td>13377.000000</td>\n",
       "      <td>100.000000</td>\n",
       "    </tr>\n",
       "  </tbody>\n",
       "</table>\n",
       "</div>"
      ],
      "text/plain": [
       "       n_identical_cols        n_cols    proportion\n",
       "count      37421.000000  37421.000000  37421.000000\n",
       "mean         520.609016    550.422811     95.767181\n",
       "std          596.573503    635.783659      6.938184\n",
       "min           25.000000     30.000000     30.770000\n",
       "25%          169.000000    177.000000     93.230000\n",
       "50%          312.000000    327.000000     99.800000\n",
       "75%          692.000000    738.000000    100.000000\n",
       "max        13377.000000  13377.000000    100.000000"
      ]
     },
     "execution_count": 40,
     "metadata": {},
     "output_type": "execute_result"
    }
   ],
   "source": [
    "stats_msa = pd.DataFrame(mv.values)\n",
    "stats_msa.describe()"
   ]
  },
  {
   "cell_type": "code",
   "execution_count": 41,
   "metadata": {},
   "outputs": [
    {
     "data": {
      "text/plain": [
       "<AxesSubplot: xlabel='proportion', ylabel='Count'>"
      ]
     },
     "execution_count": 41,
     "metadata": {},
     "output_type": "execute_result"
    },
    {
     "data": {
      "image/png": "[encoded data removed]",
      "text/plain": [
       "<Figure size 640x480 with 1 Axes>"
      ]
     },
     "metadata": {},
     "output_type": "display_data"
    }
   ],
   "source": [
    "import seaborn as sns\n",
    "sns.histplot(\n",
    "    data=stats_msa,\n",
    "    x=\"proportion\"\n",
    ")"
   ]
  },
  {
   "cell_type": "code",
   "execution_count": null,
   "metadata": {},
   "outputs": [],
   "source": []
  }
 ],
 "metadata": {
  "kernelspec": {
   "display_name": "Python 3.9.4 ('pbenv': venv)",
   "language": "python",
   "name": "python3"
  },
  "language_info": {
   "codemirror_mode": {
    "name": "ipython",
    "version": 3
   },
   "file_extension": ".py",
   "mimetype": "text/x-python",
   "name": "python",
   "nbconvert_exporter": "python",
   "pygments_lexer": "ipython3",
   "version": "3.9.4"
  },
  "orig_nbformat": 4,
  "vscode": {
   "interpreter": {
    "hash": "47a7d1b8626d32b7c6ea9f1aa80728323f525f86bb7f50d5251cf6ae4c6522f3"
   }
  }
 },
 "nbformat": 4,
 "nbformat_minor": 2
}
