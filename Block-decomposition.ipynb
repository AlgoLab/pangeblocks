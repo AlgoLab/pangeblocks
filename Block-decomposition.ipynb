{
 "cells": [
  {
   "cell_type": "markdown",
   "metadata": {},
   "source": [
    "## Examples\n",
    "\n",
    "### `Block`"
   ]
  },
  {
   "cell_type": "code",
   "execution_count": 1,
   "metadata": {},
   "outputs": [],
   "source": [
    "from pathlib import Path\n",
    "from src.blocks import BlockAnalyzer, Block, block_decomposition, Decomposer"
   ]
  },
  {
   "cell_type": "code",
   "execution_count": 4,
   "metadata": {},
   "outputs": [
    {
     "data": {
      "text/plain": [
       "PositionalString(b='ACGTAC', i=2, j=7)"
      ]
     },
     "execution_count": 4,
     "metadata": {},
     "output_type": "execute_result"
    }
   ],
   "source": [
    "Block(K=[1,2,3],i=2,j=7,label=\"ACGTAC\").to_positional_string()"
   ]
  },
  {
   "cell_type": "code",
   "execution_count": 2,
   "metadata": {},
   "outputs": [],
   "source": [
    "path_blocks = Path(\"out/blocks/Cluster_10644.json\")\n",
    "list_blocks = BlockAnalyzer()._load_list_blocks(path_blocks)"
   ]
  },
  {
   "cell_type": "code",
   "execution_count": 3,
   "metadata": {},
   "outputs": [
    {
     "data": {
      "text/plain": [
       "[Block(K=(1, 2), i=0, j=75, label='CACGATTCTCCCTTTGAGTTGATGAGGTTTCAGGGAAAAGGATAGCTGATTCTCCGCTTTTGCAAGTATGAAAGGC'),\n",
       " Block(K=(0, 1, 2), i=0, j=15, label='CACGATTCTCCCTTTG'),\n",
       " Block(K=(0, 1), i=17, j=81, label='GTTGATGAGGTTTCAGGGAAAAGGATAGCTGATTCTCCGCTTTTGCAAGTATGAAAGGCGAAAAA'),\n",
       " Block(K=(0, 1, 2), i=17, j=75, label='GTTGATGAGGTTTCAGGGAAAAGGATAGCTGATTCTCCGCTTTTGCAAGTATGAAAGGC'),\n",
       " Block(K=(0, 1, 2), i=77, j=81, label='AAAAA')]"
      ]
     },
     "execution_count": 3,
     "metadata": {},
     "output_type": "execute_result"
    }
   ],
   "source": [
    "list_blocks"
   ]
  },
  {
   "cell_type": "code",
   "execution_count": 4,
   "metadata": {},
   "outputs": [],
   "source": [
    "decomposer=Decomposer()\n",
    "new_blocks = decomposer(list_blocks)"
   ]
  },
  {
   "cell_type": "code",
   "execution_count": 5,
   "metadata": {},
   "outputs": [
    {
     "data": {
      "text/plain": [
       "(9, 5)"
      ]
     },
     "execution_count": 5,
     "metadata": {},
     "output_type": "execute_result"
    }
   ],
   "source": [
    "len(new_blocks), len(list_blocks)"
   ]
  },
  {
   "cell_type": "markdown",
   "metadata": {},
   "source": [
    "___\n",
    "## Sub alignments"
   ]
  },
  {
   "cell_type": "code",
   "execution_count": 3,
   "metadata": {},
   "outputs": [],
   "source": [
    "import random\n",
    "vec = [ random.choice([True,False]) for _ in range(10)] "
   ]
  },
  {
   "cell_type": "code",
   "execution_count": 4,
   "metadata": {},
   "outputs": [
    {
     "data": {
      "text/plain": [
       "[True, True, True, True, False, True, False, False, True, True]"
      ]
     },
     "execution_count": 4,
     "metadata": {},
     "output_type": "execute_result"
    }
   ],
   "source": [
    "vec"
   ]
  },
  {
   "cell_type": "code",
   "execution_count": 62,
   "metadata": {},
   "outputs": [
    {
     "name": "stdout",
     "output_type": "stream",
     "text": [
      "[True, True, True, True]\n",
      "[False]\n",
      "[True]\n",
      "[False, False]\n",
      "[True, True]\n"
     ]
    }
   ],
   "source": [
    "def split_vec_by_consecutive_values(vec):\n",
    "    splits=[]\n",
    "    curr_pos = 0\n",
    "    start = 0\n",
    "    end   = 0 \n",
    "\n",
    "    while curr_pos < len(vec)-1:\n",
    "        \n",
    "        if vec[curr_pos] == vec[curr_pos+1]:\n",
    "            end = curr_pos + 1 \n",
    "        else:\n",
    "            splits.append((start,end))\n",
    "            start = end + 1 \n",
    "            end = start\n",
    "\n",
    "        # move one position \n",
    "        curr_pos +=1\n",
    "\n",
    "    # append last consecutive (positions) of values\n",
    "    splits.append((start, end))\n",
    "\n",
    "    return splits\n",
    "\n",
    "splits = split_vec_by_consecutive_values(vec)\n",
    "\n",
    "# to access the values \n",
    "for start,end in splits:\n",
    "    print(vec[start:end+1])"
   ]
  },
  {
   "cell_type": "code",
   "execution_count": 64,
   "metadata": {},
   "outputs": [
    {
     "data": {
      "text/plain": [
       "2"
      ]
     },
     "execution_count": 64,
     "metadata": {},
     "output_type": "execute_result"
    }
   ],
   "source": [
    "end-start+1"
   ]
  },
  {
   "cell_type": "code",
   "execution_count": null,
   "metadata": {},
   "outputs": [],
   "source": []
  },
  {
   "attachments": {},
   "cell_type": "markdown",
   "metadata": {},
   "source": [
    "## Suffix tree and maximal repeats"
   ]
  },
  {
   "cell_type": "code",
   "execution_count": 2,
   "metadata": {},
   "outputs": [],
   "source": [
    "import json\n",
    "from Bio import AlignIO\n",
    "from suffix_tree import Tree"
   ]
  },
  {
   "cell_type": "code",
   "execution_count": 3,
   "metadata": {},
   "outputs": [],
   "source": [
    "filename = \"../data/Cluster_4991.fa\"\n",
    "align = AlignIO.read(filename, \"fasta\")\n",
    "n_cols = align.get_alignment_length()\n",
    "n_seqs = len(align)\n",
    "seqs = list(set([str(record.seq) for record in align]))\n",
    "n_unique_seqs = len(seqs)\n",
    "\n",
    "# def compute_max_blocks(seqs):\n",
    "tree = Tree({num: enumerate(seq) for num, seq in enumerate(seqs)})\n",
    "blocks = [path for (c, path) in tree.maximal_repeats()]\n",
    "decoded_blocks = [\n",
    "    (b[0][0],  # start positional-string \n",
    "     b[-1][0], # end positional-string\n",
    "     \"\".join([c[1] for c in b if type(c) == tuple]) # substring positional-string\n",
    "     ) for b in blocks\n",
    "]\n",
    "    # return decoded_blocks"
   ]
  },
  {
   "cell_type": "code",
   "execution_count": 4,
   "metadata": {},
   "outputs": [
    {
     "name": "stdout",
     "output_type": "stream",
     "text": [
      "(0, 'C')\n",
      "(1, 'C')\n",
      "(2, 'T')\n",
      "(3, 'T')\n",
      "(4, 'T')\n",
      "(5, 'A')\n",
      "(6, 'A')\n",
      "(7, 'T')\n",
      "(8, 'T')\n"
     ]
    }
   ],
   "source": [
    "decoded_blocks\n",
    "b = blocks[0]\n",
    "for c in b:\n",
    "    print(c)"
   ]
  },
  {
   "cell_type": "code",
   "execution_count": 6,
   "metadata": {},
   "outputs": [],
   "source": [
    "lc = [c for c in zip(*seqs)]"
   ]
  },
  {
   "cell_type": "code",
   "execution_count": 17,
   "metadata": {},
   "outputs": [
    {
     "data": {
      "text/plain": [
       "15"
      ]
     },
     "execution_count": 17,
     "metadata": {},
     "output_type": "execute_result"
    }
   ],
   "source": [
    "len(lc[3])"
   ]
  },
  {
   "cell_type": "code",
   "execution_count": 9,
   "metadata": {},
   "outputs": [
    {
     "data": {
      "text/plain": [
       "210"
      ]
     },
     "execution_count": 9,
     "metadata": {},
     "output_type": "execute_result"
    }
   ],
   "source": [
    "n_cols"
   ]
  },
  {
   "cell_type": "code",
   "execution_count": 14,
   "metadata": {},
   "outputs": [
    {
     "data": {
      "text/plain": [
       "157"
      ]
     },
     "execution_count": 14,
     "metadata": {},
     "output_type": "execute_result"
    }
   ],
   "source": [
    "n_seqs"
   ]
  },
  {
   "cell_type": "code",
   "execution_count": 15,
   "metadata": {},
   "outputs": [
    {
     "data": {
      "text/plain": [
       "15"
      ]
     },
     "execution_count": 15,
     "metadata": {},
     "output_type": "execute_result"
    }
   ],
   "source": [
    "len(seqs)"
   ]
  },
  {
   "cell_type": "code",
   "execution_count": null,
   "metadata": {},
   "outputs": [],
   "source": []
  },
  {
   "cell_type": "code",
   "execution_count": null,
   "metadata": {},
   "outputs": [],
   "source": []
  }
 ],
 "metadata": {
  "kernelspec": {
   "display_name": "pbenv",
   "language": "python",
   "name": "python3"
  },
  "language_info": {
   "codemirror_mode": {
    "name": "ipython",
    "version": 3
   },
   "file_extension": ".py",
   "mimetype": "text/x-python",
   "name": "python",
   "nbconvert_exporter": "python",
   "pygments_lexer": "ipython3",
   "version": "3.10.6"
  },
  "orig_nbformat": 4,
  "vscode": {
   "interpreter": {
    "hash": "7a3f744a40f2cc2bb6ed47f09e67b858fce5d2f0f12c5fcd35c0d04a62dbf281"
   }
  }
 },
 "nbformat": 4,
 "nbformat_minor": 2
}
