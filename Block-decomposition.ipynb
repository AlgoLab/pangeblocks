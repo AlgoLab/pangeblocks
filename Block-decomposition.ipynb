{
 "cells": [
  {
   "cell_type": "code",
   "execution_count": 22,
   "metadata": {},
   "outputs": [],
   "source": [
    "from pathlib import Path\n",
    "from src.blocks import BlockStats, Block, block_decomposition\n",
    "from src.positional_strings import positional_string_from_block, PositionalString"
   ]
  },
  {
   "cell_type": "code",
   "execution_count": 23,
   "metadata": {},
   "outputs": [],
   "source": [
    "path_blocks = Path(\"out/blocks/GC00000011_8.json\")\n",
    "list_blocks = BlockStats()._load_list_blocks(path_blocks)"
   ]
  },
  {
   "cell_type": "code",
   "execution_count": 24,
   "metadata": {},
   "outputs": [
    {
     "data": {
      "text/plain": [
       "[Block(K=[2, 3], i=0, j=32, label='---------------------------------'),\n",
       " Block(K=[0, 1], i=0, j=172, label='ATGAGATTGCGCAAGCGTTGCTTAATAACACGTATACGTTGTTTAACGTGCCGTAGGCCGGATAAGGCGTTCACGCCGCATCCGGCAGTTGGCGCACAATGCCTGATGCGACGCTTAACGCGTCTTATCATGCCTACAGGTTTGTGCCGAACCGTAGGCCGGATAAGGCGTTC'),\n",
       " Block(K=[0, 1, 2], i=33, j=34, label='AT'),\n",
       " Block(K=[0, 1, 2], i=36, j=70, label='CGTTGTTTAACGTGCCGTAGGCCGGATAAGGCGTT'),\n",
       " Block(K=[0, 1, 2], i=72, j=115, label='ACGCCGCATCCGGCAGTTGGCGCACAATGCCTGATGCGACGCTT'),\n",
       " Block(K=[2, 3], i=105, j=173, label='ATGCGACGCTTGACGCGTCTTATCATGCCTACAAGTCTGTGCCGAACCGTAGGCCGGATAAGGCGTTCA'),\n",
       " Block(K=[0, 1, 2, 3], i=105, j=115, label='ATGCGACGCTT'),\n",
       " Block(K=[0, 1, 2, 3], i=117, j=137, label='ACGCGTCTTATCATGCCTACA'),\n",
       " Block(K=[0, 1, 2, 3], i=139, j=140, label='GT'),\n",
       " Block(K=[0, 2], i=142, j=203, label='TGTGCCGAACCGTAGGCCGGATAAGGCGTTCACGCCGCATCCGGCAGTTGGCGCACAATGCC'),\n",
       " Block(K=[0, 2, 3], i=142, j=173, label='TGTGCCGAACCGTAGGCCGGATAAGGCGTTCA'),\n",
       " Block(K=[0, 1, 2, 3], i=142, j=172, label='TGTGCCGAACCGTAGGCCGGATAAGGCGTTC'),\n",
       " Block(K=[0, 1], i=174, j=215, label='CGCCGCATCCGGCAGTTGGCGCACAATGCC------------'),\n",
       " Block(K=[0, 1, 2], i=174, j=203, label='CGCCGCATCCGGCAGTTGGCGCACAATGCC'),\n",
       " Block(K=[0, 1, 3], i=175, j=215, label='GCCGCATCCGGCAGTTGGCGCACAATGCC------------'),\n",
       " Block(K=[0, 1, 2, 3], i=175, j=203, label='GCCGCATCCGGCAGTTGGCGCACAATGCC')]"
      ]
     },
     "execution_count": 24,
     "metadata": {},
     "output_type": "execute_result"
    }
   ],
   "source": [
    "list_blocks"
   ]
  },
  {
   "cell_type": "code",
   "execution_count": 25,
   "metadata": {},
   "outputs": [],
   "source": [
    "matrix_inter = BlockStats()._matrix_inter_blocks(list_blocks)"
   ]
  },
  {
   "cell_type": "code",
   "execution_count": 31,
   "metadata": {},
   "outputs": [],
   "source": [
    "import numpy as np\n",
    "rows, cols = np.where(matrix_inter>0)"
   ]
  },
  {
   "cell_type": "code",
   "execution_count": 33,
   "metadata": {},
   "outputs": [
    {
     "data": {
      "text/plain": [
       "(array([ 1,  1,  1,  1,  1,  1,  1,  1,  1,  2,  3,  4,  4,  4,  5,  5,  5,\n",
       "         5,  5,  5,  5,  6,  6,  6,  7,  7,  8,  8,  9,  9,  9,  9,  9,  9,\n",
       "         9,  9, 10, 10, 10, 10, 11, 11, 11, 11, 12, 12, 12, 12, 13, 13, 13,\n",
       "        13, 14, 14, 14, 14]),\n",
       " array([ 2,  3,  4,  6,  7,  8,  9, 10, 11,  1,  1,  1,  5,  6,  4,  6,  7,\n",
       "         8,  9, 10, 11,  1,  4,  5,  1,  5,  1,  5,  1,  5, 10, 11, 12, 13,\n",
       "        14, 15,  1,  5,  9, 11,  1,  5,  9, 10,  9, 13, 14, 15,  9, 12, 14,\n",
       "        15,  9, 12, 13, 15]))"
      ]
     },
     "execution_count": 33,
     "metadata": {},
     "output_type": "execute_result"
    }
   ],
   "source": [
    "rows,cols"
   ]
  },
  {
   "cell_type": "code",
   "execution_count": 27,
   "metadata": {},
   "outputs": [],
   "source": [
    "# for row, col in zip(rows,cols):\n",
    "#     print(list_blocks[row], list_blocks[col])\n",
    "niter=iter(zip(rows,cols))"
   ]
  },
  {
   "cell_type": "code",
   "execution_count": 28,
   "metadata": {},
   "outputs": [
    {
     "data": {
      "text/plain": [
       "(Block(K=[0, 1], i=0, j=172, label='ATGAGATTGCGCAAGCGTTGCTTAATAACACGTATACGTTGTTTAACGTGCCGTAGGCCGGATAAGGCGTTCACGCCGCATCCGGCAGTTGGCGCACAATGCCTGATGCGACGCTTAACGCGTCTTATCATGCCTACAGGTTTGTGCCGAACCGTAGGCCGGATAAGGCGTTC'),\n",
       " Block(K=[0, 1, 2], i=33, j=34, label='AT'))"
      ]
     },
     "execution_count": 28,
     "metadata": {},
     "output_type": "execute_result"
    }
   ],
   "source": [
    "n = next(niter)\n",
    "b1=list_blocks[n[0]]\n",
    "b2=list_blocks[n[1]]\n",
    "b1,b2"
   ]
  },
  {
   "cell_type": "code",
   "execution_count": 30,
   "metadata": {},
   "outputs": [
    {
     "name": "stdout",
     "output_type": "stream",
     "text": [
      "Condicion2\n"
     ]
    },
    {
     "data": {
      "text/plain": [
       "[Block(K=[0, 1], i=0, j=32, label='ATGAGATTGCGCAAGCGTTGCTTAATAACACGT'),\n",
       " Block(K=[0, 1, 2], i=33, j=34, label='AT'),\n",
       " Block(K=[0, 1], i=35, j=172, label='ACGTTGTTTAACGTGCCGTAGGCCGGATAAGGCGTTCACGCCGCATCCGGCAGTTGGCGCACAATGCCTGATGCGACGCTTAACGCGTCTTATCATGCCTACAGGTTTGTGCCGAACCGTAGGCCGGATAAGGCGTTC')]"
      ]
     },
     "execution_count": 30,
     "metadata": {},
     "output_type": "execute_result"
    }
   ],
   "source": [
    "block_decomposition(b1,b2)"
   ]
  },
  {
   "cell_type": "code",
   "execution_count": null,
   "metadata": {},
   "outputs": [],
   "source": []
  },
  {
   "cell_type": "markdown",
   "metadata": {},
   "source": [
    "___\n",
    "## Block decomposition\n",
    "Given a list of blocks, decompose intersections "
   ]
  },
  {
   "cell_type": "markdown",
   "metadata": {},
   "source": []
  }
 ],
 "metadata": {
  "kernelspec": {
   "display_name": "Python 3.9.4 ('pbenv': venv)",
   "language": "python",
   "name": "python3"
  },
  "language_info": {
   "codemirror_mode": {
    "name": "ipython",
    "version": 3
   },
   "file_extension": ".py",
   "mimetype": "text/x-python",
   "name": "python",
   "nbconvert_exporter": "python",
   "pygments_lexer": "ipython3",
   "version": "3.9.4"
  },
  "orig_nbformat": 4,
  "vscode": {
   "interpreter": {
    "hash": "47a7d1b8626d32b7c6ea9f1aa80728323f525f86bb7f50d5251cf6ae4c6522f3"
   }
  }
 },
 "nbformat": 4,
 "nbformat_minor": 2
}
