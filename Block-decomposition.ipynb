{
 "cells": [
  {
   "cell_type": "code",
   "execution_count": 1,
   "metadata": {},
   "outputs": [],
   "source": [
    "from pathlib import Path\n",
    "from src.blocks import BlockAnalyzer, Block, block_decomposition, Decomposer\n",
    "from src.positional_strings import positional_string_from_block, PositionalString"
   ]
  },
  {
   "cell_type": "code",
   "execution_count": 2,
   "metadata": {},
   "outputs": [],
   "source": [
    "path_blocks = Path(\"out/blocks/GC00000011_8.json\")\n",
    "list_blocks = BlockAnalyzer()._load_list_blocks(path_blocks)"
   ]
  },
  {
   "cell_type": "code",
   "execution_count": 3,
   "metadata": {},
   "outputs": [
    {
     "data": {
      "text/plain": [
       "[Block(K=(2, 3), i=0, j=32, label='---------------------------------'),\n",
       " Block(K=(0, 1), i=0, j=172, label='ATGAGATTGCGCAAGCGTTGCTTAATAACACGTATACGTTGTTTAACGTGCCGTAGGCCGGATAAGGCGTTCACGCCGCATCCGGCAGTTGGCGCACAATGCCTGATGCGACGCTTAACGCGTCTTATCATGCCTACAGGTTTGTGCCGAACCGTAGGCCGGATAAGGCGTTC'),\n",
       " Block(K=(0, 1, 2), i=33, j=34, label='AT'),\n",
       " Block(K=(0, 1, 2), i=36, j=70, label='CGTTGTTTAACGTGCCGTAGGCCGGATAAGGCGTT'),\n",
       " Block(K=(0, 1, 2), i=72, j=115, label='ACGCCGCATCCGGCAGTTGGCGCACAATGCCTGATGCGACGCTT'),\n",
       " Block(K=(2, 3), i=105, j=173, label='ATGCGACGCTTGACGCGTCTTATCATGCCTACAAGTCTGTGCCGAACCGTAGGCCGGATAAGGCGTTCA'),\n",
       " Block(K=(0, 1, 2, 3), i=105, j=115, label='ATGCGACGCTT'),\n",
       " Block(K=(0, 1, 2, 3), i=117, j=137, label='ACGCGTCTTATCATGCCTACA'),\n",
       " Block(K=(0, 1, 2, 3), i=139, j=140, label='GT'),\n",
       " Block(K=(0, 2), i=142, j=203, label='TGTGCCGAACCGTAGGCCGGATAAGGCGTTCACGCCGCATCCGGCAGTTGGCGCACAATGCC'),\n",
       " Block(K=(0, 2, 3), i=142, j=173, label='TGTGCCGAACCGTAGGCCGGATAAGGCGTTCA'),\n",
       " Block(K=(0, 1, 2, 3), i=142, j=172, label='TGTGCCGAACCGTAGGCCGGATAAGGCGTTC'),\n",
       " Block(K=(0, 1), i=174, j=215, label='CGCCGCATCCGGCAGTTGGCGCACAATGCC------------'),\n",
       " Block(K=(0, 1, 2), i=174, j=203, label='CGCCGCATCCGGCAGTTGGCGCACAATGCC'),\n",
       " Block(K=(0, 1, 3), i=175, j=215, label='GCCGCATCCGGCAGTTGGCGCACAATGCC------------'),\n",
       " Block(K=(0, 1, 2, 3), i=175, j=203, label='GCCGCATCCGGCAGTTGGCGCACAATGCC')]"
      ]
     },
     "execution_count": 3,
     "metadata": {},
     "output_type": "execute_result"
    }
   ],
   "source": [
    "list_blocks"
   ]
  },
  {
   "cell_type": "code",
   "execution_count": 4,
   "metadata": {},
   "outputs": [],
   "source": [
    "decomposer=Decomposer()\n",
    "new_blocks = decomposer(list_blocks)"
   ]
  },
  {
   "cell_type": "code",
   "execution_count": 5,
   "metadata": {},
   "outputs": [
    {
     "data": {
      "text/plain": [
       "(45, 16)"
      ]
     },
     "execution_count": 5,
     "metadata": {},
     "output_type": "execute_result"
    }
   ],
   "source": [
    "len(new_blocks), len(list_blocks)"
   ]
  },
  {
   "cell_type": "code",
   "execution_count": 6,
   "metadata": {},
   "outputs": [
    {
     "data": {
      "text/plain": [
       "((2, 3), 141, 173, 'CTGTGCCGAACCGTAGGCCGGATAAGGCGTTCA')"
      ]
     },
     "execution_count": 6,
     "metadata": {},
     "output_type": "execute_result"
    }
   ],
   "source": [
    "import dataclasses\n",
    "dataclasses.astuple(new_blocks[0])"
   ]
  },
  {
   "cell_type": "code",
   "execution_count": 7,
   "metadata": {},
   "outputs": [
    {
     "data": {
      "text/plain": [
       "defaultdict(int,\n",
       "            {Block(K=(2, 3), i=141, j=173, label='CTGTGCCGAACCGTAGGCCGGATAAGGCGTTCA'): 1,\n",
       "             Block(K=(0, 1, 2, 3), i=175, j=203, label='GCCGCATCCGGCAGTTGGCGCACAATGCC'): 1,\n",
       "             Block(K=(0, 1), i=174, j=215, label='CGCCGCATCCGGCAGTTGGCGCACAATGCC------------'): 1,\n",
       "             Block(K=(0, 1), i=0, j=35, label='ATGAGATTGCGCAAGCGTTGCTTAATAACACGTATA'): 1,\n",
       "             Block(K=(0, 1, 2, 3), i=142, j=172, label='TGTGCCGAACCGTAGGCCGGATAAGGCGTTC'): 1,\n",
       "             Block(K=(0, 1), i=71, j=172, label='CACGCCGCATCCGGCAGTTGGCGCACAATGCCTGATGCGACGCTTAACGCGTCTTATCATGCCTACAGGTTTGTGCCGAACCGTAGGCCGGATAAGGCGTTC'): 1,\n",
       "             Block(K=(0, 1), i=0, j=32, label='ATGAGATTGCGCAAGCGTTGCTTAATAACACGT'): 1,\n",
       "             Block(K=(2, 3), i=105, j=173, label='ATGCGACGCTTGACGCGTCTTATCATGCCTACAAGTCTGTGCCGAACCGTAGGCCGGATAAGGCGTTCA'): 1,\n",
       "             Block(K=(0, 1), i=116, j=172, label='AACGCGTCTTATCATGCCTACAGGTTTGTGCCGAACCGTAGGCCGGATAAGGCGTTC'): 1,\n",
       "             Block(K=(0, 1, 2), i=174, j=174, label='C'): 1,\n",
       "             Block(K=(0, 1), i=138, j=172, label='GGTTTGTGCCGAACCGTAGGCCGGATAAGGCGTTC'): 1,\n",
       "             Block(K=(0, 1), i=204, j=215, label='------------'): 1,\n",
       "             Block(K=(0, 2), i=174, j=203, label='CGCCGCATCCGGCAGTTGGCGCACAATGCC'): 1,\n",
       "             Block(K=(0, 1), i=0, j=104, label='ATGAGATTGCGCAAGCGTTGCTTAATAACACGTATACGTTGTTTAACGTGCCGTAGGCCGGATAAGGCGTTCACGCCGCATCCGGCAGTTGGCGCACAATGCCTG'): 1,\n",
       "             Block(K=(2, 3), i=138, j=173, label='AGTCTGTGCCGAACCGTAGGCCGGATAAGGCGTTCA'): 1,\n",
       "             Block(K=(0, 2), i=142, j=174, label='TGTGCCGAACCGTAGGCCGGATAAGGCGTTCAC'): 1,\n",
       "             Block(K=(2, 3), i=105, j=138, label='ATGCGACGCTTGACGCGTCTTATCATGCCTACAA'): 1,\n",
       "             Block(K=(0, 2), i=142, j=173, label='TGTGCCGAACCGTAGGCCGGATAAGGCGTTCA'): 1,\n",
       "             Block(K=(0, 1, 2), i=72, j=115, label='ACGCCGCATCCGGCAGTTGGCGCACAATGCCTGATGCGACGCTT'): 1,\n",
       "             Block(K=(0, 1, 2, 3), i=105, j=115, label='ATGCGACGCTT'): 1,\n",
       "             Block(K=(0, 1, 2, 3), i=139, j=140, label='GT'): 1,\n",
       "             Block(K=(0, 1), i=0, j=138, label='ATGAGATTGCGCAAGCGTTGCTTAATAACACGTATACGTTGTTTAACGTGCCGTAGGCCGGATAAGGCGTTCACGCCGCATCCGGCAGTTGGCGCACAATGCCTGATGCGACGCTTAACGCGTCTTATCATGCCTACAG'): 1,\n",
       "             Block(K=(0, 1), i=0, j=172, label='ATGAGATTGCGCAAGCGTTGCTTAATAACACGTATACGTTGTTTAACGTGCCGTAGGCCGGATAAGGCGTTCACGCCGCATCCGGCAGTTGGCGCACAATGCCTGATGCGACGCTTAACGCGTCTTATCATGCCTACAGGTTTGTGCCGAACCGTAGGCCGGATAAGGCGTTC'): 1,\n",
       "             Block(K=(0, 1), i=0, j=141, label='ATGAGATTGCGCAAGCGTTGCTTAATAACACGTATACGTTGTTTAACGTGCCGTAGGCCGGATAAGGCGTTCACGCCGCATCCGGCAGTTGGCGCACAATGCCTGATGCGACGCTTAACGCGTCTTATCATGCCTACAGGTT'): 1,\n",
       "             Block(K=(2, 3), i=0, j=32, label='---------------------------------'): 1,\n",
       "             Block(K=(0, 2, 3), i=142, j=173, label='TGTGCCGAACCGTAGGCCGGATAAGGCGTTCA'): 1,\n",
       "             Block(K=(0, 1), i=141, j=172, label='TTGTGCCGAACCGTAGGCCGGATAAGGCGTTC'): 1,\n",
       "             Block(K=(0, 2, 3), i=173, j=173, label='A'): 1,\n",
       "             Block(K=(0, 1, 2, 3), i=117, j=137, label='ACGCGTCTTATCATGCCTACA'): 1,\n",
       "             Block(K=(0, 1, 3), i=204, j=215, label='------------'): 1,\n",
       "             Block(K=(0, 1), i=35, j=172, label='ACGTTGTTTAACGTGCCGTAGGCCGGATAAGGCGTTCACGCCGCATCCGGCAGTTGGCGCACAATGCCTGATGCGACGCTTAACGCGTCTTATCATGCCTACAGGTTTGTGCCGAACCGTAGGCCGGATAAGGCGTTC'): 1,\n",
       "             Block(K=(2, 3), i=105, j=141, label='ATGCGACGCTTGACGCGTCTTATCATGCCTACAAGTC'): 1,\n",
       "             Block(K=(2, 3), i=105, j=116, label='ATGCGACGCTTG'): 1,\n",
       "             Block(K=(0, 1, 2), i=72, j=104, label='ACGCCGCATCCGGCAGTTGGCGCACAATGCCTG'): 1,\n",
       "             Block(K=(0, 2), i=142, j=203, label='TGTGCCGAACCGTAGGCCGGATAAGGCGTTCACGCCGCATCCGGCAGTTGGCGCACAATGCC'): 1,\n",
       "             Block(K=(0, 1, 3), i=175, j=215, label='GCCGCATCCGGCAGTTGGCGCACAATGCC------------'): 1,\n",
       "             Block(K=(2, 3), i=173, j=173, label='A'): 1,\n",
       "             Block(K=(0, 1, 2), i=36, j=70, label='CGTTGTTTAACGTGCCGTAGGCCGGATAAGGCGTT'): 1,\n",
       "             Block(K=(0, 1, 2), i=174, j=203, label='CGCCGCATCCGGCAGTTGGCGCACAATGCC'): 1,\n",
       "             Block(K=(0, 1, 2), i=33, j=34, label='AT'): 1,\n",
       "             Block(K=(2, 3), i=116, j=173, label='GACGCGTCTTATCATGCCTACAAGTCTGTGCCGAACCGTAGGCCGGATAAGGCGTTCA'): 1,\n",
       "             Block(K=(0, 1), i=174, j=174, label='C'): 1,\n",
       "             Block(K=(0, 1), i=0, j=71, label='ATGAGATTGCGCAAGCGTTGCTTAATAACACGTATACGTTGTTTAACGTGCCGTAGGCCGGATAAGGCGTTC'): 1,\n",
       "             Block(K=(0, 2), i=173, j=203, label='ACGCCGCATCCGGCAGTTGGCGCACAATGCC'): 1,\n",
       "             Block(K=(0, 1), i=0, j=116, label='ATGAGATTGCGCAAGCGTTGCTTAATAACACGTATACGTTGTTTAACGTGCCGTAGGCCGGATAAGGCGTTCACGCCGCATCCGGCAGTTGGCGCACAATGCCTGATGCGACGCTTA'): 1})"
      ]
     },
     "execution_count": 7,
     "metadata": {},
     "output_type": "execute_result"
    }
   ],
   "source": [
    "from collections import defaultdict\n",
    "d = defaultdict(int)\n",
    "for block in new_blocks:\n",
    "    d[ block ] +=1\n",
    "d"
   ]
  },
  {
   "cell_type": "markdown",
   "metadata": {},
   "source": [
    "___\n",
    "## Block decomposition\n",
    "Given a list of blocks, decompose intersections "
   ]
  }
 ],
 "metadata": {
  "kernelspec": {
   "display_name": "Python 3.9.4 ('pbenv': venv)",
   "language": "python",
   "name": "python3"
  },
  "language_info": {
   "codemirror_mode": {
    "name": "ipython",
    "version": 3
   },
   "file_extension": ".py",
   "mimetype": "text/x-python",
   "name": "python",
   "nbconvert_exporter": "python",
   "pygments_lexer": "ipython3",
   "version": "3.9.4"
  },
  "orig_nbformat": 4,
  "vscode": {
   "interpreter": {
    "hash": "47a7d1b8626d32b7c6ea9f1aa80728323f525f86bb7f50d5251cf6ae4c6522f3"
   }
  }
 },
 "nbformat": 4,
 "nbformat_minor": 2
}
